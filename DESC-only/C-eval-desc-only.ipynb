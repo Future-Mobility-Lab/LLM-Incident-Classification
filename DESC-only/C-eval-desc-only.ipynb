{
 "cells": [
  {
   "cell_type": "code",
   "execution_count": 11,
   "id": "4d02288e",
   "metadata": {},
   "outputs": [],
   "source": [
    "import numpy as np\n",
    "import pandas as pd\n",
    "\n",
    "def load_features(model_name):\n",
    "    return np.load(f'{model_name}_features.npz')['data']\n",
    "dt = pd.read_csv('subset-LA-even.csv')\n",
    "# Define the list of model names"
   ]
  },
  {
   "cell_type": "code",
   "execution_count": 12,
   "id": "9658a90d",
   "metadata": {},
   "outputs": [],
   "source": [
    "model_names = ['distilroberta','bert-cased']#,'bert', 'bert-large', 'gpt2', 'roberta', 'roberta-large', 'xlnet', 'xlnet-large','albert','albert-large']#[]\n"
   ]
  },
  {
   "cell_type": "code",
   "execution_count": 14,
   "id": "f838c360",
   "metadata": {},
   "outputs": [
    {
     "name": "stdout",
     "output_type": "stream",
     "text": [
      "distilroberta (48714, 768)\n",
      "bert-cased (48714, 768)\n"
     ]
    }
   ],
   "source": [
    "for M in model_names:\n",
    "    NLP = load_features(M)\n",
    "    \n",
    "    print(M, NLP.shape)"
   ]
  },
  {
   "cell_type": "code",
   "execution_count": null,
   "id": "684f6ec5",
   "metadata": {},
   "outputs": [],
   "source": []
  },
  {
   "cell_type": "code",
   "execution_count": 2,
   "id": "8c1e236e",
   "metadata": {},
   "outputs": [],
   "source": [
    "# dt.fulltext[9]"
   ]
  },
  {
   "cell_type": "code",
   "execution_count": 15,
   "id": "d341d847",
   "metadata": {},
   "outputs": [
    {
     "data": {
      "image/png": "[encoded data removed]",
      "text/plain": [
       "<Figure size 432x288 with 1 Axes>"
      ]
     },
     "metadata": {
      "needs_background": "light"
     },
     "output_type": "display_data"
    }
   ],
   "source": [
    "import matplotlib.pyplot as plt\n",
    "plt.hist(dt.Severity)\n",
    "plt.xticks(np.arange(1,5),fontsize=16)\n",
    "plt.xlabel('Severity class',fontsize=18)\n",
    "plt.grid()\n",
    "plt.yticks(np.arange(0,6000,1000),fontsize=14)\n",
    "plt.tight_layout()\n",
    "plt.savefig('S-hist.pdf')"
   ]
  },
  {
   "cell_type": "code",
   "execution_count": 18,
   "id": "1cbc51ae",
   "metadata": {},
   "outputs": [
    {
     "name": "stdout",
     "output_type": "stream",
     "text": [
      "Loading features for language model: distilroberta...\n",
      "distilroberta NLP\n",
      "Cross-validating Light GBM...\n",
      "[LightGBM] [Warning] Auto-choosing col-wise multi-threading, the overhead of testing was 0.072025 seconds.\n",
      "You can set `force_col_wise=true` to remove the overhead.\n",
      "[LightGBM] [Info] Total Bins 195840\n",
      "[LightGBM] [Info] Number of data points in the train set: 43842, number of used features: 768\n",
      "[LightGBM] [Info] Start training from score -1.368794\n",
      "[LightGBM] [Info] Start training from score -1.391738\n",
      "[LightGBM] [Info] Start training from score -1.372747\n",
      "[LightGBM] [Info] Start training from score -1.412500\n",
      "[LightGBM] [Warning] Auto-choosing col-wise multi-threading, the overhead of testing was 0.054940 seconds.\n",
      "You can set `force_col_wise=true` to remove the overhead.\n",
      "[LightGBM] [Info] Total Bins 195840\n",
      "[LightGBM] [Info] Number of data points in the train set: 43842, number of used features: 768\n",
      "[LightGBM] [Info] Start training from score -1.368794\n",
      "[LightGBM] [Info] Start training from score -1.391738\n",
      "[LightGBM] [Info] Start training from score -1.372747\n",
      "[LightGBM] [Info] Start training from score -1.412500\n",
      "[LightGBM] [Warning] Auto-choosing col-wise multi-threading, the overhead of testing was 0.056601 seconds.\n",
      "You can set `force_col_wise=true` to remove the overhead.\n",
      "[LightGBM] [Info] Total Bins 195840\n",
      "[LightGBM] [Info] Number of data points in the train set: 43842, number of used features: 768\n",
      "[LightGBM] [Info] Start training from score -1.368794\n",
      "[LightGBM] [Info] Start training from score -1.391738\n",
      "[LightGBM] [Info] Start training from score -1.372747\n",
      "[LightGBM] [Info] Start training from score -1.412500\n",
      "[LightGBM] [Warning] Auto-choosing col-wise multi-threading, the overhead of testing was 0.055717 seconds.\n",
      "You can set `force_col_wise=true` to remove the overhead.\n",
      "[LightGBM] [Info] Total Bins 195840\n",
      "[LightGBM] [Info] Number of data points in the train set: 43842, number of used features: 768\n",
      "[LightGBM] [Info] Start training from score -1.368794\n",
      "[LightGBM] [Info] Start training from score -1.391738\n",
      "[LightGBM] [Info] Start training from score -1.372747\n",
      "[LightGBM] [Info] Start training from score -1.412500\n",
      "[LightGBM] [Warning] Auto-choosing col-wise multi-threading, the overhead of testing was 0.058532 seconds.\n",
      "You can set `force_col_wise=true` to remove the overhead.\n",
      "[LightGBM] [Info] Total Bins 195840\n",
      "[LightGBM] [Info] Number of data points in the train set: 43843, number of used features: 768\n",
      "[LightGBM] [Info] Start training from score -1.368817\n",
      "[LightGBM] [Info] Start training from score -1.391761\n",
      "[LightGBM] [Info] Start training from score -1.372769\n",
      "[LightGBM] [Info] Start training from score -1.412430\n",
      "[LightGBM] [Warning] Auto-choosing col-wise multi-threading, the overhead of testing was 0.055606 seconds.\n",
      "You can set `force_col_wise=true` to remove the overhead.\n",
      "[LightGBM] [Info] Total Bins 195840\n",
      "[LightGBM] [Info] Number of data points in the train set: 43843, number of used features: 768\n",
      "[LightGBM] [Info] Start training from score -1.368817\n",
      "[LightGBM] [Info] Start training from score -1.391852\n",
      "[LightGBM] [Info] Start training from score -1.372679\n",
      "[LightGBM] [Info] Start training from score -1.412430\n",
      "[LightGBM] [Warning] Auto-choosing col-wise multi-threading, the overhead of testing was 0.057678 seconds.\n",
      "You can set `force_col_wise=true` to remove the overhead.\n",
      "[LightGBM] [Info] Total Bins 195840\n",
      "[LightGBM] [Info] Number of data points in the train set: 43843, number of used features: 768\n",
      "[LightGBM] [Info] Start training from score -1.368817\n",
      "[LightGBM] [Info] Start training from score -1.391852\n",
      "[LightGBM] [Info] Start training from score -1.372679\n",
      "[LightGBM] [Info] Start training from score -1.412430\n",
      "[LightGBM] [Warning] Auto-choosing col-wise multi-threading, the overhead of testing was 0.057035 seconds.\n",
      "You can set `force_col_wise=true` to remove the overhead.\n",
      "[LightGBM] [Info] Total Bins 195840\n",
      "[LightGBM] [Info] Number of data points in the train set: 43843, number of used features: 768\n",
      "[LightGBM] [Info] Start training from score -1.368907\n",
      "[LightGBM] [Info] Start training from score -1.391761\n",
      "[LightGBM] [Info] Start training from score -1.372679\n",
      "[LightGBM] [Info] Start training from score -1.412430\n",
      "[LightGBM] [Warning] Auto-choosing col-wise multi-threading, the overhead of testing was 0.053004 seconds.\n",
      "You can set `force_col_wise=true` to remove the overhead.\n",
      "[LightGBM] [Info] Total Bins 195840\n",
      "[LightGBM] [Info] Number of data points in the train set: 43843, number of used features: 768\n",
      "[LightGBM] [Info] Start training from score -1.368907\n",
      "[LightGBM] [Info] Start training from score -1.391761\n",
      "[LightGBM] [Info] Start training from score -1.372679\n",
      "[LightGBM] [Info] Start training from score -1.412430\n",
      "[LightGBM] [Warning] Auto-choosing col-wise multi-threading, the overhead of testing was 0.057922 seconds.\n",
      "You can set `force_col_wise=true` to remove the overhead.\n",
      "[LightGBM] [Info] Total Bins 195840\n",
      "[LightGBM] [Info] Number of data points in the train set: 43843, number of used features: 768\n",
      "[LightGBM] [Info] Start training from score -1.368907\n",
      "[LightGBM] [Info] Start training from score -1.391761\n",
      "[LightGBM] [Info] Start training from score -1.372679\n",
      "[LightGBM] [Info] Start training from score -1.412430\n",
      "Light GBM cross-validation complete. \n",
      "\tAverage Accuracy: 0.8676356778278602,\n",
      "\tAverage F1 Score: 0.8672825690293227,\n",
      "\tAverage Precision: 0.8714021563070299,\n",
      "\tAverage Recall: 0.8674583760607668\n",
      "\n",
      "Cross-validating K-Nearest Neighbors...\n",
      "K-Nearest Neighbors cross-validation complete. \n",
      "\tAverage Accuracy: 0.8484624747045195,\n",
      "\tAverage F1 Score: 0.8484222209368619,\n",
      "\tAverage Precision: 0.8528829230662268,\n",
      "\tAverage Recall: 0.8483271757127209\n",
      "\n",
      "Cross-validating Random Forest...\n",
      "Random Forest cross-validation complete. \n",
      "\tAverage Accuracy: 0.8574743404465759,\n",
      "\tAverage F1 Score: 0.8573519191987724,\n",
      "\tAverage Precision: 0.8620267221546914,\n",
      "\tAverage Recall: 0.857280948869029\n",
      "\n",
      "Cross-validating XGBoost...\n"
     ]
    },
    {
     "name": "stderr",
     "output_type": "stream",
     "text": [
      "/home/agrigore/ENV/lib64/python3.6/site-packages/xgboost/sklearn.py:1224: UserWarning: The use of label encoder in XGBClassifier is deprecated and will be removed in a future release. To remove this warning, do the following: 1) Pass option use_label_encoder=False when constructing XGBClassifier object; and 2) Encode your labels (y) as integers starting with 0, i.e. 0, 1, 2, ..., [num_class - 1].\n",
      "  warnings.warn(label_encoder_deprecation_msg, UserWarning)\n"
     ]
    },
    {
     "name": "stdout",
     "output_type": "stream",
     "text": [
      "[09:23:41] WARNING: ../src/learner.cc:1115: Starting in XGBoost 1.3.0, the default evaluation metric used with the objective 'multi:softprob' was changed from 'merror' to 'mlogloss'. Explicitly set eval_metric if you'd like to restore the old behavior.\n"
     ]
    },
    {
     "name": "stderr",
     "output_type": "stream",
     "text": [
      "/home/agrigore/ENV/lib64/python3.6/site-packages/xgboost/sklearn.py:1224: UserWarning: The use of label encoder in XGBClassifier is deprecated and will be removed in a future release. To remove this warning, do the following: 1) Pass option use_label_encoder=False when constructing XGBClassifier object; and 2) Encode your labels (y) as integers starting with 0, i.e. 0, 1, 2, ..., [num_class - 1].\n",
      "  warnings.warn(label_encoder_deprecation_msg, UserWarning)\n"
     ]
    },
    {
     "name": "stdout",
     "output_type": "stream",
     "text": [
      "[09:24:44] WARNING: ../src/learner.cc:1115: Starting in XGBoost 1.3.0, the default evaluation metric used with the objective 'multi:softprob' was changed from 'merror' to 'mlogloss'. Explicitly set eval_metric if you'd like to restore the old behavior.\n"
     ]
    },
    {
     "name": "stderr",
     "output_type": "stream",
     "text": [
      "/home/agrigore/ENV/lib64/python3.6/site-packages/xgboost/sklearn.py:1224: UserWarning: The use of label encoder in XGBClassifier is deprecated and will be removed in a future release. To remove this warning, do the following: 1) Pass option use_label_encoder=False when constructing XGBClassifier object; and 2) Encode your labels (y) as integers starting with 0, i.e. 0, 1, 2, ..., [num_class - 1].\n",
      "  warnings.warn(label_encoder_deprecation_msg, UserWarning)\n"
     ]
    },
    {
     "name": "stdout",
     "output_type": "stream",
     "text": [
      "[09:25:46] WARNING: ../src/learner.cc:1115: Starting in XGBoost 1.3.0, the default evaluation metric used with the objective 'multi:softprob' was changed from 'merror' to 'mlogloss'. Explicitly set eval_metric if you'd like to restore the old behavior.\n"
     ]
    },
    {
     "name": "stderr",
     "output_type": "stream",
     "text": [
      "/home/agrigore/ENV/lib64/python3.6/site-packages/xgboost/sklearn.py:1224: UserWarning: The use of label encoder in XGBClassifier is deprecated and will be removed in a future release. To remove this warning, do the following: 1) Pass option use_label_encoder=False when constructing XGBClassifier object; and 2) Encode your labels (y) as integers starting with 0, i.e. 0, 1, 2, ..., [num_class - 1].\n",
      "  warnings.warn(label_encoder_deprecation_msg, UserWarning)\n"
     ]
    },
    {
     "name": "stdout",
     "output_type": "stream",
     "text": [
      "[09:26:49] WARNING: ../src/learner.cc:1115: Starting in XGBoost 1.3.0, the default evaluation metric used with the objective 'multi:softprob' was changed from 'merror' to 'mlogloss'. Explicitly set eval_metric if you'd like to restore the old behavior.\n"
     ]
    },
    {
     "name": "stderr",
     "output_type": "stream",
     "text": [
      "/home/agrigore/ENV/lib64/python3.6/site-packages/xgboost/sklearn.py:1224: UserWarning: The use of label encoder in XGBClassifier is deprecated and will be removed in a future release. To remove this warning, do the following: 1) Pass option use_label_encoder=False when constructing XGBClassifier object; and 2) Encode your labels (y) as integers starting with 0, i.e. 0, 1, 2, ..., [num_class - 1].\n",
      "  warnings.warn(label_encoder_deprecation_msg, UserWarning)\n"
     ]
    },
    {
     "name": "stdout",
     "output_type": "stream",
     "text": [
      "[09:27:51] WARNING: ../src/learner.cc:1115: Starting in XGBoost 1.3.0, the default evaluation metric used with the objective 'multi:softprob' was changed from 'merror' to 'mlogloss'. Explicitly set eval_metric if you'd like to restore the old behavior.\n"
     ]
    },
    {
     "name": "stderr",
     "output_type": "stream",
     "text": [
      "/home/agrigore/ENV/lib64/python3.6/site-packages/xgboost/sklearn.py:1224: UserWarning: The use of label encoder in XGBClassifier is deprecated and will be removed in a future release. To remove this warning, do the following: 1) Pass option use_label_encoder=False when constructing XGBClassifier object; and 2) Encode your labels (y) as integers starting with 0, i.e. 0, 1, 2, ..., [num_class - 1].\n",
      "  warnings.warn(label_encoder_deprecation_msg, UserWarning)\n"
     ]
    },
    {
     "name": "stdout",
     "output_type": "stream",
     "text": [
      "[09:28:54] WARNING: ../src/learner.cc:1115: Starting in XGBoost 1.3.0, the default evaluation metric used with the objective 'multi:softprob' was changed from 'merror' to 'mlogloss'. Explicitly set eval_metric if you'd like to restore the old behavior.\n"
     ]
    },
    {
     "name": "stderr",
     "output_type": "stream",
     "text": [
      "/home/agrigore/ENV/lib64/python3.6/site-packages/xgboost/sklearn.py:1224: UserWarning: The use of label encoder in XGBClassifier is deprecated and will be removed in a future release. To remove this warning, do the following: 1) Pass option use_label_encoder=False when constructing XGBClassifier object; and 2) Encode your labels (y) as integers starting with 0, i.e. 0, 1, 2, ..., [num_class - 1].\n",
      "  warnings.warn(label_encoder_deprecation_msg, UserWarning)\n"
     ]
    },
    {
     "name": "stdout",
     "output_type": "stream",
     "text": [
      "[09:29:57] WARNING: ../src/learner.cc:1115: Starting in XGBoost 1.3.0, the default evaluation metric used with the objective 'multi:softprob' was changed from 'merror' to 'mlogloss'. Explicitly set eval_metric if you'd like to restore the old behavior.\n"
     ]
    },
    {
     "name": "stderr",
     "output_type": "stream",
     "text": [
      "/home/agrigore/ENV/lib64/python3.6/site-packages/xgboost/sklearn.py:1224: UserWarning: The use of label encoder in XGBClassifier is deprecated and will be removed in a future release. To remove this warning, do the following: 1) Pass option use_label_encoder=False when constructing XGBClassifier object; and 2) Encode your labels (y) as integers starting with 0, i.e. 0, 1, 2, ..., [num_class - 1].\n",
      "  warnings.warn(label_encoder_deprecation_msg, UserWarning)\n"
     ]
    },
    {
     "name": "stdout",
     "output_type": "stream",
     "text": [
      "[09:30:59] WARNING: ../src/learner.cc:1115: Starting in XGBoost 1.3.0, the default evaluation metric used with the objective 'multi:softprob' was changed from 'merror' to 'mlogloss'. Explicitly set eval_metric if you'd like to restore the old behavior.\n"
     ]
    },
    {
     "name": "stderr",
     "output_type": "stream",
     "text": [
      "/home/agrigore/ENV/lib64/python3.6/site-packages/xgboost/sklearn.py:1224: UserWarning: The use of label encoder in XGBClassifier is deprecated and will be removed in a future release. To remove this warning, do the following: 1) Pass option use_label_encoder=False when constructing XGBClassifier object; and 2) Encode your labels (y) as integers starting with 0, i.e. 0, 1, 2, ..., [num_class - 1].\n",
      "  warnings.warn(label_encoder_deprecation_msg, UserWarning)\n"
     ]
    },
    {
     "name": "stdout",
     "output_type": "stream",
     "text": [
      "[09:32:02] WARNING: ../src/learner.cc:1115: Starting in XGBoost 1.3.0, the default evaluation metric used with the objective 'multi:softprob' was changed from 'merror' to 'mlogloss'. Explicitly set eval_metric if you'd like to restore the old behavior.\n"
     ]
    },
    {
     "name": "stderr",
     "output_type": "stream",
     "text": [
      "/home/agrigore/ENV/lib64/python3.6/site-packages/xgboost/sklearn.py:1224: UserWarning: The use of label encoder in XGBClassifier is deprecated and will be removed in a future release. To remove this warning, do the following: 1) Pass option use_label_encoder=False when constructing XGBClassifier object; and 2) Encode your labels (y) as integers starting with 0, i.e. 0, 1, 2, ..., [num_class - 1].\n",
      "  warnings.warn(label_encoder_deprecation_msg, UserWarning)\n"
     ]
    },
    {
     "name": "stdout",
     "output_type": "stream",
     "text": [
      "[09:33:05] WARNING: ../src/learner.cc:1115: Starting in XGBoost 1.3.0, the default evaluation metric used with the objective 'multi:softprob' was changed from 'merror' to 'mlogloss'. Explicitly set eval_metric if you'd like to restore the old behavior.\n",
      "XGBoost cross-validation complete. \n",
      "\tAverage Accuracy: 0.8691342380544486,\n",
      "\tAverage F1 Score: 0.8689520979108059,\n",
      "\tAverage Precision: 0.8716598475020902,\n",
      "\tAverage Recall: 0.8690021134516959\n",
      "\n",
      "Loading features for language model: bert-cased...\n",
      "bert-cased NLP\n",
      "Cross-validating Light GBM...\n",
      "[LightGBM] [Warning] Auto-choosing col-wise multi-threading, the overhead of testing was 0.075087 seconds.\n",
      "You can set `force_col_wise=true` to remove the overhead.\n",
      "[LightGBM] [Info] Total Bins 195840\n",
      "[LightGBM] [Info] Number of data points in the train set: 43842, number of used features: 768\n",
      "[LightGBM] [Info] Start training from score -1.368794\n",
      "[LightGBM] [Info] Start training from score -1.391738\n",
      "[LightGBM] [Info] Start training from score -1.372747\n",
      "[LightGBM] [Info] Start training from score -1.412500\n",
      "[LightGBM] [Warning] Auto-choosing col-wise multi-threading, the overhead of testing was 0.071025 seconds.\n",
      "You can set `force_col_wise=true` to remove the overhead.\n",
      "[LightGBM] [Info] Total Bins 195840\n",
      "[LightGBM] [Info] Number of data points in the train set: 43842, number of used features: 768\n",
      "[LightGBM] [Info] Start training from score -1.368794\n",
      "[LightGBM] [Info] Start training from score -1.391738\n",
      "[LightGBM] [Info] Start training from score -1.372747\n",
      "[LightGBM] [Info] Start training from score -1.412500\n",
      "[LightGBM] [Warning] Auto-choosing col-wise multi-threading, the overhead of testing was 0.070528 seconds.\n",
      "You can set `force_col_wise=true` to remove the overhead.\n",
      "[LightGBM] [Info] Total Bins 195840\n",
      "[LightGBM] [Info] Number of data points in the train set: 43842, number of used features: 768\n",
      "[LightGBM] [Info] Start training from score -1.368794\n",
      "[LightGBM] [Info] Start training from score -1.391738\n",
      "[LightGBM] [Info] Start training from score -1.372747\n",
      "[LightGBM] [Info] Start training from score -1.412500\n",
      "[LightGBM] [Warning] Auto-choosing col-wise multi-threading, the overhead of testing was 0.066995 seconds.\n",
      "You can set `force_col_wise=true` to remove the overhead.\n",
      "[LightGBM] [Info] Total Bins 195840\n",
      "[LightGBM] [Info] Number of data points in the train set: 43842, number of used features: 768\n",
      "[LightGBM] [Info] Start training from score -1.368794\n",
      "[LightGBM] [Info] Start training from score -1.391738\n",
      "[LightGBM] [Info] Start training from score -1.372747\n",
      "[LightGBM] [Info] Start training from score -1.412500\n",
      "[LightGBM] [Warning] Auto-choosing col-wise multi-threading, the overhead of testing was 0.073094 seconds.\n",
      "You can set `force_col_wise=true` to remove the overhead.\n",
      "[LightGBM] [Info] Total Bins 195840\n",
      "[LightGBM] [Info] Number of data points in the train set: 43843, number of used features: 768\n",
      "[LightGBM] [Info] Start training from score -1.368817\n",
      "[LightGBM] [Info] Start training from score -1.391761\n",
      "[LightGBM] [Info] Start training from score -1.372769\n",
      "[LightGBM] [Info] Start training from score -1.412430\n",
      "[LightGBM] [Warning] Auto-choosing col-wise multi-threading, the overhead of testing was 0.068096 seconds.\n",
      "You can set `force_col_wise=true` to remove the overhead.\n",
      "[LightGBM] [Info] Total Bins 195840\n",
      "[LightGBM] [Info] Number of data points in the train set: 43843, number of used features: 768\n",
      "[LightGBM] [Info] Start training from score -1.368817\n",
      "[LightGBM] [Info] Start training from score -1.391852\n",
      "[LightGBM] [Info] Start training from score -1.372679\n",
      "[LightGBM] [Info] Start training from score -1.412430\n",
      "[LightGBM] [Warning] Auto-choosing col-wise multi-threading, the overhead of testing was 0.073087 seconds.\n",
      "You can set `force_col_wise=true` to remove the overhead.\n",
      "[LightGBM] [Info] Total Bins 195840\n",
      "[LightGBM] [Info] Number of data points in the train set: 43843, number of used features: 768\n",
      "[LightGBM] [Info] Start training from score -1.368817\n",
      "[LightGBM] [Info] Start training from score -1.391852\n",
      "[LightGBM] [Info] Start training from score -1.372679\n",
      "[LightGBM] [Info] Start training from score -1.412430\n",
      "[LightGBM] [Warning] Auto-choosing col-wise multi-threading, the overhead of testing was 0.067383 seconds.\n",
      "You can set `force_col_wise=true` to remove the overhead.\n",
      "[LightGBM] [Info] Total Bins 195840\n",
      "[LightGBM] [Info] Number of data points in the train set: 43843, number of used features: 768\n",
      "[LightGBM] [Info] Start training from score -1.368907\n",
      "[LightGBM] [Info] Start training from score -1.391761\n",
      "[LightGBM] [Info] Start training from score -1.372679\n",
      "[LightGBM] [Info] Start training from score -1.412430\n",
      "[LightGBM] [Warning] Auto-choosing col-wise multi-threading, the overhead of testing was 0.074246 seconds.\n",
      "You can set `force_col_wise=true` to remove the overhead.\n",
      "[LightGBM] [Info] Total Bins 195840\n",
      "[LightGBM] [Info] Number of data points in the train set: 43843, number of used features: 768\n",
      "[LightGBM] [Info] Start training from score -1.368907\n",
      "[LightGBM] [Info] Start training from score -1.391761\n",
      "[LightGBM] [Info] Start training from score -1.372679\n",
      "[LightGBM] [Info] Start training from score -1.412430\n",
      "[LightGBM] [Warning] Auto-choosing col-wise multi-threading, the overhead of testing was 0.068239 seconds.\n",
      "You can set `force_col_wise=true` to remove the overhead.\n",
      "[LightGBM] [Info] Total Bins 195840\n",
      "[LightGBM] [Info] Number of data points in the train set: 43843, number of used features: 768\n",
      "[LightGBM] [Info] Start training from score -1.368907\n",
      "[LightGBM] [Info] Start training from score -1.391761\n",
      "[LightGBM] [Info] Start training from score -1.372679\n",
      "[LightGBM] [Info] Start training from score -1.412430\n",
      "Light GBM cross-validation complete. \n",
      "\tAverage Accuracy: 0.8886565213375363,\n",
      "\tAverage F1 Score: 0.8886027013657797,\n",
      "\tAverage Precision: 0.8904850606211931,\n",
      "\tAverage Recall: 0.8885823930090601\n",
      "\n",
      "Cross-validating K-Nearest Neighbors...\n",
      "K-Nearest Neighbors cross-validation complete. \n",
      "\tAverage Accuracy: 0.8784949142726347,\n",
      "\tAverage F1 Score: 0.8784494815708468,\n",
      "\tAverage Precision: 0.8806651616845336,\n",
      "\tAverage Recall: 0.878429935766501\n",
      "\n",
      "Cross-validating Random Forest...\n",
      "Random Forest cross-validation complete. \n",
      "\tAverage Accuracy: 0.8797678040910331,\n",
      "\tAverage F1 Score: 0.8798146438678467,\n",
      "\tAverage Precision: 0.8832868465753909,\n",
      "\tAverage Recall: 0.8795409161121913\n",
      "\n",
      "Cross-validating XGBoost...\n"
     ]
    },
    {
     "name": "stderr",
     "output_type": "stream",
     "text": [
      "/home/agrigore/ENV/lib64/python3.6/site-packages/xgboost/sklearn.py:1224: UserWarning: The use of label encoder in XGBClassifier is deprecated and will be removed in a future release. To remove this warning, do the following: 1) Pass option use_label_encoder=False when constructing XGBClassifier object; and 2) Encode your labels (y) as integers starting with 0, i.e. 0, 1, 2, ..., [num_class - 1].\n",
      "  warnings.warn(label_encoder_deprecation_msg, UserWarning)\n"
     ]
    },
    {
     "name": "stdout",
     "output_type": "stream",
     "text": [
      "[09:37:04] WARNING: ../src/learner.cc:1115: Starting in XGBoost 1.3.0, the default evaluation metric used with the objective 'multi:softprob' was changed from 'merror' to 'mlogloss'. Explicitly set eval_metric if you'd like to restore the old behavior.\n"
     ]
    },
    {
     "name": "stderr",
     "output_type": "stream",
     "text": [
      "/home/agrigore/ENV/lib64/python3.6/site-packages/xgboost/sklearn.py:1224: UserWarning: The use of label encoder in XGBClassifier is deprecated and will be removed in a future release. To remove this warning, do the following: 1) Pass option use_label_encoder=False when constructing XGBClassifier object; and 2) Encode your labels (y) as integers starting with 0, i.e. 0, 1, 2, ..., [num_class - 1].\n",
      "  warnings.warn(label_encoder_deprecation_msg, UserWarning)\n"
     ]
    },
    {
     "name": "stdout",
     "output_type": "stream",
     "text": [
      "[09:38:07] WARNING: ../src/learner.cc:1115: Starting in XGBoost 1.3.0, the default evaluation metric used with the objective 'multi:softprob' was changed from 'merror' to 'mlogloss'. Explicitly set eval_metric if you'd like to restore the old behavior.\n"
     ]
    },
    {
     "name": "stderr",
     "output_type": "stream",
     "text": [
      "/home/agrigore/ENV/lib64/python3.6/site-packages/xgboost/sklearn.py:1224: UserWarning: The use of label encoder in XGBClassifier is deprecated and will be removed in a future release. To remove this warning, do the following: 1) Pass option use_label_encoder=False when constructing XGBClassifier object; and 2) Encode your labels (y) as integers starting with 0, i.e. 0, 1, 2, ..., [num_class - 1].\n",
      "  warnings.warn(label_encoder_deprecation_msg, UserWarning)\n"
     ]
    },
    {
     "name": "stdout",
     "output_type": "stream",
     "text": [
      "[09:39:10] WARNING: ../src/learner.cc:1115: Starting in XGBoost 1.3.0, the default evaluation metric used with the objective 'multi:softprob' was changed from 'merror' to 'mlogloss'. Explicitly set eval_metric if you'd like to restore the old behavior.\n"
     ]
    },
    {
     "name": "stderr",
     "output_type": "stream",
     "text": [
      "/home/agrigore/ENV/lib64/python3.6/site-packages/xgboost/sklearn.py:1224: UserWarning: The use of label encoder in XGBClassifier is deprecated and will be removed in a future release. To remove this warning, do the following: 1) Pass option use_label_encoder=False when constructing XGBClassifier object; and 2) Encode your labels (y) as integers starting with 0, i.e. 0, 1, 2, ..., [num_class - 1].\n",
      "  warnings.warn(label_encoder_deprecation_msg, UserWarning)\n"
     ]
    },
    {
     "name": "stdout",
     "output_type": "stream",
     "text": [
      "[09:40:13] WARNING: ../src/learner.cc:1115: Starting in XGBoost 1.3.0, the default evaluation metric used with the objective 'multi:softprob' was changed from 'merror' to 'mlogloss'. Explicitly set eval_metric if you'd like to restore the old behavior.\n"
     ]
    },
    {
     "name": "stderr",
     "output_type": "stream",
     "text": [
      "/home/agrigore/ENV/lib64/python3.6/site-packages/xgboost/sklearn.py:1224: UserWarning: The use of label encoder in XGBClassifier is deprecated and will be removed in a future release. To remove this warning, do the following: 1) Pass option use_label_encoder=False when constructing XGBClassifier object; and 2) Encode your labels (y) as integers starting with 0, i.e. 0, 1, 2, ..., [num_class - 1].\n",
      "  warnings.warn(label_encoder_deprecation_msg, UserWarning)\n"
     ]
    },
    {
     "name": "stdout",
     "output_type": "stream",
     "text": [
      "[09:41:15] WARNING: ../src/learner.cc:1115: Starting in XGBoost 1.3.0, the default evaluation metric used with the objective 'multi:softprob' was changed from 'merror' to 'mlogloss'. Explicitly set eval_metric if you'd like to restore the old behavior.\n"
     ]
    },
    {
     "name": "stderr",
     "output_type": "stream",
     "text": [
      "/home/agrigore/ENV/lib64/python3.6/site-packages/xgboost/sklearn.py:1224: UserWarning: The use of label encoder in XGBClassifier is deprecated and will be removed in a future release. To remove this warning, do the following: 1) Pass option use_label_encoder=False when constructing XGBClassifier object; and 2) Encode your labels (y) as integers starting with 0, i.e. 0, 1, 2, ..., [num_class - 1].\n",
      "  warnings.warn(label_encoder_deprecation_msg, UserWarning)\n"
     ]
    },
    {
     "name": "stdout",
     "output_type": "stream",
     "text": [
      "[09:42:18] WARNING: ../src/learner.cc:1115: Starting in XGBoost 1.3.0, the default evaluation metric used with the objective 'multi:softprob' was changed from 'merror' to 'mlogloss'. Explicitly set eval_metric if you'd like to restore the old behavior.\n"
     ]
    },
    {
     "name": "stderr",
     "output_type": "stream",
     "text": [
      "/home/agrigore/ENV/lib64/python3.6/site-packages/xgboost/sklearn.py:1224: UserWarning: The use of label encoder in XGBClassifier is deprecated and will be removed in a future release. To remove this warning, do the following: 1) Pass option use_label_encoder=False when constructing XGBClassifier object; and 2) Encode your labels (y) as integers starting with 0, i.e. 0, 1, 2, ..., [num_class - 1].\n",
      "  warnings.warn(label_encoder_deprecation_msg, UserWarning)\n"
     ]
    },
    {
     "name": "stdout",
     "output_type": "stream",
     "text": [
      "[09:43:21] WARNING: ../src/learner.cc:1115: Starting in XGBoost 1.3.0, the default evaluation metric used with the objective 'multi:softprob' was changed from 'merror' to 'mlogloss'. Explicitly set eval_metric if you'd like to restore the old behavior.\n"
     ]
    },
    {
     "name": "stderr",
     "output_type": "stream",
     "text": [
      "/home/agrigore/ENV/lib64/python3.6/site-packages/xgboost/sklearn.py:1224: UserWarning: The use of label encoder in XGBClassifier is deprecated and will be removed in a future release. To remove this warning, do the following: 1) Pass option use_label_encoder=False when constructing XGBClassifier object; and 2) Encode your labels (y) as integers starting with 0, i.e. 0, 1, 2, ..., [num_class - 1].\n",
      "  warnings.warn(label_encoder_deprecation_msg, UserWarning)\n"
     ]
    },
    {
     "name": "stdout",
     "output_type": "stream",
     "text": [
      "[09:44:25] WARNING: ../src/learner.cc:1115: Starting in XGBoost 1.3.0, the default evaluation metric used with the objective 'multi:softprob' was changed from 'merror' to 'mlogloss'. Explicitly set eval_metric if you'd like to restore the old behavior.\n"
     ]
    },
    {
     "name": "stderr",
     "output_type": "stream",
     "text": [
      "/home/agrigore/ENV/lib64/python3.6/site-packages/xgboost/sklearn.py:1224: UserWarning: The use of label encoder in XGBClassifier is deprecated and will be removed in a future release. To remove this warning, do the following: 1) Pass option use_label_encoder=False when constructing XGBClassifier object; and 2) Encode your labels (y) as integers starting with 0, i.e. 0, 1, 2, ..., [num_class - 1].\n",
      "  warnings.warn(label_encoder_deprecation_msg, UserWarning)\n"
     ]
    },
    {
     "name": "stdout",
     "output_type": "stream",
     "text": [
      "[09:45:29] WARNING: ../src/learner.cc:1115: Starting in XGBoost 1.3.0, the default evaluation metric used with the objective 'multi:softprob' was changed from 'merror' to 'mlogloss'. Explicitly set eval_metric if you'd like to restore the old behavior.\n"
     ]
    },
    {
     "name": "stderr",
     "output_type": "stream",
     "text": [
      "/home/agrigore/ENV/lib64/python3.6/site-packages/xgboost/sklearn.py:1224: UserWarning: The use of label encoder in XGBClassifier is deprecated and will be removed in a future release. To remove this warning, do the following: 1) Pass option use_label_encoder=False when constructing XGBClassifier object; and 2) Encode your labels (y) as integers starting with 0, i.e. 0, 1, 2, ..., [num_class - 1].\n",
      "  warnings.warn(label_encoder_deprecation_msg, UserWarning)\n"
     ]
    },
    {
     "name": "stdout",
     "output_type": "stream",
     "text": [
      "[09:46:33] WARNING: ../src/learner.cc:1115: Starting in XGBoost 1.3.0, the default evaluation metric used with the objective 'multi:softprob' was changed from 'merror' to 'mlogloss'. Explicitly set eval_metric if you'd like to restore the old behavior.\n",
      "XGBoost cross-validation complete. \n",
      "\tAverage Accuracy: 0.8892106368949436,\n",
      "\tAverage F1 Score: 0.889293889844318,\n",
      "\tAverage Precision: 0.890529121793658,\n",
      "\tAverage Recall: 0.88916256954726\n",
      "\n"
     ]
    }
   ],
   "source": [
    "from sklearn.model_selection import KFold\n",
    "from sklearn.model_selection import StratifiedKFold\n",
    "from sklearn.base import clone\n",
    "from sklearn.metrics import accuracy_score, f1_score, precision_score, recall_score\n",
    "\n",
    "\n",
    "def cross_validate_classification(model, X, y, kf=None):\n",
    "    kf = StratifiedKFold(n_splits=10, shuffle=True, random_state=123) if kf is None else kf\n",
    "    \n",
    "    kf.get_n_splits(X, y)\n",
    "    \n",
    "    accuracy_scores = []\n",
    "    f1_scores = []\n",
    "    precision_scores = []\n",
    "    recall_scores = []\n",
    "    for i, (train_index, test_index) in enumerate(kf.split(X, y)):\n",
    "        # Create a clone of the model to ensure that the model's initial state is preserved\n",
    "        model_clone = clone(model)\n",
    "        # Split the data\n",
    "        X_train, X_test = X[train_index], X[test_index]\n",
    "        y_train, y_test = y[train_index], y[test_index]\n",
    "        # Fit the model\n",
    "        model_clone.fit(X_train, y_train)\n",
    "        # Make predictions\n",
    "        y_pred = model_clone.predict(X_test)\n",
    "        # Calculate accuracy\n",
    "        accuracy_scores.append(accuracy_score(y_test, y_pred))\n",
    "        # Calculate F1 score\n",
    "        f1_scores.append(f1_score(y_test, y_pred, average='macro'))\n",
    "        # Calculate precision\n",
    "        precision_scores.append(precision_score(y_test, y_pred, average='macro'))\n",
    "        # Calculate recall\n",
    "        recall_scores.append(recall_score(y_test, y_pred, average='macro'))\n",
    "    # Calculate average scores\n",
    "    average_accuracy = np.mean(accuracy_scores)\n",
    "    average_f1 = np.mean(f1_scores)\n",
    "    average_precision = np.mean(precision_scores)\n",
    "    average_recall = np.mean(recall_scores)\n",
    "    return average_accuracy, average_f1, average_precision, average_recall\n",
    "\n",
    "\n",
    "from sklearn.linear_model import LogisticRegression\n",
    "from sklearn.ensemble import RandomForestClassifier\n",
    "from sklearn.svm import SVC\n",
    "from xgboost import XGBClassifier\n",
    "\n",
    "import lightgbm as lgb\n",
    "from sklearn.linear_model import LogisticRegression\n",
    "from sklearn.ensemble import RandomForestClassifier\n",
    "from sklearn.tree import DecisionTreeClassifier\n",
    "from sklearn.naive_bayes import MultinomialNB\n",
    "from xgboost import XGBClassifier\n",
    "from sklearn.neighbors import KNeighborsClassifier\n",
    "models = {\n",
    "    \"Light GBM\": lgb.LGBMClassifier(n_estimators=100, n_jobs=45),\n",
    "    \"K-Nearest Neighbors\": KNeighborsClassifier(n_jobs=45),\n",
    "#     \"Logistic Regression\": LogisticRegression(max_iter=2000, solver='lbfgs', multi_class='auto'),\n",
    "    \"Random Forest\": RandomForestClassifier(n_estimators=100, n_jobs=45),\n",
    "#     \"Support Vector Classifier\": SVC(),\n",
    "#     \"Decision Tree\": DecisionTreeClassifier(),\n",
    "    \n",
    "#     \"Multinomial Naive Bayes\": MultinomialNB(),\n",
    "    \"XGBoost\": XGBClassifier(n_estimators=100, n_jobs=45)\n",
    "}\n",
    "\n",
    "from sklearn.decomposition import PCA\n",
    "\n",
    "def perform_pca(features, n_components):\n",
    "    \"\"\"\n",
    "    Perform Principal Component Analysis (PCA) on the provided features.\n",
    "\n",
    "    Args:\n",
    "    features: numpy array of features\n",
    "    n_components: number of principal components to retain\n",
    "\n",
    "    Returns:\n",
    "    A numpy array where each row is the original feature vector projected onto the top `n_components` principal components.\n",
    "    \"\"\"\n",
    "    print(\"Starting PCA...\")\n",
    "    print(features.shape)\n",
    "    # Initialize PCA\n",
    "    pca = PCA(n_components=n_components)\n",
    "\n",
    "    # Fit and transform the data\n",
    "    reduced_features = pca.fit_transform(features)\n",
    "\n",
    "    print(\"PCA complete.\")\n",
    "    print(f\"Reduced data shape: {reduced_features.shape}\")\n",
    "\n",
    "    return reduced_features\n",
    "\n",
    "#'mt5', 'mt5-large'\n",
    "\n",
    "\n",
    "model_names = ['bert', 'bert-large', 'roberta', 'roberta-large', 'xlnet', 'xlnet-large','albert','albert-large']#[]\n",
    "\n",
    "model_names = ['distilroberta','bert-cased']\n",
    "\n",
    "feature_sets = ['NLP']\n",
    "\n",
    "\n",
    "BASE = dt.drop(['Severity'],axis=1).values\n",
    "\n",
    "SX = dt.Severity.values\n",
    "\n",
    "results = []\n",
    "\n",
    "\n",
    "reportonce=False\n",
    "\n",
    "\n",
    "for language_model in model_names:\n",
    "    print(f\"Loading features for language model: {language_model}...\")\n",
    "    NLP = load_features(language_model)\n",
    "    from sklearn.preprocessing import StandardScaler\n",
    "    scaler = StandardScaler()\n",
    "    NLP = scaler.fit_transform(NLP)\n",
    "#     quantile_transformer = QuantileTransformer(output_distribution='uniform')\n",
    "#     NLP = quantile_transformer.fit_transform(NLP)\n",
    "    \n",
    "#     NLP = perform_pca(NLP, 32)\n",
    "#     from sklearn.preprocessing import MinMaxScaler\n",
    "\n",
    "    from sklearn.preprocessing import QuantileTransformer\n",
    "\n",
    "\n",
    "    \n",
    "    XES=None\n",
    "    \n",
    "    \n",
    "    for feature_set in feature_sets:\n",
    "        if feature_set == 'NLP':\n",
    "            XES = NLP\n",
    "            \n",
    "        elif feature_set == 'report':\n",
    "            \n",
    "            if reportonce:\n",
    "                continue\n",
    "                \n",
    "            XES = BASE\n",
    "            reportonce=True\n",
    "        elif feature_set == 'report+NLP':\n",
    "            XES = np.concatenate([BASE,NLP],axis=1)\n",
    "            \n",
    "        print(language_model, feature_set)\n",
    "        \n",
    "#         quantile_transformer = QuantileTransformer(output_distribution='uniform')\n",
    "#         XES = quantile_transformer.fit_transform(XES)\n",
    "        \n",
    "        \n",
    "#         scaler = StandardScaler()\n",
    "#         XES = scaler.fit_transform(XES)\n",
    "\n",
    "        \n",
    "        for model_name, model in models.items():\n",
    "            print(f\"Cross-validating {model_name}...\")\n",
    "            average_accuracy, average_f1, average_precision, average_recall = cross_validate_classification(model, XES, SX-1)\n",
    "            results.append([model_name, language_model, feature_set, average_accuracy, average_f1, average_precision, average_recall])\n",
    "            print(f\"{model_name} cross-validation complete. \\n\\tAverage Accuracy: {average_accuracy},\\n\\tAverage F1 Score: {average_f1},\\n\\tAverage Precision: {average_precision},\\n\\tAverage Recall: {average_recall}\\n\")\n",
    "\n"
   ]
  },
  {
   "cell_type": "code",
   "execution_count": 19,
   "id": "aef80521",
   "metadata": {},
   "outputs": [
    {
     "data": {
      "text/html": [
       "<div>\n",
       "<style scoped>\n",
       "    .dataframe tbody tr th:only-of-type {\n",
       "        vertical-align: middle;\n",
       "    }\n",
       "\n",
       "    .dataframe tbody tr th {\n",
       "        vertical-align: top;\n",
       "    }\n",
       "\n",
       "    .dataframe thead th {\n",
       "        text-align: right;\n",
       "    }\n",
       "</style>\n",
       "<table border=\"1\" class=\"dataframe\">\n",
       "  <thead>\n",
       "    <tr style=\"text-align: right;\">\n",
       "      <th></th>\n",
       "      <th>Model</th>\n",
       "      <th>Language Model</th>\n",
       "      <th>Features</th>\n",
       "      <th>Average Accuracy</th>\n",
       "      <th>Average F1 Score</th>\n",
       "      <th>Average Precision</th>\n",
       "      <th>Average Recall</th>\n",
       "    </tr>\n",
       "  </thead>\n",
       "  <tbody>\n",
       "    <tr>\n",
       "      <th>0</th>\n",
       "      <td>Light GBM</td>\n",
       "      <td>distilroberta</td>\n",
       "      <td>NLP</td>\n",
       "      <td>0.868</td>\n",
       "      <td>0.867</td>\n",
       "      <td>0.871</td>\n",
       "      <td>0.867</td>\n",
       "    </tr>\n",
       "    <tr>\n",
       "      <th>1</th>\n",
       "      <td>K-Nearest Neighbors</td>\n",
       "      <td>distilroberta</td>\n",
       "      <td>NLP</td>\n",
       "      <td>0.848</td>\n",
       "      <td>0.848</td>\n",
       "      <td>0.853</td>\n",
       "      <td>0.848</td>\n",
       "    </tr>\n",
       "    <tr>\n",
       "      <th>2</th>\n",
       "      <td>Random Forest</td>\n",
       "      <td>distilroberta</td>\n",
       "      <td>NLP</td>\n",
       "      <td>0.857</td>\n",
       "      <td>0.857</td>\n",
       "      <td>0.862</td>\n",
       "      <td>0.857</td>\n",
       "    </tr>\n",
       "    <tr>\n",
       "      <th>3</th>\n",
       "      <td>XGBoost</td>\n",
       "      <td>distilroberta</td>\n",
       "      <td>NLP</td>\n",
       "      <td>0.869</td>\n",
       "      <td>0.869</td>\n",
       "      <td>0.872</td>\n",
       "      <td>0.869</td>\n",
       "    </tr>\n",
       "    <tr>\n",
       "      <th>4</th>\n",
       "      <td>Light GBM</td>\n",
       "      <td>bert-cased</td>\n",
       "      <td>NLP</td>\n",
       "      <td>0.889</td>\n",
       "      <td>0.889</td>\n",
       "      <td>0.890</td>\n",
       "      <td>0.889</td>\n",
       "    </tr>\n",
       "    <tr>\n",
       "      <th>5</th>\n",
       "      <td>K-Nearest Neighbors</td>\n",
       "      <td>bert-cased</td>\n",
       "      <td>NLP</td>\n",
       "      <td>0.878</td>\n",
       "      <td>0.878</td>\n",
       "      <td>0.881</td>\n",
       "      <td>0.878</td>\n",
       "    </tr>\n",
       "    <tr>\n",
       "      <th>6</th>\n",
       "      <td>Random Forest</td>\n",
       "      <td>bert-cased</td>\n",
       "      <td>NLP</td>\n",
       "      <td>0.880</td>\n",
       "      <td>0.880</td>\n",
       "      <td>0.883</td>\n",
       "      <td>0.880</td>\n",
       "    </tr>\n",
       "    <tr>\n",
       "      <th>7</th>\n",
       "      <td>XGBoost</td>\n",
       "      <td>bert-cased</td>\n",
       "      <td>NLP</td>\n",
       "      <td>0.889</td>\n",
       "      <td>0.889</td>\n",
       "      <td>0.891</td>\n",
       "      <td>0.889</td>\n",
       "    </tr>\n",
       "  </tbody>\n",
       "</table>\n",
       "</div>"
      ],
      "text/plain": [
       "                 Model Language Model Features  Average Accuracy  \\\n",
       "0            Light GBM  distilroberta      NLP             0.868   \n",
       "1  K-Nearest Neighbors  distilroberta      NLP             0.848   \n",
       "2        Random Forest  distilroberta      NLP             0.857   \n",
       "3              XGBoost  distilroberta      NLP             0.869   \n",
       "4            Light GBM     bert-cased      NLP             0.889   \n",
       "5  K-Nearest Neighbors     bert-cased      NLP             0.878   \n",
       "6        Random Forest     bert-cased      NLP             0.880   \n",
       "7              XGBoost     bert-cased      NLP             0.889   \n",
       "\n",
       "   Average F1 Score  Average Precision  Average Recall  \n",
       "0             0.867              0.871           0.867  \n",
       "1             0.848              0.853           0.848  \n",
       "2             0.857              0.862           0.857  \n",
       "3             0.869              0.872           0.869  \n",
       "4             0.889              0.890           0.889  \n",
       "5             0.878              0.881           0.878  \n",
       "6             0.880              0.883           0.880  \n",
       "7             0.889              0.891           0.889  "
      ]
     },
     "execution_count": 19,
     "metadata": {},
     "output_type": "execute_result"
    }
   ],
   "source": [
    "results_df = pd.DataFrame(results, columns=['Model', 'Language Model','Features','Average Accuracy', 'Average F1 Score', 'Average Precision', 'Average Recall']).round(3)\n",
    "results_df\n"
   ]
  },
  {
   "cell_type": "code",
   "execution_count": 11,
   "id": "5424d735",
   "metadata": {},
   "outputs": [],
   "source": [
    "# results_df.to_csv('tmp.csv')"
   ]
  },
  {
   "cell_type": "code",
   "execution_count": 20,
   "id": "b318c8a1",
   "metadata": {},
   "outputs": [],
   "source": [
    "results_df.loc[results_df['Features'] == 'report', 'Language Model'] = '-'"
   ]
  },
  {
   "cell_type": "code",
   "execution_count": 21,
   "id": "3dddc722",
   "metadata": {},
   "outputs": [],
   "source": [
    "# def calculate_average(df):\n",
    "#     df = df.copy()  # Make a copy of the DataFrame to avoid modifying the original\n",
    "#     # Group by 'Features' and 'Model', then calculate mean for 'Average RMSE' and 'Average MAPE'\n",
    "#     df_avg = df.groupby(['Language Model','Features', 'Model'], as_index=False).mean()\n",
    "    \n",
    "#     return df_avg\n",
    "# results_df = calculate_average(results_df)\n",
    "results_df.to_csv('DESC-results-LLM-flat-even-severity-2.csv')"
   ]
  },
  {
   "cell_type": "code",
   "execution_count": null,
   "id": "68910f24",
   "metadata": {},
   "outputs": [],
   "source": []
  },
  {
   "cell_type": "code",
   "execution_count": null,
   "id": "8ceff811",
   "metadata": {},
   "outputs": [],
   "source": []
  },
  {
   "cell_type": "code",
   "execution_count": null,
   "id": "598c3296",
   "metadata": {},
   "outputs": [],
   "source": []
  },
  {
   "cell_type": "code",
   "execution_count": null,
   "id": "af285165",
   "metadata": {},
   "outputs": [],
   "source": []
  },
  {
   "cell_type": "code",
   "execution_count": null,
   "id": "725ff40b",
   "metadata": {},
   "outputs": [],
   "source": [
    "results_df = pd.DataFrame(results, columns=['Language Model', 'Features', 'Model', 'Average RMSE', 'Average MAPE']).round(2)\n",
    "print(results_df)"
   ]
  },
  {
   "cell_type": "code",
   "execution_count": 23,
   "id": "30b1c289",
   "metadata": {},
   "outputs": [
    {
     "ename": "ValueError",
     "evalue": "5 columns passed, passed data had 7 columns",
     "output_type": "error",
     "traceback": [
      "\u001b[0;31m---------------------------------------------------------------------------\u001b[0m",
      "\u001b[0;31mAssertionError\u001b[0m                            Traceback (most recent call last)",
      "\u001b[0;32m~/ENV/lib64/python3.6/site-packages/pandas/core/internals/construction.py\u001b[0m in \u001b[0;36m_list_to_arrays\u001b[0;34m(data, columns, coerce_float, dtype)\u001b[0m\n\u001b[1;32m    563\u001b[0m     \u001b[0;32mtry\u001b[0m\u001b[0;34m:\u001b[0m\u001b[0;34m\u001b[0m\u001b[0;34m\u001b[0m\u001b[0m\n\u001b[0;32m--> 564\u001b[0;31m         \u001b[0mcolumns\u001b[0m \u001b[0;34m=\u001b[0m \u001b[0m_validate_or_indexify_columns\u001b[0m\u001b[0;34m(\u001b[0m\u001b[0mcontent\u001b[0m\u001b[0;34m,\u001b[0m \u001b[0mcolumns\u001b[0m\u001b[0;34m)\u001b[0m\u001b[0;34m\u001b[0m\u001b[0;34m\u001b[0m\u001b[0m\n\u001b[0m\u001b[1;32m    565\u001b[0m         \u001b[0mresult\u001b[0m \u001b[0;34m=\u001b[0m \u001b[0m_convert_object_array\u001b[0m\u001b[0;34m(\u001b[0m\u001b[0mcontent\u001b[0m\u001b[0;34m,\u001b[0m \u001b[0mdtype\u001b[0m\u001b[0;34m=\u001b[0m\u001b[0mdtype\u001b[0m\u001b[0;34m,\u001b[0m \u001b[0mcoerce_float\u001b[0m\u001b[0;34m=\u001b[0m\u001b[0mcoerce_float\u001b[0m\u001b[0;34m)\u001b[0m\u001b[0;34m\u001b[0m\u001b[0;34m\u001b[0m\u001b[0m\n",
      "\u001b[0;32m~/ENV/lib64/python3.6/site-packages/pandas/core/internals/construction.py\u001b[0m in \u001b[0;36m_validate_or_indexify_columns\u001b[0;34m(content, columns)\u001b[0m\n\u001b[1;32m    688\u001b[0m             raise AssertionError(\n\u001b[0;32m--> 689\u001b[0;31m                 \u001b[0;34mf\"{len(columns)} columns passed, passed data had \"\u001b[0m\u001b[0;34m\u001b[0m\u001b[0;34m\u001b[0m\u001b[0m\n\u001b[0m\u001b[1;32m    690\u001b[0m                 \u001b[0;34mf\"{len(content)} columns\"\u001b[0m\u001b[0;34m\u001b[0m\u001b[0;34m\u001b[0m\u001b[0m\n",
      "\u001b[0;31mAssertionError\u001b[0m: 5 columns passed, passed data had 7 columns",
      "\nThe above exception was the direct cause of the following exception:\n",
      "\u001b[0;31mValueError\u001b[0m                                Traceback (most recent call last)",
      "\u001b[0;32m<ipython-input-23-2c98cab2de77>\u001b[0m in \u001b[0;36m<module>\u001b[0;34m\u001b[0m\n\u001b[0;32m----> 1\u001b[0;31m \u001b[0mresults_df\u001b[0m \u001b[0;34m=\u001b[0m \u001b[0mpd\u001b[0m\u001b[0;34m.\u001b[0m\u001b[0mDataFrame\u001b[0m\u001b[0;34m(\u001b[0m\u001b[0mresults\u001b[0m\u001b[0;34m,\u001b[0m \u001b[0mcolumns\u001b[0m\u001b[0;34m=\u001b[0m\u001b[0;34m[\u001b[0m\u001b[0;34m'Language Model'\u001b[0m\u001b[0;34m,\u001b[0m \u001b[0;34m'Features'\u001b[0m\u001b[0;34m,\u001b[0m \u001b[0;34m'Model'\u001b[0m\u001b[0;34m,\u001b[0m \u001b[0;34m'Average RMSE'\u001b[0m\u001b[0;34m,\u001b[0m \u001b[0;34m'Average MAPE'\u001b[0m\u001b[0;34m]\u001b[0m\u001b[0;34m)\u001b[0m\u001b[0;34m.\u001b[0m\u001b[0mround\u001b[0m\u001b[0;34m(\u001b[0m\u001b[0;36m2\u001b[0m\u001b[0;34m)\u001b[0m\u001b[0;34m\u001b[0m\u001b[0;34m\u001b[0m\u001b[0m\n\u001b[0m\u001b[1;32m      2\u001b[0m \u001b[0mprint\u001b[0m\u001b[0;34m(\u001b[0m\u001b[0mresults_df\u001b[0m\u001b[0;34m)\u001b[0m\u001b[0;34m\u001b[0m\u001b[0;34m\u001b[0m\u001b[0m\n\u001b[1;32m      3\u001b[0m \u001b[0;34m\u001b[0m\u001b[0m\n\u001b[1;32m      4\u001b[0m \u001b[0mresults_df\u001b[0m\u001b[0;34m.\u001b[0m\u001b[0mloc\u001b[0m\u001b[0;34m[\u001b[0m\u001b[0mresults_df\u001b[0m\u001b[0;34m[\u001b[0m\u001b[0;34m'Features'\u001b[0m\u001b[0;34m]\u001b[0m \u001b[0;34m==\u001b[0m \u001b[0;34m'report'\u001b[0m\u001b[0;34m,\u001b[0m \u001b[0;34m'Language Model'\u001b[0m\u001b[0;34m]\u001b[0m \u001b[0;34m=\u001b[0m \u001b[0;34m'-'\u001b[0m\u001b[0;34m\u001b[0m\u001b[0;34m\u001b[0m\u001b[0m\n\u001b[1;32m      5\u001b[0m \u001b[0;34m\u001b[0m\u001b[0m\n",
      "\u001b[0;32m~/ENV/lib64/python3.6/site-packages/pandas/core/frame.py\u001b[0m in \u001b[0;36m__init__\u001b[0;34m(self, data, index, columns, dtype, copy)\u001b[0m\n\u001b[1;32m    507\u001b[0m                     \u001b[0;32mif\u001b[0m \u001b[0mis_named_tuple\u001b[0m\u001b[0;34m(\u001b[0m\u001b[0mdata\u001b[0m\u001b[0;34m[\u001b[0m\u001b[0;36m0\u001b[0m\u001b[0;34m]\u001b[0m\u001b[0;34m)\u001b[0m \u001b[0;32mand\u001b[0m \u001b[0mcolumns\u001b[0m \u001b[0;32mis\u001b[0m \u001b[0;32mNone\u001b[0m\u001b[0;34m:\u001b[0m\u001b[0;34m\u001b[0m\u001b[0;34m\u001b[0m\u001b[0m\n\u001b[1;32m    508\u001b[0m                         \u001b[0mcolumns\u001b[0m \u001b[0;34m=\u001b[0m \u001b[0mdata\u001b[0m\u001b[0;34m[\u001b[0m\u001b[0;36m0\u001b[0m\u001b[0;34m]\u001b[0m\u001b[0;34m.\u001b[0m\u001b[0m_fields\u001b[0m\u001b[0;34m\u001b[0m\u001b[0;34m\u001b[0m\u001b[0m\n\u001b[0;32m--> 509\u001b[0;31m                     \u001b[0marrays\u001b[0m\u001b[0;34m,\u001b[0m \u001b[0mcolumns\u001b[0m \u001b[0;34m=\u001b[0m \u001b[0mto_arrays\u001b[0m\u001b[0;34m(\u001b[0m\u001b[0mdata\u001b[0m\u001b[0;34m,\u001b[0m \u001b[0mcolumns\u001b[0m\u001b[0;34m,\u001b[0m \u001b[0mdtype\u001b[0m\u001b[0;34m=\u001b[0m\u001b[0mdtype\u001b[0m\u001b[0;34m)\u001b[0m\u001b[0;34m\u001b[0m\u001b[0;34m\u001b[0m\u001b[0m\n\u001b[0m\u001b[1;32m    510\u001b[0m                     \u001b[0mcolumns\u001b[0m \u001b[0;34m=\u001b[0m \u001b[0mensure_index\u001b[0m\u001b[0;34m(\u001b[0m\u001b[0mcolumns\u001b[0m\u001b[0;34m)\u001b[0m\u001b[0;34m\u001b[0m\u001b[0;34m\u001b[0m\u001b[0m\n\u001b[1;32m    511\u001b[0m \u001b[0;34m\u001b[0m\u001b[0m\n",
      "\u001b[0;32m~/ENV/lib64/python3.6/site-packages/pandas/core/internals/construction.py\u001b[0m in \u001b[0;36mto_arrays\u001b[0;34m(data, columns, coerce_float, dtype)\u001b[0m\n\u001b[1;32m    522\u001b[0m         \u001b[0;32mreturn\u001b[0m \u001b[0;34m[\u001b[0m\u001b[0;34m]\u001b[0m\u001b[0;34m,\u001b[0m \u001b[0;34m[\u001b[0m\u001b[0;34m]\u001b[0m  \u001b[0;31m# columns if columns is not None else []\u001b[0m\u001b[0;34m\u001b[0m\u001b[0;34m\u001b[0m\u001b[0m\n\u001b[1;32m    523\u001b[0m     \u001b[0;32mif\u001b[0m \u001b[0misinstance\u001b[0m\u001b[0;34m(\u001b[0m\u001b[0mdata\u001b[0m\u001b[0;34m[\u001b[0m\u001b[0;36m0\u001b[0m\u001b[0;34m]\u001b[0m\u001b[0;34m,\u001b[0m \u001b[0;34m(\u001b[0m\u001b[0mlist\u001b[0m\u001b[0;34m,\u001b[0m \u001b[0mtuple\u001b[0m\u001b[0;34m)\u001b[0m\u001b[0;34m)\u001b[0m\u001b[0;34m:\u001b[0m\u001b[0;34m\u001b[0m\u001b[0;34m\u001b[0m\u001b[0m\n\u001b[0;32m--> 524\u001b[0;31m         \u001b[0;32mreturn\u001b[0m \u001b[0m_list_to_arrays\u001b[0m\u001b[0;34m(\u001b[0m\u001b[0mdata\u001b[0m\u001b[0;34m,\u001b[0m \u001b[0mcolumns\u001b[0m\u001b[0;34m,\u001b[0m \u001b[0mcoerce_float\u001b[0m\u001b[0;34m=\u001b[0m\u001b[0mcoerce_float\u001b[0m\u001b[0;34m,\u001b[0m \u001b[0mdtype\u001b[0m\u001b[0;34m=\u001b[0m\u001b[0mdtype\u001b[0m\u001b[0;34m)\u001b[0m\u001b[0;34m\u001b[0m\u001b[0;34m\u001b[0m\u001b[0m\n\u001b[0m\u001b[1;32m    525\u001b[0m     \u001b[0;32melif\u001b[0m \u001b[0misinstance\u001b[0m\u001b[0;34m(\u001b[0m\u001b[0mdata\u001b[0m\u001b[0;34m[\u001b[0m\u001b[0;36m0\u001b[0m\u001b[0;34m]\u001b[0m\u001b[0;34m,\u001b[0m \u001b[0mabc\u001b[0m\u001b[0;34m.\u001b[0m\u001b[0mMapping\u001b[0m\u001b[0;34m)\u001b[0m\u001b[0;34m:\u001b[0m\u001b[0;34m\u001b[0m\u001b[0;34m\u001b[0m\u001b[0m\n\u001b[1;32m    526\u001b[0m         return _list_of_dict_to_arrays(\n",
      "\u001b[0;32m~/ENV/lib64/python3.6/site-packages/pandas/core/internals/construction.py\u001b[0m in \u001b[0;36m_list_to_arrays\u001b[0;34m(data, columns, coerce_float, dtype)\u001b[0m\n\u001b[1;32m    565\u001b[0m         \u001b[0mresult\u001b[0m \u001b[0;34m=\u001b[0m \u001b[0m_convert_object_array\u001b[0m\u001b[0;34m(\u001b[0m\u001b[0mcontent\u001b[0m\u001b[0;34m,\u001b[0m \u001b[0mdtype\u001b[0m\u001b[0;34m=\u001b[0m\u001b[0mdtype\u001b[0m\u001b[0;34m,\u001b[0m \u001b[0mcoerce_float\u001b[0m\u001b[0;34m=\u001b[0m\u001b[0mcoerce_float\u001b[0m\u001b[0;34m)\u001b[0m\u001b[0;34m\u001b[0m\u001b[0;34m\u001b[0m\u001b[0m\n\u001b[1;32m    566\u001b[0m     \u001b[0;32mexcept\u001b[0m \u001b[0mAssertionError\u001b[0m \u001b[0;32mas\u001b[0m \u001b[0me\u001b[0m\u001b[0;34m:\u001b[0m\u001b[0;34m\u001b[0m\u001b[0;34m\u001b[0m\u001b[0m\n\u001b[0;32m--> 567\u001b[0;31m         \u001b[0;32mraise\u001b[0m \u001b[0mValueError\u001b[0m\u001b[0;34m(\u001b[0m\u001b[0me\u001b[0m\u001b[0;34m)\u001b[0m \u001b[0;32mfrom\u001b[0m \u001b[0me\u001b[0m\u001b[0;34m\u001b[0m\u001b[0;34m\u001b[0m\u001b[0m\n\u001b[0m\u001b[1;32m    568\u001b[0m     \u001b[0;32mreturn\u001b[0m \u001b[0mresult\u001b[0m\u001b[0;34m,\u001b[0m \u001b[0mcolumns\u001b[0m\u001b[0;34m\u001b[0m\u001b[0;34m\u001b[0m\u001b[0m\n\u001b[1;32m    569\u001b[0m \u001b[0;34m\u001b[0m\u001b[0m\n",
      "\u001b[0;31mValueError\u001b[0m: 5 columns passed, passed data had 7 columns"
     ]
    }
   ],
   "source": [
    "results_df = pd.DataFrame(results, columns=['Language Model', 'Features', 'Model', 'Average RMSE', 'Average MAPE']).round(2)\n",
    "print(results_df)\n",
    "\n",
    "results_df.loc[results_df['Features'] == 'report', 'Language Model'] = '-'\n",
    "\n",
    "results_df.to_csv('results-LLM-32-even-duration-final-BL.csv')\n",
    "\n",
    "def calculate_average(df):\n",
    "    df = df.copy()  # Make a copy of the DataFrame to avoid modifying the original\n",
    "    # Group by 'Features' and 'Model', then calculate mean for 'Average RMSE' and 'Average MAPE'\n",
    "    df_avg = df.groupby(['Language Model','Features', 'Model'], as_index=False).mean().round(2)\n",
    "    \n",
    "    return df_avg\n",
    "results_df = calculate_average(results_df)\n",
    "results_df.to_csv('results-LLM-32-even-duration-final-BL.csv')"
   ]
  },
  {
   "cell_type": "code",
   "execution_count": null,
   "id": "1f439f41",
   "metadata": {},
   "outputs": [],
   "source": []
  },
  {
   "cell_type": "code",
   "execution_count": null,
   "id": "5480045a",
   "metadata": {},
   "outputs": [],
   "source": []
  },
  {
   "cell_type": "code",
   "execution_count": null,
   "id": "d2224ea5",
   "metadata": {},
   "outputs": [],
   "source": []
  },
  {
   "cell_type": "code",
   "execution_count": null,
   "id": "b7cac30a",
   "metadata": {},
   "outputs": [],
   "source": []
  },
  {
   "cell_type": "code",
   "execution_count": null,
   "id": "dedcd149",
   "metadata": {},
   "outputs": [],
   "source": []
  },
  {
   "cell_type": "code",
   "execution_count": null,
   "id": "54645adf",
   "metadata": {},
   "outputs": [],
   "source": []
  },
  {
   "cell_type": "code",
   "execution_count": null,
   "id": "80d3b0be",
   "metadata": {},
   "outputs": [],
   "source": []
  },
  {
   "cell_type": "code",
   "execution_count": null,
   "id": "c7be013d",
   "metadata": {},
   "outputs": [],
   "source": []
  },
  {
   "cell_type": "code",
   "execution_count": null,
   "id": "5545474b",
   "metadata": {},
   "outputs": [],
   "source": []
  },
  {
   "cell_type": "code",
   "execution_count": 18,
   "id": "7f2d9d2a",
   "metadata": {},
   "outputs": [
    {
     "data": {
      "image/png": "[encoded data removed]",
      "text/plain": [
       "<Figure size 720x360 with 1 Axes>"
      ]
     },
     "metadata": {
      "needs_background": "light"
     },
     "output_type": "display_data"
    }
   ],
   "source": [
    "from sklearn.ensemble import RandomForestClassifier\n",
    "import numpy as np\n",
    "import pandas as pd\n",
    "import matplotlib.pyplot as plt\n",
    "\n",
    "# I assume 'dt' is your DataFrame and 'BASE' and 'SX' are numpy arrays\n",
    "# BASE = dt.drop(['Crash_Severity'], axis=1).values\n",
    "# SX = dt.Crash_Severity.values\n",
    "\n",
    "# Initialize the Random Forest Classifier\n",
    "clf = RandomForestClassifier(n_estimators=100, random_state=0)\n",
    "\n",
    "# Fit the model\n",
    "clf.fit(dt.drop(['Crash_Severity'],axis=1), SX)\n",
    "\n",
    "# Get feature importances\n",
    "feature_importances = clf.feature_importances_\n",
    "\n",
    "# Get feature names\n",
    "feature_names = dt.drop(['Crash_Severity'], axis=1).columns\n",
    "\n",
    "# Sort feature importances in descending order and get the indices\n",
    "indices = np.argsort(feature_importances)[::-1]\n",
    "\n",
    "# Rearrange feature names so they match the sorted feature importances\n",
    "names = [feature_names[i] for i in indices]\n",
    "\n",
    "# Create a plot\n",
    "plt.figure(figsize=(10, 5))\n",
    "\n",
    "# Create plot title\n",
    "plt.title(\"Feature Importance\")\n",
    "\n",
    "# Add bars\n",
    "plt.bar(range(BASE.shape[1]), feature_importances[indices])\n",
    "\n",
    "# Add feature names as x-axis labels\n",
    "plt.xticks(range(BASE.shape[1]), names, rotation=90)\n",
    "\n",
    "# Show plot\n",
    "plt.show()\n"
   ]
  },
  {
   "cell_type": "code",
   "execution_count": null,
   "id": "8553d51b",
   "metadata": {},
   "outputs": [],
   "source": []
  },
  {
   "cell_type": "code",
   "execution_count": null,
   "id": "dc337a3e",
   "metadata": {},
   "outputs": [],
   "source": []
  },
  {
   "cell_type": "code",
   "execution_count": null,
   "id": "ead42e1b",
   "metadata": {},
   "outputs": [],
   "source": []
  },
  {
   "cell_type": "code",
   "execution_count": null,
   "id": "72574d6a",
   "metadata": {},
   "outputs": [],
   "source": []
  },
  {
   "cell_type": "code",
   "execution_count": null,
   "id": "104d8693",
   "metadata": {},
   "outputs": [],
   "source": []
  },
  {
   "cell_type": "code",
   "execution_count": null,
   "id": "34e403e0",
   "metadata": {},
   "outputs": [],
   "source": []
  },
  {
   "cell_type": "code",
   "execution_count": null,
   "id": "bd6fe05f",
   "metadata": {},
   "outputs": [],
   "source": []
  },
  {
   "cell_type": "code",
   "execution_count": null,
   "id": "92dfe470",
   "metadata": {},
   "outputs": [],
   "source": []
  },
  {
   "cell_type": "code",
   "execution_count": null,
   "id": "e0e51951",
   "metadata": {},
   "outputs": [],
   "source": []
  },
  {
   "cell_type": "code",
   "execution_count": null,
   "id": "a1d674af",
   "metadata": {},
   "outputs": [],
   "source": []
  },
  {
   "cell_type": "code",
   "execution_count": null,
   "id": "37121acd",
   "metadata": {},
   "outputs": [],
   "source": []
  },
  {
   "cell_type": "code",
   "execution_count": 3,
   "id": "7e30e5a0",
   "metadata": {},
   "outputs": [],
   "source": [
    "import numpy as np\n",
    "from sklearn.model_selection import KFold\n",
    "from sklearn.tree import DecisionTreeRegressor\n",
    "from lightgbm import LGBMRegressor\n",
    "from xgboost import XGBRegressor\n",
    "from sklearn.ensemble import RandomForestRegressor, GradientBoostingRegressor\n",
    "from sklearn.linear_model import LinearRegression, ElasticNet\n",
    "from math import sqrt\n",
    "import pandas as pd\n",
    "from sklearn.base import clone\n",
    "\n",
    "# Define the models\n",
    "models = {\n",
    "    \"Linear Regression\": LinearRegression(),\n",
    "    \"ElasticNet\": ElasticNet(),\n",
    "    \"DecisionTree\": DecisionTreeRegressor(),\n",
    "    \"XGBoost\": XGBRegressor(n_estimators=50, n_jobs=1) \n",
    "}\n",
    "\n",
    "\n",
    "\n",
    "def mean_absolute_percentage_error(y_true, y_pred): \n",
    "    y_true, y_pred = np.expm1(y_true), np.expm1(y_pred)  # Apply expm1 before calculating the metrics\n",
    "    return np.mean(np.where(y_true != 0, np.abs((y_true - y_pred) / y_true), 0)) * 100"
   ]
  },
  {
   "cell_type": "code",
   "execution_count": 4,
   "id": "8d0b3ac0",
   "metadata": {},
   "outputs": [],
   "source": [
    "# import pandas as pd\n",
    "# from sklearn.preprocessing import LabelEncoder\n",
    "\n",
    "# import pandas as pd\n",
    "# from sklearn.preprocessing import LabelEncoder\n",
    "\n",
    "# def preprocess_and_encode(df):\n",
    "#     # Create a copy of the dataframe\n",
    "#     df_encoded = df.copy()\n",
    "\n",
    "#     # Fill NaN values with -1\n",
    "#     df_encoded.fillna(-1, inplace=True)\n",
    "\n",
    "#     # Label encoding for categorical columns and numerical columns with 30 or fewer unique values\n",
    "#     label_encoders = {}\n",
    "#     for col in df_encoded.select_dtypes(include=['object']).columns:\n",
    "#         le = LabelEncoder()\n",
    "#         df_encoded[col] = le.fit_transform(df_encoded[col].astype(str))\n",
    "#         label_encoders[col] = le\n",
    "\n",
    "#     for col in df_encoded.select_dtypes(include=['int64']).columns:\n",
    "#         if df_encoded[col].nunique() <= 30:\n",
    "#             le = LabelEncoder()\n",
    "#             df_encoded[col] = le.fit_transform(df_encoded[col].astype(str))\n",
    "#             label_encoders[col] = le\n",
    "\n",
    "#     # Convert boolean columns to int\n",
    "#     for col in df_encoded.select_dtypes(include=['bool']).columns:\n",
    "#         df_encoded[col] = df_encoded[col].astype(int)\n",
    "        \n",
    "#     return df_encoded #, label_encoders\n",
    "\n",
    "\n",
    "# BASE = preprocess_and_encode(dt.drop(['Duration','Severity','FullText','Description'],axis=1)).values"
   ]
  },
  {
   "cell_type": "code",
   "execution_count": 5,
   "id": "ceebe95c",
   "metadata": {},
   "outputs": [],
   "source": [
    "# BASE.shape"
   ]
  },
  {
   "cell_type": "code",
   "execution_count": 6,
   "id": "7c698876",
   "metadata": {},
   "outputs": [],
   "source": [
    "# model = XGBRegressor(n_estimators=50, n_jobs=1) \n",
    "# model.fit(BASE,DX)"
   ]
  },
  {
   "cell_type": "code",
   "execution_count": 7,
   "id": "86e96ea5",
   "metadata": {},
   "outputs": [],
   "source": [
    "# def cross_validate(model, X, y, kf):\n",
    "#     rmse_scores = []\n",
    "#     mape_scores = []\n",
    "#     for train_index, test_index in kf.split(X):\n",
    "#         # Create a clone of the model to ensure that the model's initial state is preserved\n",
    "#         model_clone = clone(model)\n",
    "#         # Split the data\n",
    "#         X_train, X_test = X[train_index], X[test_index]\n",
    "#         y_train, y_test = y[train_index], y[test_index]\n",
    "#         # Fit the model\n",
    "#         model_clone.fit(X_train, y_train)\n",
    "#         # Make predictions\n",
    "#         y_pred = model_clone.predict(X_test)\n",
    "#         # Calculate RMSE\n",
    "#         mse_score = np.mean((np.expm1(y_test) - np.expm1(y_pred)) ** 2)\n",
    "#         rmse_score = np.sqrt(mse_score)\n",
    "#         rmse_scores.append(rmse_score)\n",
    "#         # Calculate MAPE\n",
    "#         mape_score = mean_absolute_percentage_error(y_test, y_pred)\n",
    "#         mape_scores.append(mape_score)\n",
    "#     # Calculate average scores\n",
    "#     average_rmse = np.mean(rmse_scores)\n",
    "#     average_mape = np.mean(mape_scores)\n",
    "#     return average_rmse, average_mape\n",
    "\n",
    "\n",
    "# cross_validate(model, BASE, np.log1p(DX), kf)"
   ]
  },
  {
   "cell_type": "code",
   "execution_count": 8,
   "id": "2ebffb36",
   "metadata": {},
   "outputs": [],
   "source": [
    "# from sklearn.preprocessing import QuantileTransformer\n",
    "# quantile_transformer = QuantileTransformer(output_distribution='uniform')\n",
    "# BASE = quantile_transformer.fit_transform(BASE)"
   ]
  },
  {
   "cell_type": "code",
   "execution_count": 4,
   "id": "934b5d49",
   "metadata": {},
   "outputs": [
    {
     "name": "stdout",
     "output_type": "stream",
     "text": [
      "Loading features for language model: bert-large...\n",
      "Starting PCA...\n",
      "(48714, 1024)\n",
      "PCA complete.\n",
      "Reduced data shape: (48714, 32)\n",
      "bert-large report\n",
      "Cross-validating Linear Regression with report features from bert-large...\n",
      "Linear Regression cross-validation complete. \n",
      "\tAverage RMSE: 99.89293636694904,\n",
      "\tAverage MAPE: 72.2036299456897\n",
      "\n",
      "Cross-validating K-Nearest Neighbors with report features from bert-large...\n",
      "K-Nearest Neighbors cross-validation complete. \n",
      "\tAverage RMSE: 80.74113198432069,\n",
      "\tAverage MAPE: 55.55598514954463\n",
      "\n",
      "Cross-validating ElasticNet with report features from bert-large...\n",
      "ElasticNet cross-validation complete. \n",
      "\tAverage RMSE: 102.65388986812445,\n",
      "\tAverage MAPE: 73.61024500620962\n",
      "\n",
      "Cross-validating DecisionTree with report features from bert-large...\n",
      "DecisionTree cross-validation complete. \n",
      "\tAverage RMSE: 79.95855623011502,\n",
      "\tAverage MAPE: 55.90011444501965\n",
      "\n",
      "Cross-validating RandomForest with report features from bert-large...\n",
      "RandomForest cross-validation complete. \n",
      "\tAverage RMSE: 58.919060891833865,\n",
      "\tAverage MAPE: 36.43038587724071\n",
      "\n",
      "Cross-validating XGBoost with report features from bert-large...\n",
      "XGBoost cross-validation complete. \n",
      "\tAverage RMSE: 60.94378780973936,\n",
      "\tAverage MAPE: 37.95047554393552\n",
      "\n",
      "bert-large NLP\n",
      "Cross-validating Linear Regression with NLP features from bert-large...\n",
      "Linear Regression cross-validation complete. \n",
      "\tAverage RMSE: 99.70580237360745,\n",
      "\tAverage MAPE: 71.70857364234269\n",
      "\n",
      "Cross-validating K-Nearest Neighbors with NLP features from bert-large...\n",
      "K-Nearest Neighbors cross-validation complete. \n",
      "\tAverage RMSE: 91.21978395440512,\n",
      "\tAverage MAPE: 62.14481491937003\n",
      "\n",
      "Cross-validating ElasticNet with NLP features from bert-large...\n",
      "ElasticNet cross-validation complete. \n",
      "\tAverage RMSE: 114.07505313665709,\n",
      "\tAverage MAPE: 78.35561332217992\n",
      "\n",
      "Cross-validating DecisionTree with NLP features from bert-large...\n",
      "DecisionTree cross-validation complete. \n",
      "\tAverage RMSE: 122.62141543889281,\n",
      "\tAverage MAPE: 108.91935775677989\n",
      "\n",
      "Cross-validating RandomForest with NLP features from bert-large...\n",
      "RandomForest cross-validation complete. \n",
      "\tAverage RMSE: 93.77247690333222,\n",
      "\tAverage MAPE: 63.34966407962985\n",
      "\n",
      "Cross-validating XGBoost with NLP features from bert-large...\n",
      "XGBoost cross-validation complete. \n",
      "\tAverage RMSE: 93.57199877359469,\n",
      "\tAverage MAPE: 65.4208978149272\n",
      "\n",
      "bert-large report+NLP\n",
      "Cross-validating Linear Regression with report+NLP features from bert-large...\n",
      "Linear Regression cross-validation complete. \n",
      "\tAverage RMSE: 94.08319149565722,\n",
      "\tAverage MAPE: 66.51293706044805\n",
      "\n",
      "Cross-validating K-Nearest Neighbors with report+NLP features from bert-large...\n",
      "K-Nearest Neighbors cross-validation complete. \n",
      "\tAverage RMSE: 80.74113198432069,\n",
      "\tAverage MAPE: 55.55598514954463\n",
      "\n",
      "Cross-validating ElasticNet with report+NLP features from bert-large...\n",
      "ElasticNet cross-validation complete. \n",
      "\tAverage RMSE: 102.65388986812445,\n",
      "\tAverage MAPE: 73.61024500620962\n",
      "\n",
      "Cross-validating DecisionTree with report+NLP features from bert-large...\n",
      "DecisionTree cross-validation complete. \n",
      "\tAverage RMSE: 80.66780200430466,\n",
      "\tAverage MAPE: 56.03109638812614\n",
      "\n",
      "Cross-validating RandomForest with report+NLP features from bert-large...\n",
      "RandomForest cross-validation complete. \n",
      "\tAverage RMSE: 59.058971580712026,\n",
      "\tAverage MAPE: 35.46188418758045\n",
      "\n",
      "Cross-validating XGBoost with report+NLP features from bert-large...\n",
      "XGBoost cross-validation complete. \n",
      "\tAverage RMSE: 61.68100274338151,\n",
      "\tAverage MAPE: 37.34189586340568\n",
      "\n"
     ]
    }
   ],
   "source": []
  },
  {
   "cell_type": "code",
   "execution_count": 5,
   "id": "3dfe5cdc",
   "metadata": {},
   "outputs": [
    {
     "name": "stdout",
     "output_type": "stream",
     "text": [
      "   Language Model    Features                Model  Average RMSE  Average MAPE\n",
      "0      bert-large      report    Linear Regression         99.89         72.20\n",
      "1      bert-large      report  K-Nearest Neighbors         80.74         55.56\n",
      "2      bert-large      report           ElasticNet        102.65         73.61\n",
      "3      bert-large      report         DecisionTree         79.96         55.90\n",
      "4      bert-large      report         RandomForest         58.92         36.43\n",
      "5      bert-large      report              XGBoost         60.94         37.95\n",
      "6      bert-large         NLP    Linear Regression         99.71         71.71\n",
      "7      bert-large         NLP  K-Nearest Neighbors         91.22         62.14\n",
      "8      bert-large         NLP           ElasticNet        114.08         78.36\n",
      "9      bert-large         NLP         DecisionTree        122.62        108.92\n",
      "10     bert-large         NLP         RandomForest         93.77         63.35\n",
      "11     bert-large         NLP              XGBoost         93.57         65.42\n",
      "12     bert-large  report+NLP    Linear Regression         94.08         66.51\n",
      "13     bert-large  report+NLP  K-Nearest Neighbors         80.74         55.56\n",
      "14     bert-large  report+NLP           ElasticNet        102.65         73.61\n",
      "15     bert-large  report+NLP         DecisionTree         80.67         56.03\n",
      "16     bert-large  report+NLP         RandomForest         59.06         35.46\n",
      "17     bert-large  report+NLP              XGBoost         61.68         37.34\n"
     ]
    }
   ],
   "source": [
    "\n"
   ]
  },
  {
   "cell_type": "code",
   "execution_count": 6,
   "id": "ee0e6e26",
   "metadata": {},
   "outputs": [],
   "source": []
  },
  {
   "cell_type": "code",
   "execution_count": 26,
   "id": "2474df88",
   "metadata": {},
   "outputs": [],
   "source": []
  },
  {
   "cell_type": "code",
   "execution_count": null,
   "id": "ad741b93",
   "metadata": {},
   "outputs": [],
   "source": []
  },
  {
   "cell_type": "code",
   "execution_count": null,
   "id": "3e2eee94",
   "metadata": {},
   "outputs": [],
   "source": []
  },
  {
   "cell_type": "code",
   "execution_count": null,
   "id": "c0ea8da5",
   "metadata": {},
   "outputs": [],
   "source": []
  },
  {
   "cell_type": "code",
   "execution_count": null,
   "id": "dbf3f1a6",
   "metadata": {},
   "outputs": [],
   "source": []
  },
  {
   "cell_type": "code",
   "execution_count": null,
   "id": "e5e6e2dc",
   "metadata": {},
   "outputs": [],
   "source": []
  },
  {
   "cell_type": "code",
   "execution_count": 27,
   "id": "3f125784",
   "metadata": {},
   "outputs": [],
   "source": []
  },
  {
   "cell_type": "code",
   "execution_count": 10,
   "id": "432c7179",
   "metadata": {},
   "outputs": [],
   "source": []
  },
  {
   "cell_type": "code",
   "execution_count": null,
   "id": "9910ebfb",
   "metadata": {},
   "outputs": [],
   "source": []
  },
  {
   "cell_type": "code",
   "execution_count": 27,
   "id": "e5483a72",
   "metadata": {},
   "outputs": [],
   "source": [
    "# from sklearn.preprocessing import MinMaxScaler\n",
    "# scaler = MinMaxScaler()\n",
    "# BASE = scaler.fit_transform(BASE)"
   ]
  },
  {
   "cell_type": "code",
   "execution_count": 31,
   "id": "96c35fb2",
   "metadata": {},
   "outputs": [],
   "source": [
    "# from sklearn.preprocessing import QuantileTransformer\n",
    "# quantile_transformer = QuantileTransformer(output_distribution='uniform')\n",
    "    \n",
    "    \n",
    "# BASE = quantile_transformer.fit_transform(BASE)"
   ]
  },
  {
   "cell_type": "code",
   "execution_count": null,
   "id": "b7c437db",
   "metadata": {},
   "outputs": [],
   "source": [
    "    from sklearn.preprocessing import MinMaxScaler\n",
    "    scaler = MinMaxScaler()\n",
    "    NLP = scaler.fit_transform(NLP)"
   ]
  },
  {
   "cell_type": "code",
   "execution_count": null,
   "id": "cc4aea58",
   "metadata": {},
   "outputs": [],
   "source": []
  },
  {
   "cell_type": "code",
   "execution_count": 7,
   "id": "d2bc4380",
   "metadata": {},
   "outputs": [
    {
     "name": "stdout",
     "output_type": "stream",
     "text": [
      "Loading features for language model: bert-large...\n",
      "Starting PCA...\n",
      "(48714, 1024)\n",
      "PCA complete.\n",
      "Reduced data shape: (48714, 32)\n",
      "bert-large report\n",
      "Cross-validating K-Nearest Neighbors...\n",
      "K-Nearest Neighbors cross-validation complete. \n",
      "\tAverage Accuracy: 0.6696844305579855,\n",
      "\tAverage F1 Score: 0.663122557168384,\n",
      "\tAverage Precision: 0.6643540525477458,\n",
      "\tAverage Recall: 0.6677183168590339\n",
      "\n",
      "Cross-validating Logistic Regression...\n"
     ]
    },
    {
     "name": "stderr",
     "output_type": "stream",
     "text": [
      "/home/agrigore/ENV/lib64/python3.6/site-packages/sklearn/linear_model/_logistic.py:765: ConvergenceWarning: lbfgs failed to converge (status=1):\n",
      "STOP: TOTAL NO. of ITERATIONS REACHED LIMIT.\n",
      "\n",
      "Increase the number of iterations (max_iter) or scale the data as shown in:\n",
      "    https://scikit-learn.org/stable/modules/preprocessing.html\n",
      "Please also refer to the documentation for alternative solver options:\n",
      "    https://scikit-learn.org/stable/modules/linear_model.html#logistic-regression\n",
      "  extra_warning_msg=_LOGISTIC_SOLVER_CONVERGENCE_MSG)\n",
      "/home/agrigore/ENV/lib64/python3.6/site-packages/sklearn/linear_model/_logistic.py:765: ConvergenceWarning: lbfgs failed to converge (status=1):\n",
      "STOP: TOTAL NO. of ITERATIONS REACHED LIMIT.\n",
      "\n",
      "Increase the number of iterations (max_iter) or scale the data as shown in:\n",
      "    https://scikit-learn.org/stable/modules/preprocessing.html\n",
      "Please also refer to the documentation for alternative solver options:\n",
      "    https://scikit-learn.org/stable/modules/linear_model.html#logistic-regression\n",
      "  extra_warning_msg=_LOGISTIC_SOLVER_CONVERGENCE_MSG)\n",
      "/home/agrigore/ENV/lib64/python3.6/site-packages/sklearn/linear_model/_logistic.py:765: ConvergenceWarning: lbfgs failed to converge (status=1):\n",
      "STOP: TOTAL NO. of ITERATIONS REACHED LIMIT.\n",
      "\n",
      "Increase the number of iterations (max_iter) or scale the data as shown in:\n",
      "    https://scikit-learn.org/stable/modules/preprocessing.html\n",
      "Please also refer to the documentation for alternative solver options:\n",
      "    https://scikit-learn.org/stable/modules/linear_model.html#logistic-regression\n",
      "  extra_warning_msg=_LOGISTIC_SOLVER_CONVERGENCE_MSG)\n",
      "/home/agrigore/ENV/lib64/python3.6/site-packages/sklearn/linear_model/_logistic.py:765: ConvergenceWarning: lbfgs failed to converge (status=1):\n",
      "STOP: TOTAL NO. of ITERATIONS REACHED LIMIT.\n",
      "\n",
      "Increase the number of iterations (max_iter) or scale the data as shown in:\n",
      "    https://scikit-learn.org/stable/modules/preprocessing.html\n",
      "Please also refer to the documentation for alternative solver options:\n",
      "    https://scikit-learn.org/stable/modules/linear_model.html#logistic-regression\n",
      "  extra_warning_msg=_LOGISTIC_SOLVER_CONVERGENCE_MSG)\n",
      "/home/agrigore/ENV/lib64/python3.6/site-packages/sklearn/linear_model/_logistic.py:765: ConvergenceWarning: lbfgs failed to converge (status=1):\n",
      "STOP: TOTAL NO. of ITERATIONS REACHED LIMIT.\n",
      "\n",
      "Increase the number of iterations (max_iter) or scale the data as shown in:\n",
      "    https://scikit-learn.org/stable/modules/preprocessing.html\n",
      "Please also refer to the documentation for alternative solver options:\n",
      "    https://scikit-learn.org/stable/modules/linear_model.html#logistic-regression\n",
      "  extra_warning_msg=_LOGISTIC_SOLVER_CONVERGENCE_MSG)\n",
      "/home/agrigore/ENV/lib64/python3.6/site-packages/sklearn/linear_model/_logistic.py:765: ConvergenceWarning: lbfgs failed to converge (status=1):\n",
      "STOP: TOTAL NO. of ITERATIONS REACHED LIMIT.\n",
      "\n",
      "Increase the number of iterations (max_iter) or scale the data as shown in:\n",
      "    https://scikit-learn.org/stable/modules/preprocessing.html\n",
      "Please also refer to the documentation for alternative solver options:\n",
      "    https://scikit-learn.org/stable/modules/linear_model.html#logistic-regression\n",
      "  extra_warning_msg=_LOGISTIC_SOLVER_CONVERGENCE_MSG)\n",
      "/home/agrigore/ENV/lib64/python3.6/site-packages/sklearn/linear_model/_logistic.py:765: ConvergenceWarning: lbfgs failed to converge (status=1):\n",
      "STOP: TOTAL NO. of ITERATIONS REACHED LIMIT.\n",
      "\n",
      "Increase the number of iterations (max_iter) or scale the data as shown in:\n",
      "    https://scikit-learn.org/stable/modules/preprocessing.html\n",
      "Please also refer to the documentation for alternative solver options:\n",
      "    https://scikit-learn.org/stable/modules/linear_model.html#logistic-regression\n",
      "  extra_warning_msg=_LOGISTIC_SOLVER_CONVERGENCE_MSG)\n",
      "/home/agrigore/ENV/lib64/python3.6/site-packages/sklearn/linear_model/_logistic.py:765: ConvergenceWarning: lbfgs failed to converge (status=1):\n",
      "STOP: TOTAL NO. of ITERATIONS REACHED LIMIT.\n",
      "\n",
      "Increase the number of iterations (max_iter) or scale the data as shown in:\n",
      "    https://scikit-learn.org/stable/modules/preprocessing.html\n",
      "Please also refer to the documentation for alternative solver options:\n",
      "    https://scikit-learn.org/stable/modules/linear_model.html#logistic-regression\n",
      "  extra_warning_msg=_LOGISTIC_SOLVER_CONVERGENCE_MSG)\n",
      "/home/agrigore/ENV/lib64/python3.6/site-packages/sklearn/linear_model/_logistic.py:765: ConvergenceWarning: lbfgs failed to converge (status=1):\n",
      "STOP: TOTAL NO. of ITERATIONS REACHED LIMIT.\n",
      "\n",
      "Increase the number of iterations (max_iter) or scale the data as shown in:\n",
      "    https://scikit-learn.org/stable/modules/preprocessing.html\n",
      "Please also refer to the documentation for alternative solver options:\n",
      "    https://scikit-learn.org/stable/modules/linear_model.html#logistic-regression\n",
      "  extra_warning_msg=_LOGISTIC_SOLVER_CONVERGENCE_MSG)\n",
      "/home/agrigore/ENV/lib64/python3.6/site-packages/sklearn/linear_model/_logistic.py:765: ConvergenceWarning: lbfgs failed to converge (status=1):\n",
      "STOP: TOTAL NO. of ITERATIONS REACHED LIMIT.\n",
      "\n",
      "Increase the number of iterations (max_iter) or scale the data as shown in:\n",
      "    https://scikit-learn.org/stable/modules/preprocessing.html\n",
      "Please also refer to the documentation for alternative solver options:\n",
      "    https://scikit-learn.org/stable/modules/linear_model.html#logistic-regression\n",
      "  extra_warning_msg=_LOGISTIC_SOLVER_CONVERGENCE_MSG)\n"
     ]
    },
    {
     "name": "stdout",
     "output_type": "stream",
     "text": [
      "Logistic Regression cross-validation complete. \n",
      "\tAverage Accuracy: 0.6089828621117778,\n",
      "\tAverage F1 Score: 0.5935247725688361,\n",
      "\tAverage Precision: 0.5977611040151338,\n",
      "\tAverage Recall: 0.6080896154455994\n",
      "\n",
      "Cross-validating Random Forest...\n",
      "Random Forest cross-validation complete. \n",
      "\tAverage Accuracy: 0.8117379288770138,\n",
      "\tAverage F1 Score: 0.8082336769432048,\n",
      "\tAverage Precision: 0.8098286300820838,\n",
      "\tAverage Recall: 0.8108928901044129\n",
      "\n",
      "Cross-validating Decision Tree...\n",
      "Decision Tree cross-validation complete. \n",
      "\tAverage Accuracy: 0.7412447719302504,\n",
      "\tAverage F1 Score: 0.7401001413335596,\n",
      "\tAverage Precision: 0.7401227877014839,\n",
      "\tAverage Recall: 0.7401574762255465\n",
      "\n",
      "Cross-validating XGBoost...\n",
      "[13:23:57] WARNING: ../src/learner.cc:1115: Starting in XGBoost 1.3.0, the default evaluation metric used with the objective 'multi:softprob' was changed from 'merror' to 'mlogloss'. Explicitly set eval_metric if you'd like to restore the old behavior.\n"
     ]
    },
    {
     "name": "stderr",
     "output_type": "stream",
     "text": [
      "/home/agrigore/ENV/lib64/python3.6/site-packages/xgboost/sklearn.py:1224: UserWarning: The use of label encoder in XGBClassifier is deprecated and will be removed in a future release. To remove this warning, do the following: 1) Pass option use_label_encoder=False when constructing XGBClassifier object; and 2) Encode your labels (y) as integers starting with 0, i.e. 0, 1, 2, ..., [num_class - 1].\n",
      "  warnings.warn(label_encoder_deprecation_msg, UserWarning)\n",
      "/home/agrigore/ENV/lib64/python3.6/site-packages/xgboost/sklearn.py:1224: UserWarning: The use of label encoder in XGBClassifier is deprecated and will be removed in a future release. To remove this warning, do the following: 1) Pass option use_label_encoder=False when constructing XGBClassifier object; and 2) Encode your labels (y) as integers starting with 0, i.e. 0, 1, 2, ..., [num_class - 1].\n",
      "  warnings.warn(label_encoder_deprecation_msg, UserWarning)\n"
     ]
    },
    {
     "name": "stdout",
     "output_type": "stream",
     "text": [
      "[13:23:59] WARNING: ../src/learner.cc:1115: Starting in XGBoost 1.3.0, the default evaluation metric used with the objective 'multi:softprob' was changed from 'merror' to 'mlogloss'. Explicitly set eval_metric if you'd like to restore the old behavior.\n"
     ]
    },
    {
     "name": "stderr",
     "output_type": "stream",
     "text": [
      "/home/agrigore/ENV/lib64/python3.6/site-packages/xgboost/sklearn.py:1224: UserWarning: The use of label encoder in XGBClassifier is deprecated and will be removed in a future release. To remove this warning, do the following: 1) Pass option use_label_encoder=False when constructing XGBClassifier object; and 2) Encode your labels (y) as integers starting with 0, i.e. 0, 1, 2, ..., [num_class - 1].\n",
      "  warnings.warn(label_encoder_deprecation_msg, UserWarning)\n"
     ]
    },
    {
     "name": "stdout",
     "output_type": "stream",
     "text": [
      "[13:24:02] WARNING: ../src/learner.cc:1115: Starting in XGBoost 1.3.0, the default evaluation metric used with the objective 'multi:softprob' was changed from 'merror' to 'mlogloss'. Explicitly set eval_metric if you'd like to restore the old behavior.\n"
     ]
    },
    {
     "name": "stderr",
     "output_type": "stream",
     "text": [
      "/home/agrigore/ENV/lib64/python3.6/site-packages/xgboost/sklearn.py:1224: UserWarning: The use of label encoder in XGBClassifier is deprecated and will be removed in a future release. To remove this warning, do the following: 1) Pass option use_label_encoder=False when constructing XGBClassifier object; and 2) Encode your labels (y) as integers starting with 0, i.e. 0, 1, 2, ..., [num_class - 1].\n",
      "  warnings.warn(label_encoder_deprecation_msg, UserWarning)\n"
     ]
    },
    {
     "name": "stdout",
     "output_type": "stream",
     "text": [
      "[13:24:04] WARNING: ../src/learner.cc:1115: Starting in XGBoost 1.3.0, the default evaluation metric used with the objective 'multi:softprob' was changed from 'merror' to 'mlogloss'. Explicitly set eval_metric if you'd like to restore the old behavior.\n"
     ]
    },
    {
     "name": "stderr",
     "output_type": "stream",
     "text": [
      "/home/agrigore/ENV/lib64/python3.6/site-packages/xgboost/sklearn.py:1224: UserWarning: The use of label encoder in XGBClassifier is deprecated and will be removed in a future release. To remove this warning, do the following: 1) Pass option use_label_encoder=False when constructing XGBClassifier object; and 2) Encode your labels (y) as integers starting with 0, i.e. 0, 1, 2, ..., [num_class - 1].\n",
      "  warnings.warn(label_encoder_deprecation_msg, UserWarning)\n"
     ]
    },
    {
     "name": "stdout",
     "output_type": "stream",
     "text": [
      "[13:24:06] WARNING: ../src/learner.cc:1115: Starting in XGBoost 1.3.0, the default evaluation metric used with the objective 'multi:softprob' was changed from 'merror' to 'mlogloss'. Explicitly set eval_metric if you'd like to restore the old behavior.\n"
     ]
    },
    {
     "name": "stderr",
     "output_type": "stream",
     "text": [
      "/home/agrigore/ENV/lib64/python3.6/site-packages/xgboost/sklearn.py:1224: UserWarning: The use of label encoder in XGBClassifier is deprecated and will be removed in a future release. To remove this warning, do the following: 1) Pass option use_label_encoder=False when constructing XGBClassifier object; and 2) Encode your labels (y) as integers starting with 0, i.e. 0, 1, 2, ..., [num_class - 1].\n",
      "  warnings.warn(label_encoder_deprecation_msg, UserWarning)\n"
     ]
    },
    {
     "name": "stdout",
     "output_type": "stream",
     "text": [
      "[13:24:08] WARNING: ../src/learner.cc:1115: Starting in XGBoost 1.3.0, the default evaluation metric used with the objective 'multi:softprob' was changed from 'merror' to 'mlogloss'. Explicitly set eval_metric if you'd like to restore the old behavior.\n"
     ]
    },
    {
     "name": "stderr",
     "output_type": "stream",
     "text": [
      "/home/agrigore/ENV/lib64/python3.6/site-packages/xgboost/sklearn.py:1224: UserWarning: The use of label encoder in XGBClassifier is deprecated and will be removed in a future release. To remove this warning, do the following: 1) Pass option use_label_encoder=False when constructing XGBClassifier object; and 2) Encode your labels (y) as integers starting with 0, i.e. 0, 1, 2, ..., [num_class - 1].\n",
      "  warnings.warn(label_encoder_deprecation_msg, UserWarning)\n"
     ]
    },
    {
     "name": "stdout",
     "output_type": "stream",
     "text": [
      "[13:24:10] WARNING: ../src/learner.cc:1115: Starting in XGBoost 1.3.0, the default evaluation metric used with the objective 'multi:softprob' was changed from 'merror' to 'mlogloss'. Explicitly set eval_metric if you'd like to restore the old behavior.\n"
     ]
    },
    {
     "name": "stderr",
     "output_type": "stream",
     "text": [
      "/home/agrigore/ENV/lib64/python3.6/site-packages/xgboost/sklearn.py:1224: UserWarning: The use of label encoder in XGBClassifier is deprecated and will be removed in a future release. To remove this warning, do the following: 1) Pass option use_label_encoder=False when constructing XGBClassifier object; and 2) Encode your labels (y) as integers starting with 0, i.e. 0, 1, 2, ..., [num_class - 1].\n",
      "  warnings.warn(label_encoder_deprecation_msg, UserWarning)\n"
     ]
    },
    {
     "name": "stdout",
     "output_type": "stream",
     "text": [
      "[13:24:13] WARNING: ../src/learner.cc:1115: Starting in XGBoost 1.3.0, the default evaluation metric used with the objective 'multi:softprob' was changed from 'merror' to 'mlogloss'. Explicitly set eval_metric if you'd like to restore the old behavior.\n"
     ]
    },
    {
     "name": "stderr",
     "output_type": "stream",
     "text": [
      "/home/agrigore/ENV/lib64/python3.6/site-packages/xgboost/sklearn.py:1224: UserWarning: The use of label encoder in XGBClassifier is deprecated and will be removed in a future release. To remove this warning, do the following: 1) Pass option use_label_encoder=False when constructing XGBClassifier object; and 2) Encode your labels (y) as integers starting with 0, i.e. 0, 1, 2, ..., [num_class - 1].\n",
      "  warnings.warn(label_encoder_deprecation_msg, UserWarning)\n"
     ]
    },
    {
     "name": "stdout",
     "output_type": "stream",
     "text": [
      "[13:24:15] WARNING: ../src/learner.cc:1115: Starting in XGBoost 1.3.0, the default evaluation metric used with the objective 'multi:softprob' was changed from 'merror' to 'mlogloss'. Explicitly set eval_metric if you'd like to restore the old behavior.\n"
     ]
    },
    {
     "name": "stderr",
     "output_type": "stream",
     "text": [
      "/home/agrigore/ENV/lib64/python3.6/site-packages/xgboost/sklearn.py:1224: UserWarning: The use of label encoder in XGBClassifier is deprecated and will be removed in a future release. To remove this warning, do the following: 1) Pass option use_label_encoder=False when constructing XGBClassifier object; and 2) Encode your labels (y) as integers starting with 0, i.e. 0, 1, 2, ..., [num_class - 1].\n",
      "  warnings.warn(label_encoder_deprecation_msg, UserWarning)\n"
     ]
    },
    {
     "name": "stdout",
     "output_type": "stream",
     "text": [
      "[13:24:17] WARNING: ../src/learner.cc:1115: Starting in XGBoost 1.3.0, the default evaluation metric used with the objective 'multi:softprob' was changed from 'merror' to 'mlogloss'. Explicitly set eval_metric if you'd like to restore the old behavior.\n",
      "XGBoost cross-validation complete. \n",
      "\tAverage Accuracy: 0.8188407632855421,\n",
      "\tAverage F1 Score: 0.8163386482511636,\n",
      "\tAverage Precision: 0.8162986824139707,\n",
      "\tAverage Recall: 0.8180122561811991\n",
      "\n",
      "bert-large NLP\n",
      "Cross-validating K-Nearest Neighbors...\n",
      "K-Nearest Neighbors cross-validation complete. \n",
      "\tAverage Accuracy: 0.8509052057028648,\n",
      "\tAverage F1 Score: 0.8495456935044998,\n",
      "\tAverage Precision: 0.8517646021012872,\n",
      "\tAverage Recall: 0.850343527394881\n",
      "\n",
      "Cross-validating Logistic Regression...\n",
      "Logistic Regression cross-validation complete. \n",
      "\tAverage Accuracy: 0.8281810868182357,\n",
      "\tAverage F1 Score: 0.8263087262198656,\n",
      "\tAverage Precision: 0.8264441228972871,\n",
      "\tAverage Recall: 0.8277180310725207\n",
      "\n",
      "Cross-validating Random Forest...\n",
      "Random Forest cross-validation complete. \n",
      "\tAverage Accuracy: 0.837315898793132,\n",
      "\tAverage F1 Score: 0.8361124507286009,\n",
      "\tAverage Precision: 0.8359534529563808,\n",
      "\tAverage Recall: 0.8369847009039642\n",
      "\n",
      "Cross-validating Decision Tree...\n",
      "Decision Tree cross-validation complete. \n",
      "\tAverage Accuracy: 0.7192387910218279,\n",
      "\tAverage F1 Score: 0.7188892496217152,\n",
      "\tAverage Precision: 0.7190638386061304,\n",
      "\tAverage Recall: 0.7188162737607816\n",
      "\n",
      "Cross-validating XGBoost...\n",
      "[13:26:06] WARNING: ../src/learner.cc:1115: Starting in XGBoost 1.3.0, the default evaluation metric used with the objective 'multi:softprob' was changed from 'merror' to 'mlogloss'. Explicitly set eval_metric if you'd like to restore the old behavior.\n"
     ]
    },
    {
     "name": "stderr",
     "output_type": "stream",
     "text": [
      "/home/agrigore/ENV/lib64/python3.6/site-packages/xgboost/sklearn.py:1224: UserWarning: The use of label encoder in XGBClassifier is deprecated and will be removed in a future release. To remove this warning, do the following: 1) Pass option use_label_encoder=False when constructing XGBClassifier object; and 2) Encode your labels (y) as integers starting with 0, i.e. 0, 1, 2, ..., [num_class - 1].\n",
      "  warnings.warn(label_encoder_deprecation_msg, UserWarning)\n",
      "/home/agrigore/ENV/lib64/python3.6/site-packages/xgboost/sklearn.py:1224: UserWarning: The use of label encoder in XGBClassifier is deprecated and will be removed in a future release. To remove this warning, do the following: 1) Pass option use_label_encoder=False when constructing XGBClassifier object; and 2) Encode your labels (y) as integers starting with 0, i.e. 0, 1, 2, ..., [num_class - 1].\n",
      "  warnings.warn(label_encoder_deprecation_msg, UserWarning)\n"
     ]
    },
    {
     "name": "stdout",
     "output_type": "stream",
     "text": [
      "[13:26:08] WARNING: ../src/learner.cc:1115: Starting in XGBoost 1.3.0, the default evaluation metric used with the objective 'multi:softprob' was changed from 'merror' to 'mlogloss'. Explicitly set eval_metric if you'd like to restore the old behavior.\n"
     ]
    },
    {
     "name": "stderr",
     "output_type": "stream",
     "text": [
      "/home/agrigore/ENV/lib64/python3.6/site-packages/xgboost/sklearn.py:1224: UserWarning: The use of label encoder in XGBClassifier is deprecated and will be removed in a future release. To remove this warning, do the following: 1) Pass option use_label_encoder=False when constructing XGBClassifier object; and 2) Encode your labels (y) as integers starting with 0, i.e. 0, 1, 2, ..., [num_class - 1].\n",
      "  warnings.warn(label_encoder_deprecation_msg, UserWarning)\n"
     ]
    },
    {
     "name": "stdout",
     "output_type": "stream",
     "text": [
      "[13:26:10] WARNING: ../src/learner.cc:1115: Starting in XGBoost 1.3.0, the default evaluation metric used with the objective 'multi:softprob' was changed from 'merror' to 'mlogloss'. Explicitly set eval_metric if you'd like to restore the old behavior.\n"
     ]
    },
    {
     "name": "stderr",
     "output_type": "stream",
     "text": [
      "/home/agrigore/ENV/lib64/python3.6/site-packages/xgboost/sklearn.py:1224: UserWarning: The use of label encoder in XGBClassifier is deprecated and will be removed in a future release. To remove this warning, do the following: 1) Pass option use_label_encoder=False when constructing XGBClassifier object; and 2) Encode your labels (y) as integers starting with 0, i.e. 0, 1, 2, ..., [num_class - 1].\n",
      "  warnings.warn(label_encoder_deprecation_msg, UserWarning)\n"
     ]
    },
    {
     "name": "stdout",
     "output_type": "stream",
     "text": [
      "[13:26:13] WARNING: ../src/learner.cc:1115: Starting in XGBoost 1.3.0, the default evaluation metric used with the objective 'multi:softprob' was changed from 'merror' to 'mlogloss'. Explicitly set eval_metric if you'd like to restore the old behavior.\n"
     ]
    },
    {
     "name": "stderr",
     "output_type": "stream",
     "text": [
      "/home/agrigore/ENV/lib64/python3.6/site-packages/xgboost/sklearn.py:1224: UserWarning: The use of label encoder in XGBClassifier is deprecated and will be removed in a future release. To remove this warning, do the following: 1) Pass option use_label_encoder=False when constructing XGBClassifier object; and 2) Encode your labels (y) as integers starting with 0, i.e. 0, 1, 2, ..., [num_class - 1].\n",
      "  warnings.warn(label_encoder_deprecation_msg, UserWarning)\n"
     ]
    },
    {
     "name": "stdout",
     "output_type": "stream",
     "text": [
      "[13:26:15] WARNING: ../src/learner.cc:1115: Starting in XGBoost 1.3.0, the default evaluation metric used with the objective 'multi:softprob' was changed from 'merror' to 'mlogloss'. Explicitly set eval_metric if you'd like to restore the old behavior.\n"
     ]
    },
    {
     "name": "stderr",
     "output_type": "stream",
     "text": [
      "/home/agrigore/ENV/lib64/python3.6/site-packages/xgboost/sklearn.py:1224: UserWarning: The use of label encoder in XGBClassifier is deprecated and will be removed in a future release. To remove this warning, do the following: 1) Pass option use_label_encoder=False when constructing XGBClassifier object; and 2) Encode your labels (y) as integers starting with 0, i.e. 0, 1, 2, ..., [num_class - 1].\n",
      "  warnings.warn(label_encoder_deprecation_msg, UserWarning)\n"
     ]
    },
    {
     "name": "stdout",
     "output_type": "stream",
     "text": [
      "[13:26:17] WARNING: ../src/learner.cc:1115: Starting in XGBoost 1.3.0, the default evaluation metric used with the objective 'multi:softprob' was changed from 'merror' to 'mlogloss'. Explicitly set eval_metric if you'd like to restore the old behavior.\n"
     ]
    },
    {
     "name": "stderr",
     "output_type": "stream",
     "text": [
      "/home/agrigore/ENV/lib64/python3.6/site-packages/xgboost/sklearn.py:1224: UserWarning: The use of label encoder in XGBClassifier is deprecated and will be removed in a future release. To remove this warning, do the following: 1) Pass option use_label_encoder=False when constructing XGBClassifier object; and 2) Encode your labels (y) as integers starting with 0, i.e. 0, 1, 2, ..., [num_class - 1].\n",
      "  warnings.warn(label_encoder_deprecation_msg, UserWarning)\n"
     ]
    },
    {
     "name": "stdout",
     "output_type": "stream",
     "text": [
      "[13:26:20] WARNING: ../src/learner.cc:1115: Starting in XGBoost 1.3.0, the default evaluation metric used with the objective 'multi:softprob' was changed from 'merror' to 'mlogloss'. Explicitly set eval_metric if you'd like to restore the old behavior.\n"
     ]
    },
    {
     "name": "stderr",
     "output_type": "stream",
     "text": [
      "/home/agrigore/ENV/lib64/python3.6/site-packages/xgboost/sklearn.py:1224: UserWarning: The use of label encoder in XGBClassifier is deprecated and will be removed in a future release. To remove this warning, do the following: 1) Pass option use_label_encoder=False when constructing XGBClassifier object; and 2) Encode your labels (y) as integers starting with 0, i.e. 0, 1, 2, ..., [num_class - 1].\n",
      "  warnings.warn(label_encoder_deprecation_msg, UserWarning)\n"
     ]
    },
    {
     "name": "stdout",
     "output_type": "stream",
     "text": [
      "[13:26:22] WARNING: ../src/learner.cc:1115: Starting in XGBoost 1.3.0, the default evaluation metric used with the objective 'multi:softprob' was changed from 'merror' to 'mlogloss'. Explicitly set eval_metric if you'd like to restore the old behavior.\n"
     ]
    },
    {
     "name": "stderr",
     "output_type": "stream",
     "text": [
      "/home/agrigore/ENV/lib64/python3.6/site-packages/xgboost/sklearn.py:1224: UserWarning: The use of label encoder in XGBClassifier is deprecated and will be removed in a future release. To remove this warning, do the following: 1) Pass option use_label_encoder=False when constructing XGBClassifier object; and 2) Encode your labels (y) as integers starting with 0, i.e. 0, 1, 2, ..., [num_class - 1].\n",
      "  warnings.warn(label_encoder_deprecation_msg, UserWarning)\n"
     ]
    },
    {
     "name": "stdout",
     "output_type": "stream",
     "text": [
      "[13:26:24] WARNING: ../src/learner.cc:1115: Starting in XGBoost 1.3.0, the default evaluation metric used with the objective 'multi:softprob' was changed from 'merror' to 'mlogloss'. Explicitly set eval_metric if you'd like to restore the old behavior.\n"
     ]
    },
    {
     "name": "stderr",
     "output_type": "stream",
     "text": [
      "/home/agrigore/ENV/lib64/python3.6/site-packages/xgboost/sklearn.py:1224: UserWarning: The use of label encoder in XGBClassifier is deprecated and will be removed in a future release. To remove this warning, do the following: 1) Pass option use_label_encoder=False when constructing XGBClassifier object; and 2) Encode your labels (y) as integers starting with 0, i.e. 0, 1, 2, ..., [num_class - 1].\n",
      "  warnings.warn(label_encoder_deprecation_msg, UserWarning)\n"
     ]
    },
    {
     "name": "stdout",
     "output_type": "stream",
     "text": [
      "[13:26:27] WARNING: ../src/learner.cc:1115: Starting in XGBoost 1.3.0, the default evaluation metric used with the objective 'multi:softprob' was changed from 'merror' to 'mlogloss'. Explicitly set eval_metric if you'd like to restore the old behavior.\n",
      "XGBoost cross-validation complete. \n",
      "\tAverage Accuracy: 0.8519728873575355,\n",
      "\tAverage F1 Score: 0.851016610084328,\n",
      "\tAverage Precision: 0.8510596459690193,\n",
      "\tAverage Recall: 0.8516769988074339\n",
      "\n",
      "bert-large report+NLP\n",
      "Cross-validating K-Nearest Neighbors...\n",
      "K-Nearest Neighbors cross-validation complete. \n",
      "\tAverage Accuracy: 0.6696844305579855,\n",
      "\tAverage F1 Score: 0.663122557168384,\n",
      "\tAverage Precision: 0.6643540525477458,\n",
      "\tAverage Recall: 0.6677183168590339\n",
      "\n",
      "Cross-validating Logistic Regression...\n"
     ]
    },
    {
     "name": "stderr",
     "output_type": "stream",
     "text": [
      "/home/agrigore/ENV/lib64/python3.6/site-packages/sklearn/linear_model/_logistic.py:765: ConvergenceWarning: lbfgs failed to converge (status=1):\n",
      "STOP: TOTAL NO. of ITERATIONS REACHED LIMIT.\n",
      "\n",
      "Increase the number of iterations (max_iter) or scale the data as shown in:\n",
      "    https://scikit-learn.org/stable/modules/preprocessing.html\n",
      "Please also refer to the documentation for alternative solver options:\n",
      "    https://scikit-learn.org/stable/modules/linear_model.html#logistic-regression\n",
      "  extra_warning_msg=_LOGISTIC_SOLVER_CONVERGENCE_MSG)\n",
      "/home/agrigore/ENV/lib64/python3.6/site-packages/sklearn/linear_model/_logistic.py:765: ConvergenceWarning: lbfgs failed to converge (status=1):\n",
      "STOP: TOTAL NO. of ITERATIONS REACHED LIMIT.\n",
      "\n",
      "Increase the number of iterations (max_iter) or scale the data as shown in:\n",
      "    https://scikit-learn.org/stable/modules/preprocessing.html\n",
      "Please also refer to the documentation for alternative solver options:\n",
      "    https://scikit-learn.org/stable/modules/linear_model.html#logistic-regression\n",
      "  extra_warning_msg=_LOGISTIC_SOLVER_CONVERGENCE_MSG)\n",
      "/home/agrigore/ENV/lib64/python3.6/site-packages/sklearn/linear_model/_logistic.py:765: ConvergenceWarning: lbfgs failed to converge (status=1):\n",
      "STOP: TOTAL NO. of ITERATIONS REACHED LIMIT.\n",
      "\n",
      "Increase the number of iterations (max_iter) or scale the data as shown in:\n",
      "    https://scikit-learn.org/stable/modules/preprocessing.html\n",
      "Please also refer to the documentation for alternative solver options:\n",
      "    https://scikit-learn.org/stable/modules/linear_model.html#logistic-regression\n",
      "  extra_warning_msg=_LOGISTIC_SOLVER_CONVERGENCE_MSG)\n",
      "/home/agrigore/ENV/lib64/python3.6/site-packages/sklearn/linear_model/_logistic.py:765: ConvergenceWarning: lbfgs failed to converge (status=1):\n",
      "STOP: TOTAL NO. of ITERATIONS REACHED LIMIT.\n",
      "\n",
      "Increase the number of iterations (max_iter) or scale the data as shown in:\n",
      "    https://scikit-learn.org/stable/modules/preprocessing.html\n",
      "Please also refer to the documentation for alternative solver options:\n",
      "    https://scikit-learn.org/stable/modules/linear_model.html#logistic-regression\n",
      "  extra_warning_msg=_LOGISTIC_SOLVER_CONVERGENCE_MSG)\n",
      "/home/agrigore/ENV/lib64/python3.6/site-packages/sklearn/linear_model/_logistic.py:765: ConvergenceWarning: lbfgs failed to converge (status=1):\n",
      "STOP: TOTAL NO. of ITERATIONS REACHED LIMIT.\n",
      "\n",
      "Increase the number of iterations (max_iter) or scale the data as shown in:\n",
      "    https://scikit-learn.org/stable/modules/preprocessing.html\n",
      "Please also refer to the documentation for alternative solver options:\n",
      "    https://scikit-learn.org/stable/modules/linear_model.html#logistic-regression\n",
      "  extra_warning_msg=_LOGISTIC_SOLVER_CONVERGENCE_MSG)\n",
      "/home/agrigore/ENV/lib64/python3.6/site-packages/sklearn/linear_model/_logistic.py:765: ConvergenceWarning: lbfgs failed to converge (status=1):\n",
      "STOP: TOTAL NO. of ITERATIONS REACHED LIMIT.\n",
      "\n",
      "Increase the number of iterations (max_iter) or scale the data as shown in:\n",
      "    https://scikit-learn.org/stable/modules/preprocessing.html\n",
      "Please also refer to the documentation for alternative solver options:\n",
      "    https://scikit-learn.org/stable/modules/linear_model.html#logistic-regression\n",
      "  extra_warning_msg=_LOGISTIC_SOLVER_CONVERGENCE_MSG)\n",
      "/home/agrigore/ENV/lib64/python3.6/site-packages/sklearn/linear_model/_logistic.py:765: ConvergenceWarning: lbfgs failed to converge (status=1):\n",
      "STOP: TOTAL NO. of ITERATIONS REACHED LIMIT.\n",
      "\n",
      "Increase the number of iterations (max_iter) or scale the data as shown in:\n",
      "    https://scikit-learn.org/stable/modules/preprocessing.html\n",
      "Please also refer to the documentation for alternative solver options:\n",
      "    https://scikit-learn.org/stable/modules/linear_model.html#logistic-regression\n",
      "  extra_warning_msg=_LOGISTIC_SOLVER_CONVERGENCE_MSG)\n",
      "/home/agrigore/ENV/lib64/python3.6/site-packages/sklearn/linear_model/_logistic.py:765: ConvergenceWarning: lbfgs failed to converge (status=1):\n",
      "STOP: TOTAL NO. of ITERATIONS REACHED LIMIT.\n",
      "\n",
      "Increase the number of iterations (max_iter) or scale the data as shown in:\n",
      "    https://scikit-learn.org/stable/modules/preprocessing.html\n",
      "Please also refer to the documentation for alternative solver options:\n",
      "    https://scikit-learn.org/stable/modules/linear_model.html#logistic-regression\n",
      "  extra_warning_msg=_LOGISTIC_SOLVER_CONVERGENCE_MSG)\n",
      "/home/agrigore/ENV/lib64/python3.6/site-packages/sklearn/linear_model/_logistic.py:765: ConvergenceWarning: lbfgs failed to converge (status=1):\n",
      "STOP: TOTAL NO. of ITERATIONS REACHED LIMIT.\n",
      "\n",
      "Increase the number of iterations (max_iter) or scale the data as shown in:\n",
      "    https://scikit-learn.org/stable/modules/preprocessing.html\n",
      "Please also refer to the documentation for alternative solver options:\n",
      "    https://scikit-learn.org/stable/modules/linear_model.html#logistic-regression\n",
      "  extra_warning_msg=_LOGISTIC_SOLVER_CONVERGENCE_MSG)\n",
      "/home/agrigore/ENV/lib64/python3.6/site-packages/sklearn/linear_model/_logistic.py:765: ConvergenceWarning: lbfgs failed to converge (status=1):\n",
      "STOP: TOTAL NO. of ITERATIONS REACHED LIMIT.\n",
      "\n",
      "Increase the number of iterations (max_iter) or scale the data as shown in:\n",
      "    https://scikit-learn.org/stable/modules/preprocessing.html\n",
      "Please also refer to the documentation for alternative solver options:\n",
      "    https://scikit-learn.org/stable/modules/linear_model.html#logistic-regression\n",
      "  extra_warning_msg=_LOGISTIC_SOLVER_CONVERGENCE_MSG)\n"
     ]
    },
    {
     "name": "stdout",
     "output_type": "stream",
     "text": [
      "Logistic Regression cross-validation complete. \n",
      "\tAverage Accuracy: 0.6093935144123981,\n",
      "\tAverage F1 Score: 0.5948169860386922,\n",
      "\tAverage Precision: 0.5984116354128882,\n",
      "\tAverage Recall: 0.6085679457508283\n",
      "\n",
      "Cross-validating Random Forest...\n",
      "Random Forest cross-validation complete. \n",
      "\tAverage Accuracy: 0.875169449801597,\n",
      "\tAverage F1 Score: 0.8738467855907736,\n",
      "\tAverage Precision: 0.8748978506578655,\n",
      "\tAverage Recall: 0.8746370391900868\n",
      "\n",
      "Cross-validating Decision Tree...\n",
      "Decision Tree cross-validation complete. \n",
      "\tAverage Accuracy: 0.7991748397657933,\n",
      "\tAverage F1 Score: 0.7985536221847223,\n",
      "\tAverage Precision: 0.798686420234453,\n",
      "\tAverage Recall: 0.7985762748021037\n",
      "\n",
      "Cross-validating XGBoost...\n",
      "[13:30:51] WARNING: ../src/learner.cc:1115: Starting in XGBoost 1.3.0, the default evaluation metric used with the objective 'multi:softprob' was changed from 'merror' to 'mlogloss'. Explicitly set eval_metric if you'd like to restore the old behavior.\n"
     ]
    },
    {
     "name": "stderr",
     "output_type": "stream",
     "text": [
      "/home/agrigore/ENV/lib64/python3.6/site-packages/xgboost/sklearn.py:1224: UserWarning: The use of label encoder in XGBClassifier is deprecated and will be removed in a future release. To remove this warning, do the following: 1) Pass option use_label_encoder=False when constructing XGBClassifier object; and 2) Encode your labels (y) as integers starting with 0, i.e. 0, 1, 2, ..., [num_class - 1].\n",
      "  warnings.warn(label_encoder_deprecation_msg, UserWarning)\n",
      "/home/agrigore/ENV/lib64/python3.6/site-packages/xgboost/sklearn.py:1224: UserWarning: The use of label encoder in XGBClassifier is deprecated and will be removed in a future release. To remove this warning, do the following: 1) Pass option use_label_encoder=False when constructing XGBClassifier object; and 2) Encode your labels (y) as integers starting with 0, i.e. 0, 1, 2, ..., [num_class - 1].\n",
      "  warnings.warn(label_encoder_deprecation_msg, UserWarning)\n"
     ]
    },
    {
     "name": "stdout",
     "output_type": "stream",
     "text": [
      "[13:30:54] WARNING: ../src/learner.cc:1115: Starting in XGBoost 1.3.0, the default evaluation metric used with the objective 'multi:softprob' was changed from 'merror' to 'mlogloss'. Explicitly set eval_metric if you'd like to restore the old behavior.\n"
     ]
    },
    {
     "name": "stderr",
     "output_type": "stream",
     "text": [
      "/home/agrigore/ENV/lib64/python3.6/site-packages/xgboost/sklearn.py:1224: UserWarning: The use of label encoder in XGBClassifier is deprecated and will be removed in a future release. To remove this warning, do the following: 1) Pass option use_label_encoder=False when constructing XGBClassifier object; and 2) Encode your labels (y) as integers starting with 0, i.e. 0, 1, 2, ..., [num_class - 1].\n",
      "  warnings.warn(label_encoder_deprecation_msg, UserWarning)\n"
     ]
    },
    {
     "name": "stdout",
     "output_type": "stream",
     "text": [
      "[13:30:57] WARNING: ../src/learner.cc:1115: Starting in XGBoost 1.3.0, the default evaluation metric used with the objective 'multi:softprob' was changed from 'merror' to 'mlogloss'. Explicitly set eval_metric if you'd like to restore the old behavior.\n"
     ]
    },
    {
     "name": "stderr",
     "output_type": "stream",
     "text": [
      "/home/agrigore/ENV/lib64/python3.6/site-packages/xgboost/sklearn.py:1224: UserWarning: The use of label encoder in XGBClassifier is deprecated and will be removed in a future release. To remove this warning, do the following: 1) Pass option use_label_encoder=False when constructing XGBClassifier object; and 2) Encode your labels (y) as integers starting with 0, i.e. 0, 1, 2, ..., [num_class - 1].\n",
      "  warnings.warn(label_encoder_deprecation_msg, UserWarning)\n"
     ]
    },
    {
     "name": "stdout",
     "output_type": "stream",
     "text": [
      "[13:31:00] WARNING: ../src/learner.cc:1115: Starting in XGBoost 1.3.0, the default evaluation metric used with the objective 'multi:softprob' was changed from 'merror' to 'mlogloss'. Explicitly set eval_metric if you'd like to restore the old behavior.\n"
     ]
    },
    {
     "name": "stderr",
     "output_type": "stream",
     "text": [
      "/home/agrigore/ENV/lib64/python3.6/site-packages/xgboost/sklearn.py:1224: UserWarning: The use of label encoder in XGBClassifier is deprecated and will be removed in a future release. To remove this warning, do the following: 1) Pass option use_label_encoder=False when constructing XGBClassifier object; and 2) Encode your labels (y) as integers starting with 0, i.e. 0, 1, 2, ..., [num_class - 1].\n",
      "  warnings.warn(label_encoder_deprecation_msg, UserWarning)\n"
     ]
    },
    {
     "name": "stdout",
     "output_type": "stream",
     "text": [
      "[13:31:03] WARNING: ../src/learner.cc:1115: Starting in XGBoost 1.3.0, the default evaluation metric used with the objective 'multi:softprob' was changed from 'merror' to 'mlogloss'. Explicitly set eval_metric if you'd like to restore the old behavior.\n"
     ]
    },
    {
     "name": "stderr",
     "output_type": "stream",
     "text": [
      "/home/agrigore/ENV/lib64/python3.6/site-packages/xgboost/sklearn.py:1224: UserWarning: The use of label encoder in XGBClassifier is deprecated and will be removed in a future release. To remove this warning, do the following: 1) Pass option use_label_encoder=False when constructing XGBClassifier object; and 2) Encode your labels (y) as integers starting with 0, i.e. 0, 1, 2, ..., [num_class - 1].\n",
      "  warnings.warn(label_encoder_deprecation_msg, UserWarning)\n"
     ]
    },
    {
     "name": "stdout",
     "output_type": "stream",
     "text": [
      "[13:31:05] WARNING: ../src/learner.cc:1115: Starting in XGBoost 1.3.0, the default evaluation metric used with the objective 'multi:softprob' was changed from 'merror' to 'mlogloss'. Explicitly set eval_metric if you'd like to restore the old behavior.\n"
     ]
    },
    {
     "name": "stderr",
     "output_type": "stream",
     "text": [
      "/home/agrigore/ENV/lib64/python3.6/site-packages/xgboost/sklearn.py:1224: UserWarning: The use of label encoder in XGBClassifier is deprecated and will be removed in a future release. To remove this warning, do the following: 1) Pass option use_label_encoder=False when constructing XGBClassifier object; and 2) Encode your labels (y) as integers starting with 0, i.e. 0, 1, 2, ..., [num_class - 1].\n",
      "  warnings.warn(label_encoder_deprecation_msg, UserWarning)\n"
     ]
    },
    {
     "name": "stdout",
     "output_type": "stream",
     "text": [
      "[13:31:08] WARNING: ../src/learner.cc:1115: Starting in XGBoost 1.3.0, the default evaluation metric used with the objective 'multi:softprob' was changed from 'merror' to 'mlogloss'. Explicitly set eval_metric if you'd like to restore the old behavior.\n"
     ]
    },
    {
     "name": "stderr",
     "output_type": "stream",
     "text": [
      "/home/agrigore/ENV/lib64/python3.6/site-packages/xgboost/sklearn.py:1224: UserWarning: The use of label encoder in XGBClassifier is deprecated and will be removed in a future release. To remove this warning, do the following: 1) Pass option use_label_encoder=False when constructing XGBClassifier object; and 2) Encode your labels (y) as integers starting with 0, i.e. 0, 1, 2, ..., [num_class - 1].\n",
      "  warnings.warn(label_encoder_deprecation_msg, UserWarning)\n"
     ]
    },
    {
     "name": "stdout",
     "output_type": "stream",
     "text": [
      "[13:31:11] WARNING: ../src/learner.cc:1115: Starting in XGBoost 1.3.0, the default evaluation metric used with the objective 'multi:softprob' was changed from 'merror' to 'mlogloss'. Explicitly set eval_metric if you'd like to restore the old behavior.\n"
     ]
    },
    {
     "name": "stderr",
     "output_type": "stream",
     "text": [
      "/home/agrigore/ENV/lib64/python3.6/site-packages/xgboost/sklearn.py:1224: UserWarning: The use of label encoder in XGBClassifier is deprecated and will be removed in a future release. To remove this warning, do the following: 1) Pass option use_label_encoder=False when constructing XGBClassifier object; and 2) Encode your labels (y) as integers starting with 0, i.e. 0, 1, 2, ..., [num_class - 1].\n",
      "  warnings.warn(label_encoder_deprecation_msg, UserWarning)\n"
     ]
    },
    {
     "name": "stdout",
     "output_type": "stream",
     "text": [
      "[13:31:14] WARNING: ../src/learner.cc:1115: Starting in XGBoost 1.3.0, the default evaluation metric used with the objective 'multi:softprob' was changed from 'merror' to 'mlogloss'. Explicitly set eval_metric if you'd like to restore the old behavior.\n"
     ]
    },
    {
     "name": "stderr",
     "output_type": "stream",
     "text": [
      "/home/agrigore/ENV/lib64/python3.6/site-packages/xgboost/sklearn.py:1224: UserWarning: The use of label encoder in XGBClassifier is deprecated and will be removed in a future release. To remove this warning, do the following: 1) Pass option use_label_encoder=False when constructing XGBClassifier object; and 2) Encode your labels (y) as integers starting with 0, i.e. 0, 1, 2, ..., [num_class - 1].\n",
      "  warnings.warn(label_encoder_deprecation_msg, UserWarning)\n"
     ]
    },
    {
     "name": "stdout",
     "output_type": "stream",
     "text": [
      "[13:31:17] WARNING: ../src/learner.cc:1115: Starting in XGBoost 1.3.0, the default evaluation metric used with the objective 'multi:softprob' was changed from 'merror' to 'mlogloss'. Explicitly set eval_metric if you'd like to restore the old behavior.\n",
      "XGBoost cross-validation complete. \n",
      "\tAverage Accuracy: 0.890134454981208,\n",
      "\tAverage F1 Score: 0.8893200796036116,\n",
      "\tAverage Precision: 0.8897662191948772,\n",
      "\tAverage Recall: 0.8897179489643507\n",
      "\n"
     ]
    }
   ],
   "source": [
    "from sklearn.model_selection import KFold\n",
    "from sklearn.model_selection import StratifiedKFold\n",
    "from sklearn.base import clone\n",
    "from sklearn.metrics import accuracy_score, f1_score, precision_score, recall_score\n",
    "\n",
    "\n",
    "def cross_validate_classification(model, X, y, kf=None):\n",
    "    kf = StratifiedKFold(n_splits=10, shuffle=True, random_state=123) if kf is None else kf\n",
    "    \n",
    "    kf.get_n_splits(X, y)\n",
    "    \n",
    "    accuracy_scores = []\n",
    "    f1_scores = []\n",
    "    precision_scores = []\n",
    "    recall_scores = []\n",
    "    for i, (train_index, test_index) in enumerate(kf.split(X, y)):\n",
    "        # Create a clone of the model to ensure that the model's initial state is preserved\n",
    "        model_clone = clone(model)\n",
    "        # Split the data\n",
    "        X_train, X_test = X[train_index], X[test_index]\n",
    "        y_train, y_test = y[train_index], y[test_index]\n",
    "        # Fit the model\n",
    "        model_clone.fit(X_train, y_train)\n",
    "        # Make predictions\n",
    "        y_pred = model_clone.predict(X_test)\n",
    "        # Calculate accuracy\n",
    "        accuracy_scores.append(accuracy_score(y_test, y_pred))\n",
    "        # Calculate F1 score\n",
    "        f1_scores.append(f1_score(y_test, y_pred, average='macro'))\n",
    "        # Calculate precision\n",
    "        precision_scores.append(precision_score(y_test, y_pred, average='macro'))\n",
    "        # Calculate recall\n",
    "        recall_scores.append(recall_score(y_test, y_pred, average='macro'))\n",
    "    # Calculate average scores\n",
    "    average_accuracy = np.mean(accuracy_scores)\n",
    "    average_f1 = np.mean(f1_scores)\n",
    "    average_precision = np.mean(precision_scores)\n",
    "    average_recall = np.mean(recall_scores)\n",
    "    return average_accuracy, average_f1, average_precision, average_recall\n",
    "\n",
    "\n",
    "from sklearn.linear_model import LogisticRegression\n",
    "from sklearn.ensemble import RandomForestClassifier\n",
    "from sklearn.svm import SVC\n",
    "from xgboost import XGBClassifier\n",
    "\n",
    "# models = {\n",
    "#     \"Logistic Regression\": LogisticRegression(max_iter=1000),\n",
    "#     \"Random Forest\": RandomForestClassifier(n_estimators=50, n_jobs=1),\n",
    "# #     \"Support Vector Classifier\": SVC(),\n",
    "#     \"XGBoost\": XGBClassifier(n_estimators=50, n_jobs=1)\n",
    "# }\n",
    "\n",
    "\n",
    "from sklearn.linear_model import LogisticRegression\n",
    "from sklearn.ensemble import RandomForestClassifier\n",
    "from sklearn.tree import DecisionTreeClassifier\n",
    "from sklearn.naive_bayes import MultinomialNB\n",
    "from xgboost import XGBClassifier\n",
    "from sklearn.neighbors import KNeighborsClassifier\n",
    "models = {\n",
    "    \"K-Nearest Neighbors\": KNeighborsClassifier(n_jobs=40),\n",
    "    \"Logistic Regression\": LogisticRegression(max_iter=1000, solver='lbfgs', multi_class='auto'),\n",
    "    \n",
    "    \"Random Forest\": RandomForestClassifier(n_estimators=50, n_jobs=-1),\n",
    "#     \"Support Vector Classifier\": SVC(),\n",
    "    \"Decision Tree\": DecisionTreeClassifier(),\n",
    "    \n",
    "#     \"Multinomial Naive Bayes\": MultinomialNB(),\n",
    "    \"XGBoost\": XGBClassifier(n_estimators=50, n_jobs=40)\n",
    "}\n",
    "\n",
    "\n",
    "\n",
    "model_names = ['bert-large']#['bert', 'gpt2', 'roberta', 'mt5', 'mt5-large', 'xlnet', 'xlnet-large']\n",
    "\n",
    "feature_sets = ['report','NLP','report+NLP']\n",
    "\n",
    "\n",
    "\n",
    "SX = dt.Severity.values\n",
    "DX = dt.Duration.values\n",
    "\n",
    "results = []\n",
    "\n",
    "for language_model in model_names:\n",
    "    print(f\"Loading features for language model: {language_model}...\")\n",
    "    FX = load_features(language_model)\n",
    "    NLP = perform_pca(FX, 32)\n",
    "    from sklearn.preprocessing import MinMaxScaler\n",
    "    scaler = MinMaxScaler()\n",
    "    NLP = scaler.fit_transform(NLP)\n",
    "#     from sklearn.preprocessing import QuantileTransformer\n",
    "#     quantile_transformer = QuantileTransformer(output_distribution='uniform')\n",
    "#     NLP = quantile_transformer.fit_transform(NLP)\n",
    "\n",
    "    \n",
    "    XES=None\n",
    "    \n",
    "    for feature_set in feature_sets:\n",
    "        if feature_set == 'NLP':\n",
    "            XES = NLP\n",
    "        elif feature_set == 'report':\n",
    "            XES = BASE\n",
    "        elif feature_set == 'report+NLP':\n",
    "            XES = np.concatenate([BASE,NLP],axis=1)\n",
    "            \n",
    "        print(language_model, feature_set)\n",
    "        \n",
    "        \n",
    "        \n",
    "        for model_name, model in models.items():\n",
    "            print(f\"Cross-validating {model_name}...\")\n",
    "            average_accuracy, average_f1, average_precision, average_recall = cross_validate_classification(model, XES, SX-1)\n",
    "            results.append([model_name, language_model, feature_set, average_accuracy, average_f1, average_precision, average_recall])\n",
    "            print(f\"{model_name} cross-validation complete. \\n\\tAverage Accuracy: {average_accuracy},\\n\\tAverage F1 Score: {average_f1},\\n\\tAverage Precision: {average_precision},\\n\\tAverage Recall: {average_recall}\\n\")\n",
    "\n"
   ]
  },
  {
   "cell_type": "code",
   "execution_count": null,
   "id": "03a37c76",
   "metadata": {},
   "outputs": [],
   "source": []
  },
  {
   "cell_type": "code",
   "execution_count": 8,
   "id": "d074a977",
   "metadata": {},
   "outputs": [
    {
     "data": {
      "text/html": [
       "<div>\n",
       "<style scoped>\n",
       "    .dataframe tbody tr th:only-of-type {\n",
       "        vertical-align: middle;\n",
       "    }\n",
       "\n",
       "    .dataframe tbody tr th {\n",
       "        vertical-align: top;\n",
       "    }\n",
       "\n",
       "    .dataframe thead th {\n",
       "        text-align: right;\n",
       "    }\n",
       "</style>\n",
       "<table border=\"1\" class=\"dataframe\">\n",
       "  <thead>\n",
       "    <tr style=\"text-align: right;\">\n",
       "      <th></th>\n",
       "      <th>Model</th>\n",
       "      <th>Language Model</th>\n",
       "      <th>Features</th>\n",
       "      <th>Average Accuracy</th>\n",
       "      <th>Average F1 Score</th>\n",
       "      <th>Average Precision</th>\n",
       "      <th>Average Recall</th>\n",
       "    </tr>\n",
       "  </thead>\n",
       "  <tbody>\n",
       "    <tr>\n",
       "      <th>0</th>\n",
       "      <td>K-Nearest Neighbors</td>\n",
       "      <td>bert-large</td>\n",
       "      <td>report</td>\n",
       "      <td>0.670</td>\n",
       "      <td>0.663</td>\n",
       "      <td>0.664</td>\n",
       "      <td>0.668</td>\n",
       "    </tr>\n",
       "    <tr>\n",
       "      <th>1</th>\n",
       "      <td>Logistic Regression</td>\n",
       "      <td>bert-large</td>\n",
       "      <td>report</td>\n",
       "      <td>0.609</td>\n",
       "      <td>0.594</td>\n",
       "      <td>0.598</td>\n",
       "      <td>0.608</td>\n",
       "    </tr>\n",
       "    <tr>\n",
       "      <th>2</th>\n",
       "      <td>Random Forest</td>\n",
       "      <td>bert-large</td>\n",
       "      <td>report</td>\n",
       "      <td>0.812</td>\n",
       "      <td>0.808</td>\n",
       "      <td>0.810</td>\n",
       "      <td>0.811</td>\n",
       "    </tr>\n",
       "    <tr>\n",
       "      <th>3</th>\n",
       "      <td>Decision Tree</td>\n",
       "      <td>bert-large</td>\n",
       "      <td>report</td>\n",
       "      <td>0.741</td>\n",
       "      <td>0.740</td>\n",
       "      <td>0.740</td>\n",
       "      <td>0.740</td>\n",
       "    </tr>\n",
       "    <tr>\n",
       "      <th>4</th>\n",
       "      <td>XGBoost</td>\n",
       "      <td>bert-large</td>\n",
       "      <td>report</td>\n",
       "      <td>0.819</td>\n",
       "      <td>0.816</td>\n",
       "      <td>0.816</td>\n",
       "      <td>0.818</td>\n",
       "    </tr>\n",
       "    <tr>\n",
       "      <th>5</th>\n",
       "      <td>K-Nearest Neighbors</td>\n",
       "      <td>bert-large</td>\n",
       "      <td>NLP</td>\n",
       "      <td>0.851</td>\n",
       "      <td>0.850</td>\n",
       "      <td>0.852</td>\n",
       "      <td>0.850</td>\n",
       "    </tr>\n",
       "    <tr>\n",
       "      <th>6</th>\n",
       "      <td>Logistic Regression</td>\n",
       "      <td>bert-large</td>\n",
       "      <td>NLP</td>\n",
       "      <td>0.828</td>\n",
       "      <td>0.826</td>\n",
       "      <td>0.826</td>\n",
       "      <td>0.828</td>\n",
       "    </tr>\n",
       "    <tr>\n",
       "      <th>7</th>\n",
       "      <td>Random Forest</td>\n",
       "      <td>bert-large</td>\n",
       "      <td>NLP</td>\n",
       "      <td>0.837</td>\n",
       "      <td>0.836</td>\n",
       "      <td>0.836</td>\n",
       "      <td>0.837</td>\n",
       "    </tr>\n",
       "    <tr>\n",
       "      <th>8</th>\n",
       "      <td>Decision Tree</td>\n",
       "      <td>bert-large</td>\n",
       "      <td>NLP</td>\n",
       "      <td>0.719</td>\n",
       "      <td>0.719</td>\n",
       "      <td>0.719</td>\n",
       "      <td>0.719</td>\n",
       "    </tr>\n",
       "    <tr>\n",
       "      <th>9</th>\n",
       "      <td>XGBoost</td>\n",
       "      <td>bert-large</td>\n",
       "      <td>NLP</td>\n",
       "      <td>0.852</td>\n",
       "      <td>0.851</td>\n",
       "      <td>0.851</td>\n",
       "      <td>0.852</td>\n",
       "    </tr>\n",
       "    <tr>\n",
       "      <th>10</th>\n",
       "      <td>K-Nearest Neighbors</td>\n",
       "      <td>bert-large</td>\n",
       "      <td>report+NLP</td>\n",
       "      <td>0.670</td>\n",
       "      <td>0.663</td>\n",
       "      <td>0.664</td>\n",
       "      <td>0.668</td>\n",
       "    </tr>\n",
       "    <tr>\n",
       "      <th>11</th>\n",
       "      <td>Logistic Regression</td>\n",
       "      <td>bert-large</td>\n",
       "      <td>report+NLP</td>\n",
       "      <td>0.609</td>\n",
       "      <td>0.595</td>\n",
       "      <td>0.598</td>\n",
       "      <td>0.609</td>\n",
       "    </tr>\n",
       "    <tr>\n",
       "      <th>12</th>\n",
       "      <td>Random Forest</td>\n",
       "      <td>bert-large</td>\n",
       "      <td>report+NLP</td>\n",
       "      <td>0.875</td>\n",
       "      <td>0.874</td>\n",
       "      <td>0.875</td>\n",
       "      <td>0.875</td>\n",
       "    </tr>\n",
       "    <tr>\n",
       "      <th>13</th>\n",
       "      <td>Decision Tree</td>\n",
       "      <td>bert-large</td>\n",
       "      <td>report+NLP</td>\n",
       "      <td>0.799</td>\n",
       "      <td>0.799</td>\n",
       "      <td>0.799</td>\n",
       "      <td>0.799</td>\n",
       "    </tr>\n",
       "    <tr>\n",
       "      <th>14</th>\n",
       "      <td>XGBoost</td>\n",
       "      <td>bert-large</td>\n",
       "      <td>report+NLP</td>\n",
       "      <td>0.890</td>\n",
       "      <td>0.889</td>\n",
       "      <td>0.890</td>\n",
       "      <td>0.890</td>\n",
       "    </tr>\n",
       "  </tbody>\n",
       "</table>\n",
       "</div>"
      ],
      "text/plain": [
       "                  Model Language Model    Features  Average Accuracy  \\\n",
       "0   K-Nearest Neighbors     bert-large      report             0.670   \n",
       "1   Logistic Regression     bert-large      report             0.609   \n",
       "2         Random Forest     bert-large      report             0.812   \n",
       "3         Decision Tree     bert-large      report             0.741   \n",
       "4               XGBoost     bert-large      report             0.819   \n",
       "5   K-Nearest Neighbors     bert-large         NLP             0.851   \n",
       "6   Logistic Regression     bert-large         NLP             0.828   \n",
       "7         Random Forest     bert-large         NLP             0.837   \n",
       "8         Decision Tree     bert-large         NLP             0.719   \n",
       "9               XGBoost     bert-large         NLP             0.852   \n",
       "10  K-Nearest Neighbors     bert-large  report+NLP             0.670   \n",
       "11  Logistic Regression     bert-large  report+NLP             0.609   \n",
       "12        Random Forest     bert-large  report+NLP             0.875   \n",
       "13        Decision Tree     bert-large  report+NLP             0.799   \n",
       "14              XGBoost     bert-large  report+NLP             0.890   \n",
       "\n",
       "    Average F1 Score  Average Precision  Average Recall  \n",
       "0              0.663              0.664           0.668  \n",
       "1              0.594              0.598           0.608  \n",
       "2              0.808              0.810           0.811  \n",
       "3              0.740              0.740           0.740  \n",
       "4              0.816              0.816           0.818  \n",
       "5              0.850              0.852           0.850  \n",
       "6              0.826              0.826           0.828  \n",
       "7              0.836              0.836           0.837  \n",
       "8              0.719              0.719           0.719  \n",
       "9              0.851              0.851           0.852  \n",
       "10             0.663              0.664           0.668  \n",
       "11             0.595              0.598           0.609  \n",
       "12             0.874              0.875           0.875  \n",
       "13             0.799              0.799           0.799  \n",
       "14             0.889              0.890           0.890  "
      ]
     },
     "execution_count": 8,
     "metadata": {},
     "output_type": "execute_result"
    }
   ],
   "source": []
  },
  {
   "cell_type": "code",
   "execution_count": 9,
   "id": "5e3b3964",
   "metadata": {},
   "outputs": [],
   "source": []
  },
  {
   "cell_type": "code",
   "execution_count": 10,
   "id": "b96d681f",
   "metadata": {},
   "outputs": [],
   "source": [
    "results_df = pd.DataFrame(results, columns=['Model', 'Language Model','Features','Average Accuracy', 'Average F1 Score', 'Average Precision', 'Average Recall']).round(3)\n",
    "results_df\n",
    "\n",
    "\n",
    "results_df.loc[results_df['Features'] == 'report', 'Language Model'] = '-'\n",
    "\n",
    "results_df.to_csv('results-LLM-32-even-severity-final-BL.csv')\n",
    "\n",
    "def calculate_average(df):\n",
    "    df = df.copy()  # Make a copy of the DataFrame to avoid modifying the original\n",
    "    # Group by 'Features' and 'Model', then calculate mean for 'Average RMSE' and 'Average MAPE'\n",
    "    df_avg = df.groupby(['Language Model','Features', 'Model'], as_index=False).mean()\n",
    "    \n",
    "    return df_avg\n",
    "results_df = calculate_average(results_df)\n",
    "results_df.to_csv('results-LLM-32-even-severity-final-BL.csv')"
   ]
  },
  {
   "cell_type": "code",
   "execution_count": 30,
   "id": "07f720e7",
   "metadata": {},
   "outputs": [
    {
     "data": {
      "text/plain": [
       "(48714, 75)"
      ]
     },
     "execution_count": 30,
     "metadata": {},
     "output_type": "execute_result"
    }
   ],
   "source": [
    "XES.shape"
   ]
  },
  {
   "cell_type": "code",
   "execution_count": 45,
   "id": "aa6e8301",
   "metadata": {},
   "outputs": [],
   "source": [
    "xt = pd.read_csv('results-LLM-32-even-severity-final-0.csv').iloc[:,1:]"
   ]
  },
  {
   "cell_type": "code",
   "execution_count": 46,
   "id": "cb39f67f",
   "metadata": {},
   "outputs": [],
   "source": [
    "xt.loc[xt['Feature Set'] == 'report', 'Language Model'] = '-'"
   ]
  },
  {
   "cell_type": "code",
   "execution_count": 47,
   "id": "13b68697",
   "metadata": {},
   "outputs": [],
   "source": [
    "def calculate_average(df):\n",
    "    df = df.copy()  # Make a copy of the DataFrame to avoid modifying the original\n",
    "    # Group by 'Features' and 'Model', then calculate mean for 'Average RMSE' and 'Average MAPE'\n",
    "    df_avg = df.groupby(['Language Model','Feature Set', 'Model'], as_index=False).mean().round(3)\n",
    "    \n",
    "    return df_avg\n",
    "xt = calculate_average(xt)"
   ]
  },
  {
   "cell_type": "code",
   "execution_count": 48,
   "id": "fc1bd2b0",
   "metadata": {},
   "outputs": [],
   "source": [
    "xt.to_csv('results-LLM-32-even-severity-final-1.csv')"
   ]
  },
  {
   "cell_type": "code",
   "execution_count": null,
   "id": "7d3bc163",
   "metadata": {},
   "outputs": [],
   "source": []
  },
  {
   "cell_type": "code",
   "execution_count": null,
   "id": "e6c23a15",
   "metadata": {},
   "outputs": [],
   "source": []
  },
  {
   "cell_type": "code",
   "execution_count": null,
   "id": "f1349da9",
   "metadata": {},
   "outputs": [],
   "source": []
  },
  {
   "cell_type": "code",
   "execution_count": null,
   "id": "29021b5a",
   "metadata": {},
   "outputs": [],
   "source": []
  },
  {
   "cell_type": "code",
   "execution_count": null,
   "id": "34512046",
   "metadata": {},
   "outputs": [],
   "source": []
  },
  {
   "cell_type": "code",
   "execution_count": null,
   "id": "0b202d1d",
   "metadata": {},
   "outputs": [],
   "source": [
    "import numpy as np\n",
    "from sklearn.model_selection import KFold\n",
    "from sklearn.tree import DecisionTreeRegressor\n",
    "from lightgbm import LGBMRegressor\n",
    "from xgboost import XGBRegressor\n",
    "from sklearn.ensemble import RandomForestRegressor, GradientBoostingRegressor\n",
    "from sklearn.linear_model import LinearRegression, ElasticNet\n",
    "from math import sqrt\n",
    "import pandas as pd\n",
    "from sklearn.base import clone\n",
    "\n",
    "# Define the models\n",
    "models = {\n",
    "    \"Linear Regression\": LinearRegression(),\n",
    "    \"ElasticNet\": ElasticNet(),\n",
    "    \"DecisionTree\": DecisionTreeRegressor(),\n",
    "    \"XGBoost\": XGBRegressor(n_estimators=50, n_jobs=1) \n",
    "}\n",
    "\n",
    "# List of language models\n",
    "language_models = ['roberta', 'bert', 'gpt2', 'mt5','xlnet']\n",
    "\n",
    "# language_models = ['xlnet']\n",
    "\n",
    "# Feature sets\n",
    "feature_sets = ['VX', 'TX', 'VX+TX']\n",
    "\n",
    "feature_sets = ['VX', 'VX+TX']\n",
    "\n",
    "# Function to compute the Mean Absolute Percentage Error (MAPE)\n",
    "\n",
    "\n",
    "# Define KFold cross-validation\n",
    "kf = KFold(n_splits=5)\n",
    "\n",
    "# Function to perform cross-validation\n",
    "def cross_validate(model, X, y, kf):\n",
    "    rmse_scores = []\n",
    "    mape_scores = []\n",
    "    for train_index, test_index in kf.split(X):\n",
    "        # Create a clone of the model to ensure that the model's initial state is preserved\n",
    "        model_clone = clone(model)\n",
    "        # Split the data\n",
    "        X_train, X_test = X[train_index], X[test_index]\n",
    "        y_train, y_test = y[train_index], y[test_index]\n",
    "        # Fit the model\n",
    "        model_clone.fit(X_train, y_train)\n",
    "        # Make predictions\n",
    "        y_pred = model_clone.predict(X_test)\n",
    "        # Calculate RMSE\n",
    "        mse_score = np.mean((np.expm1(y_test) - np.expm1(y_pred)) ** 2)\n",
    "        rmse_score = np.sqrt(mse_score)\n",
    "        rmse_scores.append(rmse_score)\n",
    "        # Calculate MAPE\n",
    "        mape_score = mean_absolute_percentage_error(y_test, y_pred)\n",
    "        mape_scores.append(mape_score)\n",
    "    # Calculate average scores\n",
    "    average_rmse = np.mean(rmse_scores)\n",
    "    average_mape = np.mean(mape_scores)\n",
    "    return average_rmse, average_mape\n",
    "\n",
    "\n",
    "results = []\n",
    "y = np.log1p(DX)\n",
    "# Calculate cross-validation score for each model\n",
    "for language_model in language_models:\n",
    "    print(f\"Loading features for language model: {language_model}...\")\n",
    "    FX = load_features(language_model)[filtered]\n",
    "    VX = perform_pca(FX, 32)\n",
    "    for feature_set in feature_sets:\n",
    "        if feature_set == 'VX':\n",
    "            X = VX\n",
    "        elif feature_set == 'TX':\n",
    "            X = TX\n",
    "        elif feature_set == 'VX+TX':\n",
    "            X = np.concatenate([VX,TX],axis=1)\n",
    "        for model_name, model in models.items():\n",
    "            print(f\"Cross-validating {model_name} with {feature_set} features from {language_model}...\")\n",
    "            average_rmse, average_mape = cross_validate(model, XES, YES, kf)\n",
    "            results.append([language_model, feature_set, model_name, average_rmse, average_mape])\n",
    "            print(f\"{model_name} cross-validation complete. Average RMSE: {average_rmse}, Average MAPE: {average_mape}\\n\")\n",
    "\n",
    "# Convert results to DataFrame for a nice table display\n",
    "results_df = pd.DataFrame(results, columns=['Language Model', 'Features', 'Model', 'Average RMSE', 'Average MAPE']).round(2)\n",
    "print(results_df)\n"
   ]
  },
  {
   "cell_type": "code",
   "execution_count": null,
   "id": "b2a50d5c",
   "metadata": {},
   "outputs": [],
   "source": []
  },
  {
   "cell_type": "code",
   "execution_count": null,
   "id": "3d057eee",
   "metadata": {},
   "outputs": [],
   "source": []
  },
  {
   "cell_type": "code",
   "execution_count": null,
   "id": "d7a548fd",
   "metadata": {},
   "outputs": [],
   "source": []
  },
  {
   "cell_type": "code",
   "execution_count": 2,
   "id": "5c586a04",
   "metadata": {},
   "outputs": [],
   "source": []
  },
  {
   "cell_type": "code",
   "execution_count": 3,
   "id": "bd67b9e3",
   "metadata": {},
   "outputs": [],
   "source": [
    "import pandas as pd\n",
    "from sklearn.preprocessing import LabelEncoder\n",
    "\n",
    "def preprocess_and_encode(df):\n",
    "    # Create a copy of the dataframe\n",
    "    df_encoded = df.copy()\n",
    "\n",
    "    # Fill NaN values with -1\n",
    "    df_encoded.fillna(-1, inplace=True)\n",
    "\n",
    "    # Label encoding for categorical columns\n",
    "    label_encoders = {}\n",
    "    for col in df_encoded.select_dtypes(include=['object', 'int64']).columns:\n",
    "        le = LabelEncoder()\n",
    "        # Convert everything to string before encoding\n",
    "        df_encoded[col] = le.fit_transform(df_encoded[col].astype(str))\n",
    "        label_encoders[col] = le\n",
    "\n",
    "    # Convert boolean columns to int\n",
    "    for col in df_encoded.select_dtypes(include=['bool']).columns:\n",
    "        df_encoded[col] = df_encoded[col].astype(int)\n",
    "        \n",
    "    return df_encoded #, label_encoders\n",
    "\n",
    "TX = preprocess_and_encode(dt.drop(['Duration','Severity','FullText','Description'],axis=1)).values"
   ]
  },
  {
   "cell_type": "code",
   "execution_count": 4,
   "id": "79f7d627",
   "metadata": {},
   "outputs": [
    {
     "data": {
      "text/plain": [
       "(48714, 768)"
      ]
     },
     "execution_count": 4,
     "metadata": {},
     "output_type": "execute_result"
    }
   ],
   "source": [
    "SX = dt.Severity.values\n",
    "DX = dt.Duration.values\n",
    "FX = load_features('bert')\n",
    "FX.shape"
   ]
  },
  {
   "cell_type": "code",
   "execution_count": 5,
   "id": "9094359b",
   "metadata": {},
   "outputs": [
    {
     "data": {
      "text/plain": [
       "(48714,)"
      ]
     },
     "execution_count": 5,
     "metadata": {},
     "output_type": "execute_result"
    }
   ],
   "source": [
    "DX.shape"
   ]
  },
  {
   "cell_type": "code",
   "execution_count": 52,
   "id": "5e4780aa",
   "metadata": {},
   "outputs": [],
   "source": [
    "# filtered = DX<720\n",
    "# FX=FX[filtered]\n",
    "# SX=SX[filtered]\n",
    "# TX=TX[filtered]\n",
    "# DX=DX[filtered]"
   ]
  },
  {
   "cell_type": "code",
   "execution_count": 9,
   "id": "3a907fae",
   "metadata": {},
   "outputs": [
    {
     "data": {
      "image/png": "[encoded data removed]",
      "text/plain": [
       "<Figure size 360x288 with 1 Axes>"
      ]
     },
     "metadata": {},
     "output_type": "display_data"
    }
   ],
   "source": [
    "import numpy as np\n",
    "import seaborn as sns\n",
    "import matplotlib.pyplot as plt\n",
    "\n",
    "# Sample data\n",
    "\n",
    "# Define the quantiles\n",
    "quantiles = np.quantile(DX, [0.2, 0.4, 0.6, 0.8, 1.0])\n",
    "\n",
    "# Set the style\n",
    "sns.set_style('whitegrid')\n",
    "\n",
    "# Create the histogram\n",
    "plt.figure(figsize=(5, 4))\n",
    "sns.histplot(DX, bins=50, kde=True, color='blue')\n",
    "\n",
    "# Add quantile ticks and labels\n",
    "# for q in quantiles:\n",
    "#     plt.axvline(x=q, color='red', linestyle='--', alpha=0.8)\n",
    "#     plt.text(q, 0, f'{q:.0f}', rotation=45, color='red', verticalalignment='bottom')\n",
    "\n",
    "# Set title and labels\n",
    "plt.title('Histogram of Traffic Accident Duration')\n",
    "plt.xlabel('Duration (minutes)')\n",
    "plt.ylabel('Count')\n",
    "plt.xlim(0,400)\n",
    "# Save as PDF\n",
    "plt.tight_layout()\n",
    "plt.savefig('traffic_accident_histogram.pdf', format='pdf')\n",
    "\n",
    "# Show the plot\n",
    "plt.show()\n"
   ]
  },
  {
   "cell_type": "code",
   "execution_count": null,
   "id": "473f8223",
   "metadata": {},
   "outputs": [],
   "source": []
  },
  {
   "cell_type": "code",
   "execution_count": 12,
   "id": "c7dbd540",
   "metadata": {},
   "outputs": [],
   "source": [
    "\n",
    "\n",
    "# Usage:\n",
    "\n"
   ]
  },
  {
   "cell_type": "code",
   "execution_count": null,
   "id": "76eb05af",
   "metadata": {},
   "outputs": [],
   "source": [
    "\n"
   ]
  },
  {
   "cell_type": "code",
   "execution_count": 15,
   "id": "b747e10d",
   "metadata": {},
   "outputs": [
    {
     "name": "stdout",
     "output_type": "stream",
     "text": [
      "\n"
     ]
    },
    {
     "data": {
      "image/png": "[encoded data removed]",
      "text/plain": [
       "<Figure size 432x288 with 1 Axes>"
      ]
     },
     "metadata": {},
     "output_type": "display_data"
    }
   ],
   "source": [
    "import matplotlib.pyplot as plt\n",
    "plt.hist(SX,bins=10)\n",
    "print()"
   ]
  },
  {
   "cell_type": "code",
   "execution_count": 16,
   "id": "7e26278c",
   "metadata": {},
   "outputs": [
    {
     "data": {
      "text/plain": [
       "48714"
      ]
     },
     "execution_count": 16,
     "metadata": {},
     "output_type": "execute_result"
    }
   ],
   "source": [
    "len(SX)"
   ]
  },
  {
   "cell_type": "code",
   "execution_count": 21,
   "id": "fde3ee79",
   "metadata": {},
   "outputs": [
    {
     "data": {
      "text/plain": [
       "(48714, 43)"
      ]
     },
     "execution_count": 21,
     "metadata": {},
     "output_type": "execute_result"
    }
   ],
   "source": [
    "TX.shape"
   ]
  },
  {
   "cell_type": "code",
   "execution_count": 26,
   "id": "2c1522e0",
   "metadata": {},
   "outputs": [
    {
     "data": {
      "text/plain": [
       "array([360.,  34.,  22.,  30.,  60.,  30.])"
      ]
     },
     "execution_count": 26,
     "metadata": {},
     "output_type": "execute_result"
    }
   ],
   "source": [
    "DX"
   ]
  },
  {
   "cell_type": "code",
   "execution_count": null,
   "id": "a8333707",
   "metadata": {},
   "outputs": [],
   "source": []
  },
  {
   "cell_type": "code",
   "execution_count": null,
   "id": "b61af4d4",
   "metadata": {},
   "outputs": [],
   "source": []
  },
  {
   "cell_type": "code",
   "execution_count": null,
   "id": "162cba49",
   "metadata": {},
   "outputs": [],
   "source": []
  },
  {
   "cell_type": "code",
   "execution_count": null,
   "id": "cdd0a5a1",
   "metadata": {},
   "outputs": [],
   "source": []
  },
  {
   "cell_type": "code",
   "execution_count": null,
   "id": "05a306f2",
   "metadata": {},
   "outputs": [],
   "source": []
  },
  {
   "cell_type": "code",
   "execution_count": 28,
   "id": "803a23cd",
   "metadata": {},
   "outputs": [
    {
     "name": "stdout",
     "output_type": "stream",
     "text": [
      "Starting PCA...\n",
      "PCA complete.\n",
      "Reduced data shape: (48714, 32)\n",
      "Cross-validating Linear Regression...\n"
     ]
    },
    {
     "ename": "IndexError",
     "evalue": "index 9743 is out of bounds for axis 0 with size 6",
     "output_type": "error",
     "traceback": [
      "\u001b[0;31m---------------------------------------------------------------------------\u001b[0m",
      "\u001b[0;31mIndexError\u001b[0m                                Traceback (most recent call last)",
      "\u001b[0;32m<ipython-input-28-e5adb6e483fb>\u001b[0m in \u001b[0;36m<module>\u001b[0;34m\u001b[0m\n\u001b[1;32m     83\u001b[0m \u001b[0;32mfor\u001b[0m \u001b[0mmodel_name\u001b[0m\u001b[0;34m,\u001b[0m \u001b[0mmodel\u001b[0m \u001b[0;32min\u001b[0m \u001b[0mmodels\u001b[0m\u001b[0;34m.\u001b[0m\u001b[0mitems\u001b[0m\u001b[0;34m(\u001b[0m\u001b[0;34m)\u001b[0m\u001b[0;34m:\u001b[0m\u001b[0;34m\u001b[0m\u001b[0;34m\u001b[0m\u001b[0m\n\u001b[1;32m     84\u001b[0m     \u001b[0mprint\u001b[0m\u001b[0;34m(\u001b[0m\u001b[0;34mf\"Cross-validating {model_name}...\"\u001b[0m\u001b[0;34m)\u001b[0m\u001b[0;34m\u001b[0m\u001b[0;34m\u001b[0m\u001b[0m\n\u001b[0;32m---> 85\u001b[0;31m     \u001b[0maverage_rmse\u001b[0m\u001b[0;34m,\u001b[0m \u001b[0maverage_mape\u001b[0m \u001b[0;34m=\u001b[0m \u001b[0mcross_validate\u001b[0m\u001b[0;34m(\u001b[0m\u001b[0mmodel\u001b[0m\u001b[0;34m,\u001b[0m \u001b[0mXES\u001b[0m\u001b[0;34m,\u001b[0m \u001b[0mYES\u001b[0m\u001b[0;34m,\u001b[0m \u001b[0mkf\u001b[0m\u001b[0;34m)\u001b[0m\u001b[0;34m\u001b[0m\u001b[0;34m\u001b[0m\u001b[0m\n\u001b[0m\u001b[1;32m     86\u001b[0m     \u001b[0mresults\u001b[0m\u001b[0;34m.\u001b[0m\u001b[0mappend\u001b[0m\u001b[0;34m(\u001b[0m\u001b[0;34m[\u001b[0m\u001b[0mmodel_name\u001b[0m\u001b[0;34m,\u001b[0m \u001b[0maverage_rmse\u001b[0m\u001b[0;34m,\u001b[0m \u001b[0maverage_mape\u001b[0m\u001b[0;34m]\u001b[0m\u001b[0;34m)\u001b[0m\u001b[0;34m\u001b[0m\u001b[0;34m\u001b[0m\u001b[0m\n\u001b[1;32m     87\u001b[0m     \u001b[0mprint\u001b[0m\u001b[0;34m(\u001b[0m\u001b[0;34mf\"{model_name} cross-validation complete. Average RMSE: {average_rmse}, Average MAPE: {average_mape}\\n\"\u001b[0m\u001b[0;34m)\u001b[0m\u001b[0;34m\u001b[0m\u001b[0;34m\u001b[0m\u001b[0m\n",
      "\u001b[0;32m<ipython-input-28-e5adb6e483fb>\u001b[0m in \u001b[0;36mcross_validate\u001b[0;34m(model, X, y, kf)\u001b[0m\n\u001b[1;32m     54\u001b[0m         \u001b[0;31m# Split the data\u001b[0m\u001b[0;34m\u001b[0m\u001b[0;34m\u001b[0m\u001b[0;34m\u001b[0m\u001b[0m\n\u001b[1;32m     55\u001b[0m         \u001b[0mX_train\u001b[0m\u001b[0;34m,\u001b[0m \u001b[0mX_test\u001b[0m \u001b[0;34m=\u001b[0m \u001b[0mX\u001b[0m\u001b[0;34m[\u001b[0m\u001b[0mtrain_index\u001b[0m\u001b[0;34m]\u001b[0m\u001b[0;34m,\u001b[0m \u001b[0mX\u001b[0m\u001b[0;34m[\u001b[0m\u001b[0mtest_index\u001b[0m\u001b[0;34m]\u001b[0m\u001b[0;34m\u001b[0m\u001b[0;34m\u001b[0m\u001b[0m\n\u001b[0;32m---> 56\u001b[0;31m         \u001b[0my_train\u001b[0m\u001b[0;34m,\u001b[0m \u001b[0my_test\u001b[0m \u001b[0;34m=\u001b[0m \u001b[0my\u001b[0m\u001b[0;34m[\u001b[0m\u001b[0mtrain_index\u001b[0m\u001b[0;34m]\u001b[0m\u001b[0;34m,\u001b[0m \u001b[0my\u001b[0m\u001b[0;34m[\u001b[0m\u001b[0mtest_index\u001b[0m\u001b[0;34m]\u001b[0m\u001b[0;34m\u001b[0m\u001b[0;34m\u001b[0m\u001b[0m\n\u001b[0m\u001b[1;32m     57\u001b[0m \u001b[0;34m\u001b[0m\u001b[0m\n\u001b[1;32m     58\u001b[0m         \u001b[0;31m# Fit the model\u001b[0m\u001b[0;34m\u001b[0m\u001b[0;34m\u001b[0m\u001b[0;34m\u001b[0m\u001b[0m\n",
      "\u001b[0;31mIndexError\u001b[0m: index 9743 is out of bounds for axis 0 with size 6"
     ]
    }
   ],
   "source": [
    "import numpy as np\n",
    "from sklearn.model_selection import KFold\n",
    "from sklearn.tree import DecisionTreeRegressor\n",
    "from lightgbm import LGBMRegressor\n",
    "from xgboost import XGBRegressor\n",
    "from sklearn.ensemble import RandomForestRegressor, GradientBoostingRegressor\n",
    "from sklearn.linear_model import LinearRegression\n",
    "from math import sqrt\n",
    "import pandas as pd\n",
    "from sklearn.base import clone\n",
    "from sklearn.linear_model import SGDRegressor\n",
    "\n",
    "from sklearn.linear_model import ElasticNet\n",
    "model = ElasticNet()\n",
    "# Define the models\n",
    "models = {\n",
    "    \"Linear Regression\": LinearRegression(),\n",
    "#     \"SGD\": SGDRegressor(loss='huber',max_iter=1000),\n",
    "    \"ElasticNet\": ElasticNet(),\n",
    "    \"DecisionTree\": DecisionTreeRegressor(max_depth=8),\n",
    "#     \"LightGBM\": LGBMRegressor(),\n",
    "#     \"Random Forest\": RandomForestRegressor(),\n",
    "#     \"Gradient Boosting\": GradientBoostingRegressor(),\n",
    "    \"XGBoost\": XGBRegressor(n_estimators=50,n_jobs=1) \n",
    "}\n",
    "\n",
    "FX = load_features('roberta') #'bert','gpt2'\n",
    "VX = perform_pca(FX,32)\n",
    "\n",
    "# Prepare data (X, y)\n",
    "XES = np.concatenate([VX,TX],axis=1) #VX only, TX only, VX+TX\n",
    "YES = np.log1p(DX)  # Apply log1p transformation to the target\n",
    "\n",
    "# Function to compute the Mean Absolute Percentage Error (MAPE)\n",
    "def mean_absolute_percentage_error(y_true, y_pred): \n",
    "    y_true, y_pred = np.expm1(y_true), np.expm1(y_pred)  # Apply expm1 before calculating the metrics\n",
    "    return np.mean(np.where(y_true != 0, np.abs((y_true - y_pred) / y_true), 0)) * 100\n",
    "\n",
    "# For storing results\n",
    "results = []\n",
    "\n",
    "# Define KFold cross-validation\n",
    "kf = KFold(n_splits=5)\n",
    "\n",
    "# Function to perform cross-validation\n",
    "def cross_validate(model, X, y, kf):\n",
    "    rmse_scores = []\n",
    "    mape_scores = []\n",
    "\n",
    "    for train_index, test_index in kf.split(X):\n",
    "        # Create a clone of the model to ensure that the model's initial state is preserved\n",
    "        model_clone = clone(model)\n",
    "\n",
    "        # Split the data\n",
    "        X_train, X_test = X[train_index], X[test_index]\n",
    "        y_train, y_test = y[train_index], y[test_index]\n",
    "\n",
    "        # Fit the model\n",
    "        print(f\"Fitting {model.__class__.__name__}...\")\n",
    "        model_clone.fit(X_train, y_train)\n",
    "        \n",
    "        # Make predictions\n",
    "        print(\"Making predictions...\")\n",
    "        y_pred = model_clone.predict(X_test)\n",
    "        \n",
    "        y_pred = np.clip(y_pred, 0, np.log1p(720))\n",
    "        # Calculate RMSE\n",
    "        mse_score = np.mean((np.expm1(y_test) - np.expm1(y_pred)) ** 2)\n",
    "        rmse_score = np.sqrt(mse_score)\n",
    "        rmse_scores.append(rmse_score)\n",
    "        \n",
    "        # Calculate MAPE\n",
    "        mape_score = mean_absolute_percentage_error(y_test, y_pred)\n",
    "        mape_scores.append(mape_score)\n",
    "    \n",
    "    # Calculate average scores\n",
    "    average_rmse = np.mean(rmse_scores)\n",
    "    average_mape = np.mean(mape_scores)\n",
    "    \n",
    "    return average_rmse, average_mape\n",
    "\n",
    "# Calculate cross-validation score for each model\n",
    "for model_name, model in models.items():\n",
    "    print(f\"Cross-validating {model_name}...\")\n",
    "    average_rmse, average_mape = cross_validate(model, XES, YES, kf)\n",
    "    results.append([model_name, average_rmse, average_mape])\n",
    "    print(f\"{model_name} cross-validation complete. Average RMSE: {average_rmse}, Average MAPE: {average_mape}\\n\")\n",
    "\n",
    "# Convert results to DataFrame for a nice table display\n",
    "results_df = pd.DataFrame(results, columns=['Model', 'Average RMSE', 'Average MAPE']).round(2)\n",
    "print(results_df)\n"
   ]
  },
  {
   "cell_type": "code",
   "execution_count": 101,
   "id": "67ec5634",
   "metadata": {},
   "outputs": [
    {
     "name": "stdout",
     "output_type": "stream",
     "text": [
      "Loading features for language model: roberta...\n",
      "Starting PCA...\n",
      "PCA complete.\n",
      "Reduced data shape: (47915, 32)\n",
      "Cross-validating Linear Regression with VX features from roberta...\n",
      "Linear Regression cross-validation complete. Average RMSE: 104.8884906958792, Average MAPE: 70.70305116168046\n",
      "\n",
      "Cross-validating ElasticNet with VX features from roberta...\n",
      "ElasticNet cross-validation complete. Average RMSE: 118.48861009170032, Average MAPE: 79.36174039553539\n",
      "\n",
      "Cross-validating DecisionTree with VX features from roberta...\n",
      "DecisionTree cross-validation complete. Average RMSE: 130.30401799298437, Average MAPE: 111.17382413138598\n",
      "\n",
      "Cross-validating XGBoost with VX features from roberta...\n",
      "XGBoost cross-validation complete. Average RMSE: 98.44843735025587, Average MAPE: 68.22698880664606\n",
      "\n",
      "Cross-validating Linear Regression with VX+TX features from roberta...\n",
      "Linear Regression cross-validation complete. Average RMSE: 101.31657877888654, Average MAPE: 65.5828456851471\n",
      "\n",
      "Cross-validating ElasticNet with VX+TX features from roberta...\n",
      "ElasticNet cross-validation complete. Average RMSE: 105.53332099580284, Average MAPE: 69.01677358761617\n",
      "\n",
      "Cross-validating DecisionTree with VX+TX features from roberta...\n",
      "DecisionTree cross-validation complete. Average RMSE: 92.79982937908485, Average MAPE: 64.03719103805489\n",
      "\n",
      "Cross-validating XGBoost with VX+TX features from roberta...\n",
      "XGBoost cross-validation complete. Average RMSE: 71.07289532030035, Average MAPE: 42.58759830079221\n",
      "\n",
      "Loading features for language model: bert...\n",
      "Starting PCA...\n",
      "PCA complete.\n",
      "Reduced data shape: (47915, 32)\n",
      "Cross-validating Linear Regression with VX features from bert...\n",
      "Linear Regression cross-validation complete. Average RMSE: 104.44482066711639, Average MAPE: 68.8502969230688\n",
      "\n",
      "Cross-validating ElasticNet with VX features from bert...\n",
      "ElasticNet cross-validation complete. Average RMSE: 118.48861009170032, Average MAPE: 79.36174039553539\n",
      "\n",
      "Cross-validating DecisionTree with VX features from bert...\n",
      "DecisionTree cross-validation complete. Average RMSE: 125.92065010138715, Average MAPE: 104.48777288599976\n",
      "\n",
      "Cross-validating XGBoost with VX features from bert...\n",
      "XGBoost cross-validation complete. Average RMSE: 97.19911746507822, Average MAPE: 64.52936858528918\n",
      "\n",
      "Cross-validating Linear Regression with VX+TX features from bert...\n",
      "Linear Regression cross-validation complete. Average RMSE: 105.97600135540225, Average MAPE: 62.77145550277063\n",
      "\n",
      "Cross-validating ElasticNet with VX+TX features from bert...\n",
      "ElasticNet cross-validation complete. Average RMSE: 105.53332099580284, Average MAPE: 69.01677358761617\n",
      "\n",
      "Cross-validating DecisionTree with VX+TX features from bert...\n",
      "DecisionTree cross-validation complete. Average RMSE: 92.12433319732803, Average MAPE: 62.473398945237236\n",
      "\n",
      "Cross-validating XGBoost with VX+TX features from bert...\n",
      "XGBoost cross-validation complete. Average RMSE: 70.89031130996565, Average MAPE: 39.99057768212106\n",
      "\n",
      "Loading features for language model: gpt2...\n",
      "Starting PCA...\n",
      "PCA complete.\n",
      "Reduced data shape: (47915, 32)\n",
      "Cross-validating Linear Regression with VX features from gpt2...\n",
      "Linear Regression cross-validation complete. Average RMSE: inf, Average MAPE: inf\n",
      "\n",
      "Cross-validating ElasticNet with VX features from gpt2...\n"
     ]
    },
    {
     "name": "stderr",
     "output_type": "stream",
     "text": [
      "/home/agrigore/ENV/lib64/python3.6/site-packages/ipykernel_launcher.py:53: RuntimeWarning: overflow encountered in expm1\n",
      "/home/agrigore/ENV/lib64/python3.6/site-packages/ipykernel_launcher.py:32: RuntimeWarning: overflow encountered in expm1\n"
     ]
    },
    {
     "name": "stdout",
     "output_type": "stream",
     "text": [
      "ElasticNet cross-validation complete. Average RMSE: 118.48861009170032, Average MAPE: 79.36174039553539\n",
      "\n",
      "Cross-validating DecisionTree with VX features from gpt2...\n",
      "DecisionTree cross-validation complete. Average RMSE: 118.49278711700863, Average MAPE: 79.37938348365506\n",
      "\n",
      "Cross-validating XGBoost with VX features from gpt2...\n",
      "XGBoost cross-validation complete. Average RMSE: 118.50034867412435, Average MAPE: 79.37377169022444\n",
      "\n",
      "Cross-validating Linear Regression with VX+TX features from gpt2...\n",
      "Linear Regression cross-validation complete. Average RMSE: 2.132279110661904e+63, Average MAPE: 3.889603042325823e+60\n",
      "\n",
      "Cross-validating ElasticNet with VX+TX features from gpt2...\n",
      "ElasticNet cross-validation complete. Average RMSE: 105.53332099580284, Average MAPE: 69.01677358761617\n",
      "\n",
      "Cross-validating DecisionTree with VX+TX features from gpt2...\n",
      "DecisionTree cross-validation complete. Average RMSE: 90.26999057830906, Average MAPE: 65.24157379629993\n",
      "\n",
      "Cross-validating XGBoost with VX+TX features from gpt2...\n",
      "XGBoost cross-validation complete. Average RMSE: 70.49401187089984, Average MAPE: 43.66189798396442\n",
      "\n",
      "Loading features for language model: mt5...\n",
      "Starting PCA...\n",
      "PCA complete.\n",
      "Reduced data shape: (47915, 32)\n",
      "Cross-validating Linear Regression with VX features from mt5...\n",
      "Linear Regression cross-validation complete. Average RMSE: 111.86089267334822, Average MAPE: 71.91867266726682\n",
      "\n",
      "Cross-validating ElasticNet with VX features from mt5...\n",
      "ElasticNet cross-validation complete. Average RMSE: 118.48861009170032, Average MAPE: 79.36174039553539\n",
      "\n",
      "Cross-validating DecisionTree with VX features from mt5...\n",
      "DecisionTree cross-validation complete. Average RMSE: 146.35234188391465, Average MAPE: 131.01160410476731\n",
      "\n",
      "Cross-validating XGBoost with VX features from mt5...\n",
      "XGBoost cross-validation complete. Average RMSE: 109.20006456385985, Average MAPE: 72.30994828223257\n",
      "\n",
      "Cross-validating Linear Regression with VX+TX features from mt5...\n",
      "Linear Regression cross-validation complete. Average RMSE: 103.13619835072618, Average MAPE: 66.1629770831502\n",
      "\n",
      "Cross-validating ElasticNet with VX+TX features from mt5...\n",
      "ElasticNet cross-validation complete. Average RMSE: 105.53332099580284, Average MAPE: 69.01677358761617\n",
      "\n",
      "Cross-validating DecisionTree with VX+TX features from mt5...\n",
      "DecisionTree cross-validation complete. Average RMSE: 94.20218215117453, Average MAPE: 66.11293400310335\n",
      "\n",
      "Cross-validating XGBoost with VX+TX features from mt5...\n",
      "XGBoost cross-validation complete. Average RMSE: 72.6392850738571, Average MAPE: 43.67476413294895\n",
      "\n",
      "Loading features for language model: xlnet...\n",
      "Starting PCA...\n",
      "PCA complete.\n",
      "Reduced data shape: (47915, 32)\n",
      "Cross-validating Linear Regression with VX features from xlnet...\n",
      "Linear Regression cross-validation complete. Average RMSE: 104.99637980224472, Average MAPE: 68.42963543668827\n",
      "\n",
      "Cross-validating ElasticNet with VX features from xlnet...\n",
      "ElasticNet cross-validation complete. Average RMSE: 114.80425332155144, Average MAPE: 72.78965315507064\n",
      "\n",
      "Cross-validating DecisionTree with VX features from xlnet...\n",
      "DecisionTree cross-validation complete. Average RMSE: 126.96366253631145, Average MAPE: 103.77765402695141\n",
      "\n",
      "Cross-validating XGBoost with VX features from xlnet...\n",
      "XGBoost cross-validation complete. Average RMSE: 96.62644522509427, Average MAPE: 62.4081637965168\n",
      "\n",
      "Cross-validating Linear Regression with VX+TX features from xlnet...\n",
      "Linear Regression cross-validation complete. Average RMSE: 108.82789254828575, Average MAPE: 60.29612842871277\n",
      "\n",
      "Cross-validating ElasticNet with VX+TX features from xlnet...\n",
      "ElasticNet cross-validation complete. Average RMSE: 105.5333201700472, Average MAPE: 69.01677403288865\n",
      "\n",
      "Cross-validating DecisionTree with VX+TX features from xlnet...\n",
      "DecisionTree cross-validation complete. Average RMSE: 92.64781910790298, Average MAPE: 60.73861970479646\n",
      "\n",
      "Cross-validating XGBoost with VX+TX features from xlnet...\n",
      "XGBoost cross-validation complete. Average RMSE: 70.71120804272655, Average MAPE: 39.2007339286497\n",
      "\n",
      "   Language Model Features              Model  Average RMSE  Average MAPE\n",
      "0         roberta       VX  Linear Regression  1.048900e+02  7.070000e+01\n",
      "1         roberta       VX         ElasticNet  1.184900e+02  7.936000e+01\n",
      "2         roberta       VX       DecisionTree  1.303000e+02  1.111700e+02\n",
      "3         roberta       VX            XGBoost  9.845000e+01  6.823000e+01\n",
      "4         roberta    VX+TX  Linear Regression  1.013200e+02  6.558000e+01\n",
      "5         roberta    VX+TX         ElasticNet  1.055300e+02  6.902000e+01\n",
      "6         roberta    VX+TX       DecisionTree  9.280000e+01  6.404000e+01\n",
      "7         roberta    VX+TX            XGBoost  7.107000e+01  4.259000e+01\n",
      "8            bert       VX  Linear Regression  1.044400e+02  6.885000e+01\n",
      "9            bert       VX         ElasticNet  1.184900e+02  7.936000e+01\n",
      "10           bert       VX       DecisionTree  1.259200e+02  1.044900e+02\n",
      "11           bert       VX            XGBoost  9.720000e+01  6.453000e+01\n",
      "12           bert    VX+TX  Linear Regression  1.059800e+02  6.277000e+01\n",
      "13           bert    VX+TX         ElasticNet  1.055300e+02  6.902000e+01\n",
      "14           bert    VX+TX       DecisionTree  9.212000e+01  6.247000e+01\n",
      "15           bert    VX+TX            XGBoost  7.089000e+01  3.999000e+01\n",
      "16           gpt2       VX  Linear Regression           inf           inf\n",
      "17           gpt2       VX         ElasticNet  1.184900e+02  7.936000e+01\n",
      "18           gpt2       VX       DecisionTree  1.184900e+02  7.938000e+01\n",
      "19           gpt2       VX            XGBoost  1.185000e+02  7.937000e+01\n",
      "20           gpt2    VX+TX  Linear Regression  2.132279e+63  3.889603e+60\n",
      "21           gpt2    VX+TX         ElasticNet  1.055300e+02  6.902000e+01\n",
      "22           gpt2    VX+TX       DecisionTree  9.027000e+01  6.524000e+01\n",
      "23           gpt2    VX+TX            XGBoost  7.049000e+01  4.366000e+01\n",
      "24            mt5       VX  Linear Regression  1.118600e+02  7.192000e+01\n",
      "25            mt5       VX         ElasticNet  1.184900e+02  7.936000e+01\n",
      "26            mt5       VX       DecisionTree  1.463500e+02  1.310100e+02\n",
      "27            mt5       VX            XGBoost  1.092000e+02  7.231000e+01\n",
      "28            mt5    VX+TX  Linear Regression  1.031400e+02  6.616000e+01\n",
      "29            mt5    VX+TX         ElasticNet  1.055300e+02  6.902000e+01\n",
      "30            mt5    VX+TX       DecisionTree  9.420000e+01  6.611000e+01\n",
      "31            mt5    VX+TX            XGBoost  7.264000e+01  4.367000e+01\n",
      "32          xlnet       VX  Linear Regression  1.050000e+02  6.843000e+01\n",
      "33          xlnet       VX         ElasticNet  1.148000e+02  7.279000e+01\n",
      "34          xlnet       VX       DecisionTree  1.269600e+02  1.037800e+02\n",
      "35          xlnet       VX            XGBoost  9.663000e+01  6.241000e+01\n",
      "36          xlnet    VX+TX  Linear Regression  1.088300e+02  6.030000e+01\n",
      "37          xlnet    VX+TX         ElasticNet  1.055300e+02  6.902000e+01\n",
      "38          xlnet    VX+TX       DecisionTree  9.265000e+01  6.074000e+01\n",
      "39          xlnet    VX+TX            XGBoost  7.071000e+01  3.920000e+01\n"
     ]
    }
   ],
   "source": [
    "import numpy as np\n",
    "from sklearn.model_selection import KFold\n",
    "from sklearn.tree import DecisionTreeRegressor\n",
    "from lightgbm import LGBMRegressor\n",
    "from xgboost import XGBRegressor\n",
    "from sklearn.ensemble import RandomForestRegressor, GradientBoostingRegressor\n",
    "from sklearn.linear_model import LinearRegression, ElasticNet\n",
    "from math import sqrt\n",
    "import pandas as pd\n",
    "from sklearn.base import clone\n",
    "\n",
    "# Define the models\n",
    "models = {\n",
    "    \"Linear Regression\": LinearRegression(),\n",
    "    \"ElasticNet\": ElasticNet(),\n",
    "    \"DecisionTree\": DecisionTreeRegressor(),\n",
    "    \"XGBoost\": XGBRegressor(n_estimators=50, n_jobs=1) \n",
    "}\n",
    "\n",
    "# List of language models\n",
    "language_models = ['roberta', 'bert', 'gpt2', 'mt5','xlnet']\n",
    "\n",
    "# language_models = ['xlnet']\n",
    "\n",
    "# Feature sets\n",
    "feature_sets = ['VX', 'TX', 'VX+TX']\n",
    "\n",
    "feature_sets = ['VX', 'VX+TX']\n",
    "\n",
    "# Function to compute the Mean Absolute Percentage Error (MAPE)\n",
    "def mean_absolute_percentage_error(y_true, y_pred): \n",
    "    y_true, y_pred = np.expm1(y_true), np.expm1(y_pred)  # Apply expm1 before calculating the metrics\n",
    "    return np.mean(np.where(y_true != 0, np.abs((y_true - y_pred) / y_true), 0)) * 100\n",
    "\n",
    "# Define KFold cross-validation\n",
    "kf = KFold(n_splits=5)\n",
    "\n",
    "# Function to perform cross-validation\n",
    "def cross_validate(model, X, y, kf):\n",
    "    rmse_scores = []\n",
    "    mape_scores = []\n",
    "    for train_index, test_index in kf.split(X):\n",
    "        # Create a clone of the model to ensure that the model's initial state is preserved\n",
    "        model_clone = clone(model)\n",
    "        # Split the data\n",
    "        X_train, X_test = X[train_index], X[test_index]\n",
    "        y_train, y_test = y[train_index], y[test_index]\n",
    "        # Fit the model\n",
    "        model_clone.fit(X_train, y_train)\n",
    "        # Make predictions\n",
    "        y_pred = model_clone.predict(X_test)\n",
    "        # Calculate RMSE\n",
    "        mse_score = np.mean((np.expm1(y_test) - np.expm1(y_pred)) ** 2)\n",
    "        rmse_score = np.sqrt(mse_score)\n",
    "        rmse_scores.append(rmse_score)\n",
    "        # Calculate MAPE\n",
    "        mape_score = mean_absolute_percentage_error(y_test, y_pred)\n",
    "        mape_scores.append(mape_score)\n",
    "    # Calculate average scores\n",
    "    average_rmse = np.mean(rmse_scores)\n",
    "    average_mape = np.mean(mape_scores)\n",
    "    return average_rmse, average_mape\n",
    "\n",
    "\n",
    "results = []\n",
    "y = np.log1p(DX)\n",
    "# Calculate cross-validation score for each model\n",
    "for language_model in language_models:\n",
    "    print(f\"Loading features for language model: {language_model}...\")\n",
    "    FX = load_features(language_model)[filtered]\n",
    "    VX = perform_pca(FX, 32)\n",
    "    for feature_set in feature_sets:\n",
    "        if feature_set == 'VX':\n",
    "            X = VX\n",
    "        elif feature_set == 'TX':\n",
    "            X = TX\n",
    "        elif feature_set == 'VX+TX':\n",
    "            X = np.concatenate([VX,TX],axis=1)\n",
    "        for model_name, model in models.items():\n",
    "            print(f\"Cross-validating {model_name} with {feature_set} features from {language_model}...\")\n",
    "            average_rmse, average_mape = cross_validate(model, XES, YES, kf)\n",
    "            results.append([language_model, feature_set, model_name, average_rmse, average_mape])\n",
    "            print(f\"{model_name} cross-validation complete. Average RMSE: {average_rmse}, Average MAPE: {average_mape}\\n\")\n",
    "\n",
    "# Convert results to DataFrame for a nice table display\n",
    "results_df = pd.DataFrame(results, columns=['Language Model', 'Features', 'Model', 'Average RMSE', 'Average MAPE']).round(2)\n",
    "print(results_df)\n"
   ]
  },
  {
   "cell_type": "code",
   "execution_count": 102,
   "id": "208a86a7",
   "metadata": {},
   "outputs": [],
   "source": [
    "results_df[results_df.Features=='TX']['Language Model']='-'"
   ]
  },
  {
   "cell_type": "code",
   "execution_count": 103,
   "id": "3920cb56",
   "metadata": {},
   "outputs": [],
   "source": [
    "def replace_feature_values(df):\n",
    "    df = df.copy()  # Make a copy of the DataFrame to avoid modifying the original\n",
    "    df['Features'] = df['Features'].replace({'VX': 'LLM-features', 'TX': 'Report-features', 'VX+TX': 'LLM-features + Report-features'})\n",
    "    \n",
    "    # Replace 'Language Model' with '-' when 'Features' is 'Report-features'\n",
    "    df.loc[df['Features'] == 'Report-features', 'Language Model'] = '-'\n",
    "    \n",
    "    return df\n",
    "results_df = replace_feature_values(results_df.round(1))"
   ]
  },
  {
   "cell_type": "code",
   "execution_count": 104,
   "id": "0294730b",
   "metadata": {},
   "outputs": [
    {
     "data": {
      "text/html": [
       "<div>\n",
       "<style scoped>\n",
       "    .dataframe tbody tr th:only-of-type {\n",
       "        vertical-align: middle;\n",
       "    }\n",
       "\n",
       "    .dataframe tbody tr th {\n",
       "        vertical-align: top;\n",
       "    }\n",
       "\n",
       "    .dataframe thead th {\n",
       "        text-align: right;\n",
       "    }\n",
       "</style>\n",
       "<table border=\"1\" class=\"dataframe\">\n",
       "  <thead>\n",
       "    <tr style=\"text-align: right;\">\n",
       "      <th></th>\n",
       "      <th>Language Model</th>\n",
       "      <th>Features</th>\n",
       "      <th>Model</th>\n",
       "      <th>Average RMSE</th>\n",
       "      <th>Average MAPE</th>\n",
       "    </tr>\n",
       "  </thead>\n",
       "  <tbody>\n",
       "    <tr>\n",
       "      <th>0</th>\n",
       "      <td>roberta</td>\n",
       "      <td>LLM-features</td>\n",
       "      <td>Linear Regression</td>\n",
       "      <td>1.049000e+02</td>\n",
       "      <td>7.070000e+01</td>\n",
       "    </tr>\n",
       "    <tr>\n",
       "      <th>1</th>\n",
       "      <td>roberta</td>\n",
       "      <td>LLM-features</td>\n",
       "      <td>ElasticNet</td>\n",
       "      <td>1.185000e+02</td>\n",
       "      <td>7.940000e+01</td>\n",
       "    </tr>\n",
       "    <tr>\n",
       "      <th>2</th>\n",
       "      <td>roberta</td>\n",
       "      <td>LLM-features</td>\n",
       "      <td>DecisionTree</td>\n",
       "      <td>1.303000e+02</td>\n",
       "      <td>1.112000e+02</td>\n",
       "    </tr>\n",
       "    <tr>\n",
       "      <th>3</th>\n",
       "      <td>roberta</td>\n",
       "      <td>LLM-features</td>\n",
       "      <td>XGBoost</td>\n",
       "      <td>9.840000e+01</td>\n",
       "      <td>6.820000e+01</td>\n",
       "    </tr>\n",
       "    <tr>\n",
       "      <th>4</th>\n",
       "      <td>roberta</td>\n",
       "      <td>LLM-features + Report-features</td>\n",
       "      <td>Linear Regression</td>\n",
       "      <td>1.013000e+02</td>\n",
       "      <td>6.560000e+01</td>\n",
       "    </tr>\n",
       "    <tr>\n",
       "      <th>5</th>\n",
       "      <td>roberta</td>\n",
       "      <td>LLM-features + Report-features</td>\n",
       "      <td>ElasticNet</td>\n",
       "      <td>1.055000e+02</td>\n",
       "      <td>6.900000e+01</td>\n",
       "    </tr>\n",
       "    <tr>\n",
       "      <th>6</th>\n",
       "      <td>roberta</td>\n",
       "      <td>LLM-features + Report-features</td>\n",
       "      <td>DecisionTree</td>\n",
       "      <td>9.280000e+01</td>\n",
       "      <td>6.400000e+01</td>\n",
       "    </tr>\n",
       "    <tr>\n",
       "      <th>7</th>\n",
       "      <td>roberta</td>\n",
       "      <td>LLM-features + Report-features</td>\n",
       "      <td>XGBoost</td>\n",
       "      <td>7.110000e+01</td>\n",
       "      <td>4.260000e+01</td>\n",
       "    </tr>\n",
       "    <tr>\n",
       "      <th>8</th>\n",
       "      <td>bert</td>\n",
       "      <td>LLM-features</td>\n",
       "      <td>Linear Regression</td>\n",
       "      <td>1.044000e+02</td>\n",
       "      <td>6.880000e+01</td>\n",
       "    </tr>\n",
       "    <tr>\n",
       "      <th>9</th>\n",
       "      <td>bert</td>\n",
       "      <td>LLM-features</td>\n",
       "      <td>ElasticNet</td>\n",
       "      <td>1.185000e+02</td>\n",
       "      <td>7.940000e+01</td>\n",
       "    </tr>\n",
       "    <tr>\n",
       "      <th>10</th>\n",
       "      <td>bert</td>\n",
       "      <td>LLM-features</td>\n",
       "      <td>DecisionTree</td>\n",
       "      <td>1.259000e+02</td>\n",
       "      <td>1.045000e+02</td>\n",
       "    </tr>\n",
       "    <tr>\n",
       "      <th>11</th>\n",
       "      <td>bert</td>\n",
       "      <td>LLM-features</td>\n",
       "      <td>XGBoost</td>\n",
       "      <td>9.720000e+01</td>\n",
       "      <td>6.450000e+01</td>\n",
       "    </tr>\n",
       "    <tr>\n",
       "      <th>12</th>\n",
       "      <td>bert</td>\n",
       "      <td>LLM-features + Report-features</td>\n",
       "      <td>Linear Regression</td>\n",
       "      <td>1.060000e+02</td>\n",
       "      <td>6.280000e+01</td>\n",
       "    </tr>\n",
       "    <tr>\n",
       "      <th>13</th>\n",
       "      <td>bert</td>\n",
       "      <td>LLM-features + Report-features</td>\n",
       "      <td>ElasticNet</td>\n",
       "      <td>1.055000e+02</td>\n",
       "      <td>6.900000e+01</td>\n",
       "    </tr>\n",
       "    <tr>\n",
       "      <th>14</th>\n",
       "      <td>bert</td>\n",
       "      <td>LLM-features + Report-features</td>\n",
       "      <td>DecisionTree</td>\n",
       "      <td>9.210000e+01</td>\n",
       "      <td>6.250000e+01</td>\n",
       "    </tr>\n",
       "    <tr>\n",
       "      <th>15</th>\n",
       "      <td>bert</td>\n",
       "      <td>LLM-features + Report-features</td>\n",
       "      <td>XGBoost</td>\n",
       "      <td>7.090000e+01</td>\n",
       "      <td>4.000000e+01</td>\n",
       "    </tr>\n",
       "    <tr>\n",
       "      <th>16</th>\n",
       "      <td>gpt2</td>\n",
       "      <td>LLM-features</td>\n",
       "      <td>Linear Regression</td>\n",
       "      <td>inf</td>\n",
       "      <td>inf</td>\n",
       "    </tr>\n",
       "    <tr>\n",
       "      <th>17</th>\n",
       "      <td>gpt2</td>\n",
       "      <td>LLM-features</td>\n",
       "      <td>ElasticNet</td>\n",
       "      <td>1.185000e+02</td>\n",
       "      <td>7.940000e+01</td>\n",
       "    </tr>\n",
       "    <tr>\n",
       "      <th>18</th>\n",
       "      <td>gpt2</td>\n",
       "      <td>LLM-features</td>\n",
       "      <td>DecisionTree</td>\n",
       "      <td>1.185000e+02</td>\n",
       "      <td>7.940000e+01</td>\n",
       "    </tr>\n",
       "    <tr>\n",
       "      <th>19</th>\n",
       "      <td>gpt2</td>\n",
       "      <td>LLM-features</td>\n",
       "      <td>XGBoost</td>\n",
       "      <td>1.185000e+02</td>\n",
       "      <td>7.940000e+01</td>\n",
       "    </tr>\n",
       "    <tr>\n",
       "      <th>20</th>\n",
       "      <td>gpt2</td>\n",
       "      <td>LLM-features + Report-features</td>\n",
       "      <td>Linear Regression</td>\n",
       "      <td>2.132279e+63</td>\n",
       "      <td>3.889603e+60</td>\n",
       "    </tr>\n",
       "    <tr>\n",
       "      <th>21</th>\n",
       "      <td>gpt2</td>\n",
       "      <td>LLM-features + Report-features</td>\n",
       "      <td>ElasticNet</td>\n",
       "      <td>1.055000e+02</td>\n",
       "      <td>6.900000e+01</td>\n",
       "    </tr>\n",
       "    <tr>\n",
       "      <th>22</th>\n",
       "      <td>gpt2</td>\n",
       "      <td>LLM-features + Report-features</td>\n",
       "      <td>DecisionTree</td>\n",
       "      <td>9.030000e+01</td>\n",
       "      <td>6.520000e+01</td>\n",
       "    </tr>\n",
       "    <tr>\n",
       "      <th>23</th>\n",
       "      <td>gpt2</td>\n",
       "      <td>LLM-features + Report-features</td>\n",
       "      <td>XGBoost</td>\n",
       "      <td>7.050000e+01</td>\n",
       "      <td>4.370000e+01</td>\n",
       "    </tr>\n",
       "    <tr>\n",
       "      <th>24</th>\n",
       "      <td>mt5</td>\n",
       "      <td>LLM-features</td>\n",
       "      <td>Linear Regression</td>\n",
       "      <td>1.119000e+02</td>\n",
       "      <td>7.190000e+01</td>\n",
       "    </tr>\n",
       "    <tr>\n",
       "      <th>25</th>\n",
       "      <td>mt5</td>\n",
       "      <td>LLM-features</td>\n",
       "      <td>ElasticNet</td>\n",
       "      <td>1.185000e+02</td>\n",
       "      <td>7.940000e+01</td>\n",
       "    </tr>\n",
       "    <tr>\n",
       "      <th>26</th>\n",
       "      <td>mt5</td>\n",
       "      <td>LLM-features</td>\n",
       "      <td>DecisionTree</td>\n",
       "      <td>1.464000e+02</td>\n",
       "      <td>1.310000e+02</td>\n",
       "    </tr>\n",
       "    <tr>\n",
       "      <th>27</th>\n",
       "      <td>mt5</td>\n",
       "      <td>LLM-features</td>\n",
       "      <td>XGBoost</td>\n",
       "      <td>1.092000e+02</td>\n",
       "      <td>7.230000e+01</td>\n",
       "    </tr>\n",
       "    <tr>\n",
       "      <th>28</th>\n",
       "      <td>mt5</td>\n",
       "      <td>LLM-features + Report-features</td>\n",
       "      <td>Linear Regression</td>\n",
       "      <td>1.031000e+02</td>\n",
       "      <td>6.620000e+01</td>\n",
       "    </tr>\n",
       "    <tr>\n",
       "      <th>29</th>\n",
       "      <td>mt5</td>\n",
       "      <td>LLM-features + Report-features</td>\n",
       "      <td>ElasticNet</td>\n",
       "      <td>1.055000e+02</td>\n",
       "      <td>6.900000e+01</td>\n",
       "    </tr>\n",
       "    <tr>\n",
       "      <th>30</th>\n",
       "      <td>mt5</td>\n",
       "      <td>LLM-features + Report-features</td>\n",
       "      <td>DecisionTree</td>\n",
       "      <td>9.420000e+01</td>\n",
       "      <td>6.610000e+01</td>\n",
       "    </tr>\n",
       "    <tr>\n",
       "      <th>31</th>\n",
       "      <td>mt5</td>\n",
       "      <td>LLM-features + Report-features</td>\n",
       "      <td>XGBoost</td>\n",
       "      <td>7.260000e+01</td>\n",
       "      <td>4.370000e+01</td>\n",
       "    </tr>\n",
       "    <tr>\n",
       "      <th>32</th>\n",
       "      <td>xlnet</td>\n",
       "      <td>LLM-features</td>\n",
       "      <td>Linear Regression</td>\n",
       "      <td>1.050000e+02</td>\n",
       "      <td>6.840000e+01</td>\n",
       "    </tr>\n",
       "    <tr>\n",
       "      <th>33</th>\n",
       "      <td>xlnet</td>\n",
       "      <td>LLM-features</td>\n",
       "      <td>ElasticNet</td>\n",
       "      <td>1.148000e+02</td>\n",
       "      <td>7.280000e+01</td>\n",
       "    </tr>\n",
       "    <tr>\n",
       "      <th>34</th>\n",
       "      <td>xlnet</td>\n",
       "      <td>LLM-features</td>\n",
       "      <td>DecisionTree</td>\n",
       "      <td>1.270000e+02</td>\n",
       "      <td>1.038000e+02</td>\n",
       "    </tr>\n",
       "    <tr>\n",
       "      <th>35</th>\n",
       "      <td>xlnet</td>\n",
       "      <td>LLM-features</td>\n",
       "      <td>XGBoost</td>\n",
       "      <td>9.660000e+01</td>\n",
       "      <td>6.240000e+01</td>\n",
       "    </tr>\n",
       "    <tr>\n",
       "      <th>36</th>\n",
       "      <td>xlnet</td>\n",
       "      <td>LLM-features + Report-features</td>\n",
       "      <td>Linear Regression</td>\n",
       "      <td>1.088000e+02</td>\n",
       "      <td>6.030000e+01</td>\n",
       "    </tr>\n",
       "    <tr>\n",
       "      <th>37</th>\n",
       "      <td>xlnet</td>\n",
       "      <td>LLM-features + Report-features</td>\n",
       "      <td>ElasticNet</td>\n",
       "      <td>1.055000e+02</td>\n",
       "      <td>6.900000e+01</td>\n",
       "    </tr>\n",
       "    <tr>\n",
       "      <th>38</th>\n",
       "      <td>xlnet</td>\n",
       "      <td>LLM-features + Report-features</td>\n",
       "      <td>DecisionTree</td>\n",
       "      <td>9.260000e+01</td>\n",
       "      <td>6.070000e+01</td>\n",
       "    </tr>\n",
       "    <tr>\n",
       "      <th>39</th>\n",
       "      <td>xlnet</td>\n",
       "      <td>LLM-features + Report-features</td>\n",
       "      <td>XGBoost</td>\n",
       "      <td>7.070000e+01</td>\n",
       "      <td>3.920000e+01</td>\n",
       "    </tr>\n",
       "  </tbody>\n",
       "</table>\n",
       "</div>"
      ],
      "text/plain": [
       "   Language Model                        Features              Model  \\\n",
       "0         roberta                    LLM-features  Linear Regression   \n",
       "1         roberta                    LLM-features         ElasticNet   \n",
       "2         roberta                    LLM-features       DecisionTree   \n",
       "3         roberta                    LLM-features            XGBoost   \n",
       "4         roberta  LLM-features + Report-features  Linear Regression   \n",
       "5         roberta  LLM-features + Report-features         ElasticNet   \n",
       "6         roberta  LLM-features + Report-features       DecisionTree   \n",
       "7         roberta  LLM-features + Report-features            XGBoost   \n",
       "8            bert                    LLM-features  Linear Regression   \n",
       "9            bert                    LLM-features         ElasticNet   \n",
       "10           bert                    LLM-features       DecisionTree   \n",
       "11           bert                    LLM-features            XGBoost   \n",
       "12           bert  LLM-features + Report-features  Linear Regression   \n",
       "13           bert  LLM-features + Report-features         ElasticNet   \n",
       "14           bert  LLM-features + Report-features       DecisionTree   \n",
       "15           bert  LLM-features + Report-features            XGBoost   \n",
       "16           gpt2                    LLM-features  Linear Regression   \n",
       "17           gpt2                    LLM-features         ElasticNet   \n",
       "18           gpt2                    LLM-features       DecisionTree   \n",
       "19           gpt2                    LLM-features            XGBoost   \n",
       "20           gpt2  LLM-features + Report-features  Linear Regression   \n",
       "21           gpt2  LLM-features + Report-features         ElasticNet   \n",
       "22           gpt2  LLM-features + Report-features       DecisionTree   \n",
       "23           gpt2  LLM-features + Report-features            XGBoost   \n",
       "24            mt5                    LLM-features  Linear Regression   \n",
       "25            mt5                    LLM-features         ElasticNet   \n",
       "26            mt5                    LLM-features       DecisionTree   \n",
       "27            mt5                    LLM-features            XGBoost   \n",
       "28            mt5  LLM-features + Report-features  Linear Regression   \n",
       "29            mt5  LLM-features + Report-features         ElasticNet   \n",
       "30            mt5  LLM-features + Report-features       DecisionTree   \n",
       "31            mt5  LLM-features + Report-features            XGBoost   \n",
       "32          xlnet                    LLM-features  Linear Regression   \n",
       "33          xlnet                    LLM-features         ElasticNet   \n",
       "34          xlnet                    LLM-features       DecisionTree   \n",
       "35          xlnet                    LLM-features            XGBoost   \n",
       "36          xlnet  LLM-features + Report-features  Linear Regression   \n",
       "37          xlnet  LLM-features + Report-features         ElasticNet   \n",
       "38          xlnet  LLM-features + Report-features       DecisionTree   \n",
       "39          xlnet  LLM-features + Report-features            XGBoost   \n",
       "\n",
       "    Average RMSE  Average MAPE  \n",
       "0   1.049000e+02  7.070000e+01  \n",
       "1   1.185000e+02  7.940000e+01  \n",
       "2   1.303000e+02  1.112000e+02  \n",
       "3   9.840000e+01  6.820000e+01  \n",
       "4   1.013000e+02  6.560000e+01  \n",
       "5   1.055000e+02  6.900000e+01  \n",
       "6   9.280000e+01  6.400000e+01  \n",
       "7   7.110000e+01  4.260000e+01  \n",
       "8   1.044000e+02  6.880000e+01  \n",
       "9   1.185000e+02  7.940000e+01  \n",
       "10  1.259000e+02  1.045000e+02  \n",
       "11  9.720000e+01  6.450000e+01  \n",
       "12  1.060000e+02  6.280000e+01  \n",
       "13  1.055000e+02  6.900000e+01  \n",
       "14  9.210000e+01  6.250000e+01  \n",
       "15  7.090000e+01  4.000000e+01  \n",
       "16           inf           inf  \n",
       "17  1.185000e+02  7.940000e+01  \n",
       "18  1.185000e+02  7.940000e+01  \n",
       "19  1.185000e+02  7.940000e+01  \n",
       "20  2.132279e+63  3.889603e+60  \n",
       "21  1.055000e+02  6.900000e+01  \n",
       "22  9.030000e+01  6.520000e+01  \n",
       "23  7.050000e+01  4.370000e+01  \n",
       "24  1.119000e+02  7.190000e+01  \n",
       "25  1.185000e+02  7.940000e+01  \n",
       "26  1.464000e+02  1.310000e+02  \n",
       "27  1.092000e+02  7.230000e+01  \n",
       "28  1.031000e+02  6.620000e+01  \n",
       "29  1.055000e+02  6.900000e+01  \n",
       "30  9.420000e+01  6.610000e+01  \n",
       "31  7.260000e+01  4.370000e+01  \n",
       "32  1.050000e+02  6.840000e+01  \n",
       "33  1.148000e+02  7.280000e+01  \n",
       "34  1.270000e+02  1.038000e+02  \n",
       "35  9.660000e+01  6.240000e+01  \n",
       "36  1.088000e+02  6.030000e+01  \n",
       "37  1.055000e+02  6.900000e+01  \n",
       "38  9.260000e+01  6.070000e+01  \n",
       "39  7.070000e+01  3.920000e+01  "
      ]
     },
     "execution_count": 104,
     "metadata": {},
     "output_type": "execute_result"
    }
   ],
   "source": [
    "results_df"
   ]
  },
  {
   "cell_type": "code",
   "execution_count": 105,
   "id": "5473b90f",
   "metadata": {},
   "outputs": [],
   "source": [
    "def calculate_average(df):\n",
    "    df = df.copy()  # Make a copy of the DataFrame to avoid modifying the original\n",
    "    # Group by 'Features' and 'Model', then calculate mean for 'Average RMSE' and 'Average MAPE'\n",
    "    df_avg = df.groupby(['Language Model','Features', 'Model'], as_index=False).mean()\n",
    "    \n",
    "    return df_avg\n",
    "results_df = calculate_average(results_df)"
   ]
  },
  {
   "cell_type": "code",
   "execution_count": 106,
   "id": "667f5f85",
   "metadata": {},
   "outputs": [],
   "source": [
    "def calculate_average(df):\n",
    "    df = df.copy()  # Make a copy of the DataFrame to avoid modifying the original\n",
    "    # Group by 'Features' and 'Model', then calculate mean for 'Average RMSE' and 'Average MAPE'\n",
    "    df_avg = df.groupby(['Language Model','Features', 'Model'], as_index=False).mean()\n",
    "    \n",
    "    return df_avg\n",
    "results_df = calculate_average(results_df)\n",
    "results_df.to_csv('results-LLM-32.csv')"
   ]
  },
  {
   "cell_type": "code",
   "execution_count": 90,
   "id": "99fb3a72",
   "metadata": {},
   "outputs": [],
   "source": [
    "# !pip install hpelm"
   ]
  },
  {
   "cell_type": "code",
   "execution_count": 30,
   "id": "b8d94ff7",
   "metadata": {},
   "outputs": [
    {
     "name": "stdout",
     "output_type": "stream",
     "text": [
      "Collecting xgboost\n",
      "  Downloading xgboost-1.5.2-py3-none-manylinux2014_x86_64.whl (173.6 MB)\n",
      "     |████████████████████████████████| 173.6 MB 17.9 MB/s                                        | 1.3 MB 5.0 MB/s eta 0:00:355.0 MB/s eta 0:00:34              | 10.6 MB 5.0 MB/s eta 0:00:33                        | 25.0 MB 5.0 MB/s eta 0:00:303 MB 5.0 MB/s eta 0:00:29�▊                         | 36.6 MB 5.0 MB/s eta 0:00:28          | 40.8 MB 5.0 MB/s eta 0:00:27:16                 | 51.6 MB 7.8 MB/s eta 0:00:16                 | 53.9 MB 7.8 MB/s eta 0:00:161615                | 60.5 MB 7.8 MB/s eta 0:00:15  |███████████▊                    | 63.6 MB 7.8 MB/s eta 0:00:15███                  | 75.9 MB 20.1 MB/s eta 0:00:05�██████████▉               | 91.3 MB 20.1 MB/s eta 0:00:05█████████████              | 97.3 MB 20.1 MB/s eta 0:00:04��█▎             | 98.9 MB 20.1 MB/s eta 0:00:04  |███████████████████▍            | 105.5 MB 20.1 MB/s eta 0:00:04    |███████████████████▊            | 107.1 MB 64.2 MB/s eta 0:00:02��██████████████████▌           | 111.2 MB 64.2 MB/s eta 0:00:01B 64.2 MB/s eta 0:00:01B 64.2 MB/s eta 0:00:01��████████▏       | 130.9 MB 64.2 MB/s eta 0:00:01█████▍       | 132.6 MB 64.2 MB/s eta 0:00:01��██████████████████████       | 135.6 MB 64.2 MB/s eta 0:00:01██████▎      | 137.3 MB 64.2 MB/s eta 0:00:01 7.9 MB/s eta 0:00:05 | 148.5 MB 7.9 MB/s eta 0:00:04 �█████████    | 152.3 MB 7.9 MB/s eta 0:00:03 ��████████▎   | 153.5 MB 7.9 MB/s eta 0:00:03 ��█████████   | 157.8 MB 7.9 MB/s eta 0:00:02 ��███████████████████▏  | 158.4 MB 7.9 MB/s eta 0:00:02 ��███████████████████▌  | 159.9 MB 7.9 MB/s eta 0:00:02 ��███████████████████▉  | 162.0 MB 7.9 MB/s eta 0:00:02  |██████████████████████████████▋ | 166.1 MB 7.9 MB/s eta 0:00:01 ��█████████████████████████▉ | 167.3 MB 7.9 MB/s eta 0:00:01 \n",
      "\u001b[?25hRequirement already satisfied: scipy in ./ENV/lib/python3.6/site-packages (from xgboost) (1.5.4)\n",
      "Requirement already satisfied: numpy in ./ENV/lib/python3.6/site-packages (from xgboost) (1.19.5)\n",
      "Installing collected packages: xgboost\n",
      "Successfully installed xgboost-1.5.2\n"
     ]
    }
   ],
   "source": [
    "!pip install xgboost"
   ]
  },
  {
   "cell_type": "code",
   "execution_count": null,
   "id": "e98aded6",
   "metadata": {},
   "outputs": [],
   "source": []
  }
 ],
 "metadata": {
  "kernelspec": {
   "display_name": "Python 3",
   "language": "python",
   "name": "python3"
  },
  "language_info": {
   "codemirror_mode": {
    "name": "ipython",
    "version": 3
   },
   "file_extension": ".py",
   "mimetype": "text/x-python",
   "name": "python",
   "nbconvert_exporter": "python",
   "pygments_lexer": "ipython3",
   "version": "3.6.8"
  }
 },
 "nbformat": 4,
 "nbformat_minor": 5
}
